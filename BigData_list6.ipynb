{
 "cells": [
  {
   "cell_type": "code",
   "execution_count": 5,
   "id": "563b0c49-d7a6-4993-ac6d-37b8eb4ed1ae",
   "metadata": {},
   "outputs": [],
   "source": [
    "import matplotlib.pyplot as plt\n",
    "import pandas as pd\n",
    "from sklearn import metrics\n",
    "\n",
    "import findspark\n",
    "findspark.init()\n",
    "import pyspark\n",
    "from pyspark.sql import SparkSession\n",
    "\n",
    "from pyspark.ml.classification import LogisticRegression, DecisionTreeClassifier, RandomForestClassifier\n",
    "from pyspark.ml.evaluation import BinaryClassificationEvaluator\n",
    "from pyspark.ml.tuning import ParamGridBuilder, CrossValidator\n",
    "from pyspark.ml.evaluation import MulticlassClassificationEvaluator\n",
    "\n"
   ]
  },
  {
   "cell_type": "code",
   "execution_count": 6,
   "id": "227f9693-bb8d-442d-b832-99dafa560531",
   "metadata": {},
   "outputs": [],
   "source": [
    "spark = SparkSession.builder.appName(\"Bank\").getOrCreate()\n",
    "\n",
    "data = spark.read.csv(path='bank.csv',\n",
    "                         sep=',',\n",
    "                         encoding='UTF-8',\n",
    "                         comment=None,\n",
    "                         header=True,\n",
    "                         inferSchema=True)"
   ]
  },
  {
   "cell_type": "code",
   "execution_count": 7,
   "id": "d88097ab-c0d0-4ebe-bca5-7dfd2e90fd18",
   "metadata": {},
   "outputs": [
    {
     "name": "stdout",
     "output_type": "stream",
     "text": [
      "+---+----------+-------+---------+-------+-------+-------+----+-------+---+-----+--------+--------+-----+--------+--------+-------+\n",
      "|age|job       |marital|education|default|balance|housing|loan|contact|day|month|duration|campaign|pdays|previous|poutcome|deposit|\n",
      "+---+----------+-------+---------+-------+-------+-------+----+-------+---+-----+--------+--------+-----+--------+--------+-------+\n",
      "|59 |admin.    |married|secondary|no     |2343   |yes    |no  |unknown|5  |may  |1042    |1       |-1   |0       |unknown |yes    |\n",
      "|56 |admin.    |married|secondary|no     |45     |no     |no  |unknown|5  |may  |1467    |1       |-1   |0       |unknown |yes    |\n",
      "|41 |technician|married|secondary|no     |1270   |yes    |no  |unknown|5  |may  |1389    |1       |-1   |0       |unknown |yes    |\n",
      "|55 |services  |married|secondary|no     |2476   |yes    |no  |unknown|5  |may  |579     |1       |-1   |0       |unknown |yes    |\n",
      "|54 |admin.    |married|tertiary |no     |184    |no     |no  |unknown|5  |may  |673     |2       |-1   |0       |unknown |yes    |\n",
      "+---+----------+-------+---------+-------+-------+-------+----+-------+---+-----+--------+--------+-----+--------+--------+-------+\n",
      "only showing top 5 rows\n",
      "\n"
     ]
    }
   ],
   "source": [
    "data.show(n=5, truncate=False)\n"
   ]
  },
  {
   "cell_type": "code",
   "execution_count": 8,
   "id": "92335714-7ec9-4c27-89c4-6b4d2d778db8",
   "metadata": {},
   "outputs": [
    {
     "name": "stdout",
     "output_type": "stream",
     "text": [
      "17 11162\n"
     ]
    }
   ],
   "source": [
    "print(len(data.columns), data.count())\n"
   ]
  },
  {
   "cell_type": "code",
   "execution_count": 9,
   "id": "7b810c48-4e4c-4969-9e9d-593c26ccf392",
   "metadata": {},
   "outputs": [
    {
     "name": "stdout",
     "output_type": "stream",
     "text": [
      "root\n",
      " |-- age: integer (nullable = true)\n",
      " |-- job: string (nullable = true)\n",
      " |-- marital: string (nullable = true)\n",
      " |-- education: string (nullable = true)\n",
      " |-- default: string (nullable = true)\n",
      " |-- balance: integer (nullable = true)\n",
      " |-- housing: string (nullable = true)\n",
      " |-- loan: string (nullable = true)\n",
      " |-- contact: string (nullable = true)\n",
      " |-- day: integer (nullable = true)\n",
      " |-- month: string (nullable = true)\n",
      " |-- duration: integer (nullable = true)\n",
      " |-- campaign: integer (nullable = true)\n",
      " |-- pdays: integer (nullable = true)\n",
      " |-- previous: integer (nullable = true)\n",
      " |-- poutcome: string (nullable = true)\n",
      " |-- deposit: string (nullable = true)\n",
      "\n"
     ]
    }
   ],
   "source": [
    "data.printSchema()\n"
   ]
  },
  {
   "cell_type": "code",
   "execution_count": 10,
   "id": "a42a8e31-f796-4da8-b286-b8d1728d2bbf",
   "metadata": {},
   "outputs": [],
   "source": [
    "def find_missing_values_columns(df):\n",
    "    nrow = df.count()\n",
    "    for v in df.columns:\n",
    "        summary_df = df.select(v).describe()\n",
    "        v_count = int(summary_df.collect()[0][v])\n",
    "        if v_count < nrow:\n",
    "            missing_percentage = (1 - v_count/nrow) * 100\n",
    "            print( #\"Total observations: \" + str(nrow) + \"\\n\"\n",
    "                 #\"Total observations of \" + v + \": \" + str(v_count) + \"\\n\"\n",
    "                 \"Percentage of missing values: \" + str(missing_percentage) + \"%\" + \"\\n\"\n",
    "                 \"----------------------------\")\n"
   ]
  },
  {
   "cell_type": "code",
   "execution_count": 11,
   "id": "f380349e-ecce-41d4-8b9d-683ccd5ce5d9",
   "metadata": {},
   "outputs": [],
   "source": [
    "find_missing_values_columns(data)\n"
   ]
  },
  {
   "cell_type": "code",
   "execution_count": 12,
   "id": "76e87b81-d37f-446f-b3c5-19d702e3831d",
   "metadata": {},
   "outputs": [
    {
     "name": "stdout",
     "output_type": "stream",
     "text": [
      "+-------+-----+\n",
      "|deposit|count|\n",
      "+-------+-----+\n",
      "|     no| 5873|\n",
      "|    yes| 5289|\n",
      "+-------+-----+\n",
      "\n"
     ]
    }
   ],
   "source": [
    "data.groupBy(\"deposit\").count().show()\n"
   ]
  },
  {
   "cell_type": "markdown",
   "id": "7cea6506-8fdd-466e-a9b7-3a31559d5f59",
   "metadata": {},
   "source": [
    "### Transform string data"
   ]
  },
  {
   "cell_type": "code",
   "execution_count": 13,
   "id": "55688d97-cd71-42da-926d-0a8d53bbb231",
   "metadata": {},
   "outputs": [],
   "source": [
    "from pyspark.ml.feature import StringIndexer, OneHotEncoder, VectorAssembler\n",
    "from pyspark.ml import Pipeline"
   ]
  },
  {
   "cell_type": "code",
   "execution_count": 14,
   "id": "d3de3a76-52da-4099-b6aa-eade27f31442",
   "metadata": {},
   "outputs": [],
   "source": [
    "label_string_indexer = StringIndexer(inputCol = 'deposit', outputCol = 'label')\n",
    "\n",
    "categorical_columns = ['job', 'marital', 'education', 'default', 'housing', 'loan', 'contact', 'poutcome']\n"
   ]
  },
  {
   "cell_type": "code",
   "execution_count": 15,
   "id": "469fc130-1e25-413c-99c8-477a9f413cb3",
   "metadata": {},
   "outputs": [],
   "source": [
    "indexers = [\n",
    "    StringIndexer(inputCol=col, outputCol=\"{0}_indexed\".format(col))\n",
    "    for col in categorical_columns\n",
    "]\n",
    "\n",
    "encoders = OneHotEncoder(inputCols=[indexer.getOutputCol() for indexer in indexers],\n",
    "                         outputCols=[\"{0}_encoded\".format(indexer.getOutputCol()) for indexer in indexers])\n",
    "\n",
    "numericCols = ['age', 'balance', 'campaign', 'pdays', 'previous']\n",
    "\n",
    "assembler_inputs = [out_col for out_col in encoders.getOutputCols()] + numericCols\n",
    "assembler = VectorAssembler(inputCols=assembler_inputs, outputCol=\"features\")\n",
    "\n",
    "all_stages = indexers + [encoders] + [assembler] + [label_string_indexer]\n",
    "\n",
    "pipeline = Pipeline(stages=all_stages)\n",
    "pipelineModel = pipeline.fit(data)\n",
    "\n",
    "\n"
   ]
  },
  {
   "cell_type": "code",
   "execution_count": 16,
   "id": "a39df95f-ccc4-4425-99f8-eef54f639280",
   "metadata": {},
   "outputs": [],
   "source": [
    "data_updated = pipelineModel.transform(data)"
   ]
  },
  {
   "cell_type": "code",
   "execution_count": 17,
   "id": "2e9de502-78d0-4d7b-9ee4-0ce9e2c58cf3",
   "metadata": {},
   "outputs": [
    {
     "name": "stdout",
     "output_type": "stream",
     "text": [
      "+---+----------+-------+---------+-------+-------+-------+----+-------+---+-----+--------+--------+-----+--------+--------+-------+--------------------+-----+\n",
      "|age|       job|marital|education|default|balance|housing|loan|contact|day|month|duration|campaign|pdays|previous|poutcome|deposit|            features|label|\n",
      "+---+----------+-------+---------+-------+-------+-------+----+-------+---+-----+--------+--------+-----+--------+--------+-------+--------------------+-----+\n",
      "| 59|    admin.|married|secondary|     no|   2343|    yes|  no|unknown|  5|  may|    1042|       1|   -1|       0| unknown|    yes|(29,[3,11,13,16,1...|  1.0|\n",
      "| 56|    admin.|married|secondary|     no|     45|     no|  no|unknown|  5|  may|    1467|       1|   -1|       0| unknown|    yes|(29,[3,11,13,16,1...|  1.0|\n",
      "| 41|technician|married|secondary|     no|   1270|    yes|  no|unknown|  5|  may|    1389|       1|   -1|       0| unknown|    yes|(29,[2,11,13,16,1...|  1.0|\n",
      "| 55|  services|married|secondary|     no|   2476|    yes|  no|unknown|  5|  may|     579|       1|   -1|       0| unknown|    yes|(29,[4,11,13,16,1...|  1.0|\n",
      "| 54|    admin.|married| tertiary|     no|    184|     no|  no|unknown|  5|  may|     673|       2|   -1|       0| unknown|    yes|(29,[3,11,14,16,1...|  1.0|\n",
      "+---+----------+-------+---------+-------+-------+-------+----+-------+---+-----+--------+--------+-----+--------+--------+-------+--------------------+-----+\n",
      "only showing top 5 rows\n",
      "\n"
     ]
    }
   ],
   "source": [
    "final_columns = data.columns + ['features', 'label']\n",
    "data_df = pipelineModel.transform(data).\\\n",
    "            select(final_columns)\n",
    "            \n",
    "data_df.show(5)"
   ]
  },
  {
   "cell_type": "code",
   "execution_count": 18,
   "id": "2f557245-a477-48b6-b3e0-389800843515",
   "metadata": {},
   "outputs": [
    {
     "name": "stdout",
     "output_type": "stream",
     "text": [
      "+-----+-------+-----+\n",
      "|label|deposit|count|\n",
      "+-----+-------+-----+\n",
      "|  0.0|     no| 5873|\n",
      "|  1.0|    yes| 5289|\n",
      "+-----+-------+-----+\n",
      "\n"
     ]
    }
   ],
   "source": [
    "data_df.groupBy(\"label\", 'deposit').count().show()\n"
   ]
  },
  {
   "cell_type": "markdown",
   "id": "fd04c30a-3434-418b-a98f-a65eb618330f",
   "metadata": {},
   "source": [
    "### DecisionTreeClassifier"
   ]
  },
  {
   "cell_type": "code",
   "execution_count": 32,
   "id": "6caa0f4b-b317-4f85-9548-c46cf5794a93",
   "metadata": {},
   "outputs": [],
   "source": [
    "def plot(predictions):\n",
    "    actual = predictions.select(['label']).collect()\n",
    "    predicted = predictions.select(['prediction']).collect()\n",
    "    confusion_matrix = metrics.confusion_matrix(actual, predicted)\n",
    "    cm_display = metrics.ConfusionMatrixDisplay(confusion_matrix = confusion_matrix, display_labels = [0, 1])\n",
    "    cm_display.plot()\n",
    "    plt.show()"
   ]
  },
  {
   "cell_type": "code",
   "execution_count": 20,
   "id": "90b48499-9545-4ac0-a2e8-401c499d42e5",
   "metadata": {},
   "outputs": [
    {
     "name": "stdout",
     "output_type": "stream",
     "text": [
      "+--------------------+---------------+--------------------+----------+-----+\n",
      "|            features|  rawPrediction|         probability|prediction|label|\n",
      "+--------------------+---------------+--------------------+----------+-----+\n",
      "|(29,[7,12,15,16,1...|   [68.0,778.0]|[0.08037825059101...|       1.0|  1.0|\n",
      "|(29,[7,12,16,17,1...|[1579.0,2005.0]|[0.44056919642857...|       1.0|  1.0|\n",
      "|(29,[3,12,13,16,1...|[1579.0,2005.0]|[0.44056919642857...|       1.0|  0.0|\n",
      "|(29,[7,11,16,17,1...|[1579.0,2005.0]|[0.44056919642857...|       1.0|  1.0|\n",
      "|(29,[7,12,15,16,1...|[1579.0,2005.0]|[0.44056919642857...|       1.0|  0.0|\n",
      "|(29,[7,12,15,16,1...|[1579.0,2005.0]|[0.44056919642857...|       1.0|  0.0|\n",
      "|(29,[7,12,15,16,1...|[1579.0,2005.0]|[0.44056919642857...|       1.0|  1.0|\n",
      "|(29,[7,12,16,17,1...|[1579.0,2005.0]|[0.44056919642857...|       1.0|  1.0|\n",
      "|(29,[1,12,13,16,1...|   [68.0,778.0]|[0.08037825059101...|       1.0|  0.0|\n",
      "|(29,[0,12,14,16,1...|[1579.0,2005.0]|[0.44056919642857...|       1.0|  0.0|\n",
      "+--------------------+---------------+--------------------+----------+-----+\n",
      "only showing top 10 rows\n",
      "\n"
     ]
    }
   ],
   "source": [
    "train, test = data_df.randomSplit([0.8, 0.2], seed=1234)\n",
    "dt = DecisionTreeClassifier(featuresCol='features', labelCol='label', maxDepth = 3)\n",
    "dtModel = dt.fit(train)\n",
    "dt_predictions = dtModel.transform(test)\n",
    "dt_predictions.select('features', 'rawPrediction', 'probability', 'prediction', 'label').show(10)\n"
   ]
  },
  {
   "cell_type": "code",
   "execution_count": 34,
   "id": "e0c33219-9e9a-45d2-9f75-52dccf2ee2ee",
   "metadata": {},
   "outputs": [
    {
     "data": {
      "image/png": "[encoded data removed]",
      "text/plain": [
       "<Figure size 640x480 with 2 Axes>"
      ]
     },
     "metadata": {},
     "output_type": "display_data"
    }
   ],
   "source": [
    "plot(dt_predictions)"
   ]
  },
  {
   "cell_type": "code",
   "execution_count": 36,
   "id": "8b59a47f-9886-47b2-b6cb-daf26e2df133",
   "metadata": {},
   "outputs": [
    {
     "data": {
      "text/plain": [
       "0.6533453075886844"
      ]
     },
     "execution_count": 36,
     "metadata": {},
     "output_type": "execute_result"
    }
   ],
   "source": [
    "evaluator = MulticlassClassificationEvaluator(predictionCol='prediction', labelCol='label', metricName='accuracy')\n",
    "accuracy = evaluator.evaluate(dt_predictions)\n",
    "accuracy"
   ]
  },
  {
   "cell_type": "markdown",
   "id": "ad9070d1-3a7b-4057-967a-13becc4fad0e",
   "metadata": {},
   "source": [
    "### LogisticRegression"
   ]
  },
  {
   "cell_type": "code",
   "execution_count": 37,
   "id": "e24e4606-01b3-448d-a8d6-8d9e0fe1cd7e",
   "metadata": {},
   "outputs": [
    {
     "name": "stdout",
     "output_type": "stream",
     "text": [
      "+--------------------+--------------------+--------------------+----------+-----+\n",
      "|            features|       rawPrediction|         probability|prediction|label|\n",
      "+--------------------+--------------------+--------------------+----------+-----+\n",
      "|(29,[7,12,15,16,1...|[-3.1199923242656...|[0.04229008272070...|       1.0|  1.0|\n",
      "|(29,[7,12,16,17,1...|[-0.9976553158369...|[0.26940266392730...|       1.0|  1.0|\n",
      "|(29,[3,12,13,16,1...|[-0.1441618014758...|[0.46402183811283...|       1.0|  0.0|\n",
      "|(29,[7,11,16,17,1...|[-0.7307832228538...|[0.32502287809052...|       1.0|  1.0|\n",
      "|(29,[7,12,15,16,1...|[-0.6438861224187...|[0.34436860519730...|       1.0|  0.0|\n",
      "|(29,[7,12,15,16,1...|[-1.2563078751444...|[0.22161012567774...|       1.0|  0.0|\n",
      "|(29,[7,12,15,16,1...|[-1.0267137773510...|[0.26372170280607...|       1.0|  1.0|\n",
      "|(29,[7,12,16,17,1...|[-1.0218543484514...|[0.26466635335379...|       1.0|  1.0|\n",
      "|(29,[1,12,13,16,1...|[-2.4398795518962...|[0.08018179509345...|       1.0|  0.0|\n",
      "|(29,[0,12,14,16,1...|[-0.0583843355063...|[0.48540806088709...|       1.0|  0.0|\n",
      "+--------------------+--------------------+--------------------+----------+-----+\n",
      "only showing top 10 rows\n",
      "\n"
     ]
    },
    {
     "data": {
      "text/plain": [
       "0.6811854512797485"
      ]
     },
     "execution_count": 37,
     "metadata": {},
     "output_type": "execute_result"
    }
   ],
   "source": [
    "lr = LogisticRegression(featuresCol = 'features', labelCol = 'label')\n",
    "lr_model = lr.fit(train)\n",
    "lr_predictions = lr_model.transform(test)\n",
    "lr_predictions.select('features', 'rawPrediction', 'probability', 'prediction', 'label').show(10)\n",
    "accuracy = evaluator.evaluate(lr_predictions)\n",
    "accuracy"
   ]
  },
  {
   "cell_type": "code",
   "execution_count": 38,
   "id": "ca24bf9b-e55d-444a-ad1a-063f323aebc1",
   "metadata": {},
   "outputs": [
    {
     "data": {
      "image/png": "[encoded data removed]",
      "text/plain": [
       "<Figure size 640x480 with 2 Axes>"
      ]
     },
     "metadata": {},
     "output_type": "display_data"
    }
   ],
   "source": [
    "plot(lr_predictions)"
   ]
  },
  {
   "cell_type": "markdown",
   "id": "7c2b72a8-f7b4-4a1b-812c-09b36a85949c",
   "metadata": {},
   "source": [
    "### Random forest"
   ]
  },
  {
   "cell_type": "code",
   "execution_count": 23,
   "id": "d8fb3821-a719-4e05-b332-2f724927c337",
   "metadata": {},
   "outputs": [
    {
     "name": "stdout",
     "output_type": "stream",
     "text": [
      "+--------------------+--------------------+--------------------+----------+-----+\n",
      "|            features|       rawPrediction|         probability|prediction|label|\n",
      "+--------------------+--------------------+--------------------+----------+-----+\n",
      "|(29,[7,12,15,16,1...|[1.72835138967643...|[0.17283513896764...|       1.0|  1.0|\n",
      "|(29,[7,12,16,17,1...|[4.20673404201495...|[0.42067340420149...|       1.0|  1.0|\n",
      "|(29,[3,12,13,16,1...|[4.22318909179206...|[0.42231890917920...|       1.0|  0.0|\n",
      "|(29,[7,11,16,17,1...|[3.04698746987021...|[0.30469874698702...|       1.0|  1.0|\n",
      "|(29,[7,12,15,16,1...|[4.60081897843985...|[0.46008189784398...|       1.0|  0.0|\n",
      "|(29,[7,12,15,16,1...|[3.47253677792711...|[0.34725367779271...|       1.0|  0.0|\n",
      "|(29,[7,12,15,16,1...|[3.8089996807723,...|[0.38089996807723...|       1.0|  1.0|\n",
      "|(29,[7,12,16,17,1...|[3.8089996807723,...|[0.38089996807723...|       1.0|  1.0|\n",
      "|(29,[1,12,13,16,1...|[1.55935825757173...|[0.15593582575717...|       1.0|  0.0|\n",
      "|(29,[0,12,14,16,1...|[4.33846064834301...|[0.43384606483430...|       1.0|  0.0|\n",
      "+--------------------+--------------------+--------------------+----------+-----+\n",
      "only showing top 10 rows\n",
      "\n"
     ]
    }
   ],
   "source": [
    "rf = RandomForestClassifier(featuresCol = 'features', labelCol = 'label',  numTrees=10)\n",
    "rf_model = rf.fit(train)\n",
    "rf_predictions = rf_model.transform(test)\n",
    "rf_predictions.select('features', 'rawPrediction', 'probability', 'prediction', 'label').show(10)\n",
    "accuracy = evaluator.evaluate(rf_predictions)\n"
   ]
  },
  {
   "cell_type": "code",
   "execution_count": 33,
   "id": "b57adc48-265d-46a0-908f-e713ba737e72",
   "metadata": {},
   "outputs": [
    {
     "data": {
      "image/png": "[encoded data removed]",
      "text/plain": [
       "<Figure size 640x480 with 2 Axes>"
      ]
     },
     "metadata": {},
     "output_type": "display_data"
    }
   ],
   "source": [
    "plot(rf_predictions)"
   ]
  },
  {
   "cell_type": "markdown",
   "id": "dd883e17-80e4-4d1a-b673-f5d68e32ec70",
   "metadata": {},
   "source": [
    "### Linear Support Vector Machine"
   ]
  },
  {
   "cell_type": "code",
   "execution_count": 25,
   "id": "84c85ea5-594a-49d8-b918-96437062d026",
   "metadata": {},
   "outputs": [],
   "source": [
    "from pyspark.ml.classification import LinearSVC\n",
    "lsvc = LinearSVC(maxIter=10, regParam=0.1)\n",
    "lsvc_model= lsvc.fit(train)\n",
    "lsvc_predictions = lsvc_model.transform(test)\n",
    "lsvc_accuracy = evaluator.evaluate(lsvc_predictions)\n"
   ]
  },
  {
   "cell_type": "code",
   "execution_count": null,
   "id": "e24de2c5-c16d-4b24-93eb-8127021003b5",
   "metadata": {},
   "outputs": [],
   "source": []
  },
  {
   "cell_type": "code",
   "execution_count": 26,
   "id": "69fde9fb-9b8d-4d39-8a4f-c188edcb1708",
   "metadata": {},
   "outputs": [],
   "source": [
    "dt_accuracy = evaluator.evaluate(dt_predictions)\n",
    "lr_accuracy = evaluator.evaluate(lr_predictions)\n",
    "rf_accuracy = evaluator.evaluate(rf_predictions)\n",
    "lsvc_accuracy = evaluator.evaluate(lsvc_predictions)\n"
   ]
  },
  {
   "cell_type": "code",
   "execution_count": 39,
   "id": "2d1d6f40-bda9-4dab-932a-a7fa66c9098c",
   "metadata": {},
   "outputs": [
    {
     "data": {
      "image/png": "[encoded data removed]",
      "text/plain": [
       "<Figure size 640x480 with 2 Axes>"
      ]
     },
     "metadata": {},
     "output_type": "display_data"
    }
   ],
   "source": [
    "plot(lsvc_predictions)"
   ]
  },
  {
   "cell_type": "code",
   "execution_count": 31,
   "id": "69028ba0-8145-478e-86d5-6fc4c1bbc850",
   "metadata": {},
   "outputs": [
    {
     "name": "stdout",
     "output_type": "stream",
     "text": [
      "DecisionTreeClassifier: 0.6533453075886844 \n",
      "Logistic Regression: 0.6811854512797485 \n",
      "Random Forest: 0.6879209699146834 \n",
      "Linear Support Vector Machine: 0.6802873821284239\n"
     ]
    }
   ],
   "source": [
    "print(\"DecisionTreeClassifier:\", dt_accuracy, \"\\n\"+ \"Logistic Regression:\", lr_accuracy,   \"\\n\"+\n",
    "      \"Random Forest:\", rf_accuracy,  \"\\n\"+ \"Linear Support Vector Machine:\", lsvc_accuracy)"
   ]
  },
  {
   "cell_type": "code",
   "execution_count": 23,
   "id": "b3f1dce3-3182-4959-bf4b-b910084c9b52",
   "metadata": {},
   "outputs": [],
   "source": [
    "spark.stop()"
   ]
  },
  {
   "cell_type": "code",
   "execution_count": null,
   "id": "4e450912-434d-4cad-aca2-cefe9cb338a2",
   "metadata": {},
   "outputs": [],
   "source": []
  },
  {
   "cell_type": "code",
   "execution_count": null,
   "id": "72748409-8c95-4cef-8998-6c172aba9e2f",
   "metadata": {},
   "outputs": [],
   "source": []
  },
  {
   "cell_type": "code",
   "execution_count": null,
   "id": "fef98ce3-2817-41c5-ac23-ce03a3e9b159",
   "metadata": {},
   "outputs": [],
   "source": []
  },
  {
   "cell_type": "code",
   "execution_count": null,
   "id": "b2763950-c277-462f-ba0a-a4c08daefaca",
   "metadata": {},
   "outputs": [],
   "source": []
  },
  {
   "cell_type": "code",
   "execution_count": null,
   "id": "e3194269-54a1-46e4-b9fc-92e36e2de7c8",
   "metadata": {},
   "outputs": [],
   "source": []
  }
 ],
 "metadata": {
  "kernelspec": {
   "display_name": "Python 3 (ipykernel)",
   "language": "python",
   "name": "python3"
  },
  "language_info": {
   "codemirror_mode": {
    "name": "ipython",
    "version": 3
   },
   "file_extension": ".py",
   "mimetype": "text/x-python",
   "name": "python",
   "nbconvert_exporter": "python",
   "pygments_lexer": "ipython3",
   "version": "3.12.4"
  }
 },
 "nbformat": 4,
 "nbformat_minor": 5
}
