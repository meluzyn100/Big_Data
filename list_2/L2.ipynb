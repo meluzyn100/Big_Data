{
 "cells": [
  {
   "cell_type": "code",
   "execution_count": 35,
   "metadata": {},
   "outputs": [],
   "source": [
    "import numpy as np\n",
    "import pandas as pd\n",
    "import time\n",
    "from collections import Counter\n",
    "import matplotlib.pyplot as plt\n",
    "import seaborn as sns\n",
    "from tqdm import tqdm\n",
    "\n",
    "sns.set_style(\"darkgrid\")\n",
    "\n",
    "file_path = '311-service-requests-from-2010-to-present.csv'"
   ]
  },
  {
   "cell_type": "code",
   "execution_count": 178,
   "metadata": {},
   "outputs": [],
   "source": [
    "def get_chunk_data(chunk_size=10000, nrows=None):\n",
    "    chunk_data = pd.read_csv(\n",
    "        file_path,\n",
    "        chunksize=chunk_size,\n",
    "        usecols=[\"Unique Key\", \"Borough\", \"Agency\", \"Complaint Type\"],\n",
    "        nrows=nrows,\n",
    "        na_values=None)\n",
    "    return chunk_data"
   ]
  },
  {
   "cell_type": "markdown",
   "metadata": {},
   "source": [
    "# Task 1"
   ]
  },
  {
   "cell_type": "code",
   "execution_count": 192,
   "metadata": {},
   "outputs": [
    {
     "name": "stdout",
     "output_type": "stream",
     "text": [
      "CPU times: user 2.62 ms, sys: 199 µs, total: 2.82 ms\n",
      "Wall time: 2.33 ms\n"
     ]
    }
   ],
   "source": [
    "%%time\n",
    "chunk_data = get_chunk_data()"
   ]
  },
  {
   "cell_type": "code",
   "execution_count": 114,
   "metadata": {},
   "outputs": [
    {
     "name": "stderr",
     "output_type": "stream",
     "text": [
      "2196it [03:47,  9.64it/s]"
     ]
    },
    {
     "name": "stdout",
     "output_type": "stream",
     "text": [
      "CPU times: user 3min 1s, sys: 19.8 s, total: 3min 21s\n",
      "Wall time: 3min 47s\n"
     ]
    },
    {
     "name": "stderr",
     "output_type": "stream",
     "text": [
      "\n"
     ]
    }
   ],
   "source": [
    "%%time\n",
    "complaint_counter = Counter()\n",
    "borough_complaint_counter = {}\n",
    "agency_complaint_counter = {}\n",
    "start_time = time.time()\n",
    "\n",
    "for chunk in tqdm(chunk_data):\n",
    "    complaint_counter.update(chunk['Complaint Type'])\n",
    "\n",
    "    for borough, group in chunk.groupby('Borough'):\n",
    "        if borough not in borough_complaint_counter:\n",
    "            borough_complaint_counter[borough] = Counter()\n",
    "        borough_complaint_counter[borough].update(group['Complaint Type'])\n",
    "\n",
    "    for agency, group in chunk.groupby('Agency'):\n",
    "        if agency not in agency_complaint_counter:\n",
    "            agency_complaint_counter[agency] = Counter()\n",
    "        agency_complaint_counter[agency].update(group['Complaint Type'])\n",
    "        \n",
    "end_time = time.time()\n",
    "total_csv_time = end_time - start_time\n",
    "\n",
    "most_common_complaints = complaint_counter.most_common(5)\n",
    "\n",
    "most_common_complaints_borough = {borough: counter.most_common(1)[0] for borough, counter in borough_complaint_counter.items()}\n",
    "\n",
    "most_common_complaints_agency = {agency: counter.most_common(1)[0] for agency, counter in agency_complaint_counter.items()}"
   ]
  },
  {
   "cell_type": "code",
   "execution_count": 115,
   "metadata": {},
   "outputs": [
    {
     "name": "stdout",
     "output_type": "stream",
     "text": [
      "Most Common Complaints:\n"
     ]
    },
    {
     "data": {
      "text/html": [
       "<div>\n",
       "<style scoped>\n",
       "    .dataframe tbody tr th:only-of-type {\n",
       "        vertical-align: middle;\n",
       "    }\n",
       "\n",
       "    .dataframe tbody tr th {\n",
       "        vertical-align: top;\n",
       "    }\n",
       "\n",
       "    .dataframe thead th {\n",
       "        text-align: right;\n",
       "    }\n",
       "</style>\n",
       "<table border=\"1\" class=\"dataframe\">\n",
       "  <thead>\n",
       "    <tr style=\"text-align: right;\">\n",
       "      <th></th>\n",
       "      <th>0</th>\n",
       "      <th>1</th>\n",
       "    </tr>\n",
       "  </thead>\n",
       "  <tbody>\n",
       "    <tr>\n",
       "      <th>0</th>\n",
       "      <td>Illegal Parking</td>\n",
       "      <td>2484920</td>\n",
       "    </tr>\n",
       "    <tr>\n",
       "      <th>1</th>\n",
       "      <td>Noise - Residential</td>\n",
       "      <td>2087491</td>\n",
       "    </tr>\n",
       "    <tr>\n",
       "      <th>2</th>\n",
       "      <td>Blocked Driveway</td>\n",
       "      <td>1650587</td>\n",
       "    </tr>\n",
       "    <tr>\n",
       "      <th>3</th>\n",
       "      <td>Noise - Street/Sidewalk</td>\n",
       "      <td>1481688</td>\n",
       "    </tr>\n",
       "    <tr>\n",
       "      <th>4</th>\n",
       "      <td>For Hire Vehicle Complaint</td>\n",
       "      <td>901169</td>\n",
       "    </tr>\n",
       "  </tbody>\n",
       "</table>\n",
       "</div>"
      ],
      "text/plain": [
       "                            0        1\n",
       "0             Illegal Parking  2484920\n",
       "1         Noise - Residential  2087491\n",
       "2            Blocked Driveway  1650587\n",
       "3     Noise - Street/Sidewalk  1481688\n",
       "4  For Hire Vehicle Complaint   901169"
      ]
     },
     "execution_count": 115,
     "metadata": {},
     "output_type": "execute_result"
    }
   ],
   "source": [
    "print(f\"Most Common Complaints:\")\n",
    "pd.DataFrame(most_common_complaints)"
   ]
  },
  {
   "cell_type": "code",
   "execution_count": 116,
   "metadata": {},
   "outputs": [
    {
     "name": "stdout",
     "output_type": "stream",
     "text": [
      "Most Common Complaints in Each Borough:\n"
     ]
    },
    {
     "data": {
      "text/html": [
       "<div>\n",
       "<style scoped>\n",
       "    .dataframe tbody tr th:only-of-type {\n",
       "        vertical-align: middle;\n",
       "    }\n",
       "\n",
       "    .dataframe tbody tr th {\n",
       "        vertical-align: top;\n",
       "    }\n",
       "\n",
       "    .dataframe thead th {\n",
       "        text-align: right;\n",
       "    }\n",
       "</style>\n",
       "<table border=\"1\" class=\"dataframe\">\n",
       "  <thead>\n",
       "    <tr style=\"text-align: right;\">\n",
       "      <th></th>\n",
       "      <th>0</th>\n",
       "      <th>1</th>\n",
       "    </tr>\n",
       "  </thead>\n",
       "  <tbody>\n",
       "    <tr>\n",
       "      <th>BROOKLYN</th>\n",
       "      <td>Illegal Parking</td>\n",
       "      <td>867437</td>\n",
       "    </tr>\n",
       "    <tr>\n",
       "      <th>QUEENS</th>\n",
       "      <td>Illegal Parking</td>\n",
       "      <td>765734</td>\n",
       "    </tr>\n",
       "    <tr>\n",
       "      <th>MANHATTAN</th>\n",
       "      <td>For Hire Vehicle Complaint</td>\n",
       "      <td>570985</td>\n",
       "    </tr>\n",
       "    <tr>\n",
       "      <th>BRONX</th>\n",
       "      <td>Noise - Street/Sidewalk</td>\n",
       "      <td>421929</td>\n",
       "    </tr>\n",
       "    <tr>\n",
       "      <th>STATEN ISLAND</th>\n",
       "      <td>Illegal Parking</td>\n",
       "      <td>133694</td>\n",
       "    </tr>\n",
       "  </tbody>\n",
       "</table>\n",
       "</div>"
      ],
      "text/plain": [
       "                                        0       1\n",
       "BROOKLYN                  Illegal Parking  867437\n",
       "QUEENS                    Illegal Parking  765734\n",
       "MANHATTAN      For Hire Vehicle Complaint  570985\n",
       "BRONX             Noise - Street/Sidewalk  421929\n",
       "STATEN ISLAND             Illegal Parking  133694"
      ]
     },
     "execution_count": 116,
     "metadata": {},
     "output_type": "execute_result"
    }
   ],
   "source": [
    "print(f\"Most Common Complaints in Each Borough:\")\n",
    "pd.DataFrame(most_common_complaints_borough).T.sort_values(by=1, ascending=False).head()"
   ]
  },
  {
   "cell_type": "code",
   "execution_count": 117,
   "metadata": {},
   "outputs": [
    {
     "name": "stdout",
     "output_type": "stream",
     "text": [
      "Agencies with the Most Common Complaints:\n"
     ]
    },
    {
     "data": {
      "text/html": [
       "<div>\n",
       "<style scoped>\n",
       "    .dataframe tbody tr th:only-of-type {\n",
       "        vertical-align: middle;\n",
       "    }\n",
       "\n",
       "    .dataframe tbody tr th {\n",
       "        vertical-align: top;\n",
       "    }\n",
       "\n",
       "    .dataframe thead th {\n",
       "        text-align: right;\n",
       "    }\n",
       "</style>\n",
       "<table border=\"1\" class=\"dataframe\">\n",
       "  <thead>\n",
       "    <tr style=\"text-align: right;\">\n",
       "      <th></th>\n",
       "      <th>0</th>\n",
       "      <th>1</th>\n",
       "    </tr>\n",
       "  </thead>\n",
       "  <tbody>\n",
       "    <tr>\n",
       "      <th>NYPD</th>\n",
       "      <td>Illegal Parking</td>\n",
       "      <td>2484920</td>\n",
       "    </tr>\n",
       "    <tr>\n",
       "      <th>TLC</th>\n",
       "      <td>For Hire Vehicle Complaint</td>\n",
       "      <td>901169</td>\n",
       "    </tr>\n",
       "    <tr>\n",
       "      <th>DOT</th>\n",
       "      <td>Street Condition</td>\n",
       "      <td>712470</td>\n",
       "    </tr>\n",
       "    <tr>\n",
       "      <th>DEP</th>\n",
       "      <td>Water System</td>\n",
       "      <td>557700</td>\n",
       "    </tr>\n",
       "    <tr>\n",
       "      <th>DOB</th>\n",
       "      <td>General Construction/Plumbing</td>\n",
       "      <td>488075</td>\n",
       "    </tr>\n",
       "  </tbody>\n",
       "</table>\n",
       "</div>"
      ],
      "text/plain": [
       "                                  0        1\n",
       "NYPD                Illegal Parking  2484920\n",
       "TLC      For Hire Vehicle Complaint   901169\n",
       "DOT                Street Condition   712470\n",
       "DEP                    Water System   557700\n",
       "DOB   General Construction/Plumbing   488075"
      ]
     },
     "execution_count": 117,
     "metadata": {},
     "output_type": "execute_result"
    }
   ],
   "source": [
    "print(f\"Agencies with the Most Common Complaints:\")\n",
    "pd.DataFrame(most_common_complaints_agency).T.sort_values(by=1, ascending=False).head()"
   ]
  },
  {
   "cell_type": "code",
   "execution_count": 118,
   "metadata": {},
   "outputs": [
    {
     "name": "stdout",
     "output_type": "stream",
     "text": [
      "Total time taken for CSV processing: 227.73s\n"
     ]
    }
   ],
   "source": [
    "print(f\"Total time taken for CSV processing: {total_csv_time:.2f}s\")"
   ]
  },
  {
   "cell_type": "markdown",
   "metadata": {},
   "source": [
    "# Task 2"
   ]
  },
  {
   "cell_type": "code",
   "execution_count": 119,
   "metadata": {},
   "outputs": [],
   "source": [
    "from sqlalchemy import MetaData, create_engine, Table, Column, Integer, String, text\n",
    "from sqlalchemy.ext.declarative import declarative_base\n",
    "from sqlalchemy.orm import sessionmaker"
   ]
  },
  {
   "cell_type": "markdown",
   "metadata": {},
   "source": [
    "### SQLite"
   ]
  },
  {
   "cell_type": "code",
   "execution_count": 145,
   "metadata": {},
   "outputs": [
    {
     "name": "stderr",
     "output_type": "stream",
     "text": [
      "2196it [06:54,  5.30it/s]"
     ]
    },
    {
     "name": "stdout",
     "output_type": "stream",
     "text": [
      "CPU times: user 5min 36s, sys: 22.7 s, total: 5min 58s\n",
      "Wall time: 6min 57s\n"
     ]
    },
    {
     "name": "stderr",
     "output_type": "stream",
     "text": [
      "\n"
     ]
    }
   ],
   "source": [
    "%%time\n",
    "SQLITE_SQLALCHEMY_DATABASE_URL = \"sqlite:///./sqlite.db\"\n",
    "# SQLITE_SQLALCHEMY_DATABASE_URL = \"mysql+mysqlconnector://root:@127.0.0.1/Big_data_lsit_2\"\n",
    "chunk_data = get_chunk_data()\n",
    "\n",
    "sqlite_engine = create_engine(SQLITE_SQLALCHEMY_DATABASE_URL, echo=False)\n",
    "with sqlite_engine.connect() as connection:\n",
    "    connection.execute(text(\"DROP TABLE IF EXISTS chunk_data\"))\n",
    "    connection.execute(text('PRAGMA journal_mode = OFF;'))\n",
    "    for chunk in tqdm(chunk_data):\n",
    "        connection.execute(text('BEGIN TRANSACTION;'))\n",
    "        chunk.to_sql(\"chunk_data\", sqlite_engine, if_exists=\"append\", chunksize=1000)\n",
    "        connection.execute(text('COMMIT;'))\n",
    "    connection.execute(text('PRAGMA journal_mode = DELETE;'))\n"
   ]
  },
  {
   "cell_type": "code",
   "execution_count": 148,
   "metadata": {},
   "outputs": [],
   "source": [
    "def sql_task(engine):\n",
    "    with engine.connect() as connection:\n",
    "        # cursor = connection.cursor()\n",
    "        sql_query = \"\"\"\n",
    "            SELECT\n",
    "                `Complaint Type`, COUNT(*) AS ComplaintCount\n",
    "            FROM\n",
    "                chunk_data\n",
    "            GROUP BY \n",
    "                `Complaint Type` \n",
    "            ORDER BY\n",
    "                ComplaintCount\n",
    "            DESC\n",
    "            LIMIT 5;\n",
    "            \"\"\"\n",
    "        sqllife_most_common_complaints = pd.read_sql_query(sql_query, connection)\n",
    "\n",
    "        f_sql_query = \"\"\"\n",
    "           WITH\n",
    "                ComplaintCounts AS(\n",
    "                SELECT\n",
    "                    {column},\n",
    "                    `Complaint Type`,\n",
    "                    COUNT(*) AS ComplaintCount\n",
    "                FROM\n",
    "                    chunk_data\n",
    "                GROUP BY\n",
    "                    {column},\n",
    "                    `Complaint Type`\n",
    "            ),\n",
    "            MaxComplaintCounts AS(\n",
    "                SELECT\n",
    "                    {column},\n",
    "                    MAX(ComplaintCount) AS MaxComplaintCount\n",
    "                FROM\n",
    "                    ComplaintCounts\n",
    "                GROUP BY\n",
    "                    {column}\n",
    "                ORDER BY\n",
    "                    MaxComplaintCount\n",
    "                DESC\n",
    "                LIMIT 5\n",
    "            )\n",
    "\n",
    "            SELECT\n",
    "                c.{column},\n",
    "                c.`Complaint Type`,\n",
    "                c.ComplaintCount\n",
    "            FROM\n",
    "                ComplaintCounts AS c\n",
    "            JOIN MaxComplaintCounts AS m ON\n",
    "                c.{column} = m.{column} AND c.ComplaintCount = m.MaxComplaintCount\n",
    "            ORDER BY\n",
    "                c.ComplaintCount\n",
    "            DESC;\n",
    "            \"\"\"\n",
    "\n",
    "        sql_query = f_sql_query.format(column=\"Borough\")\n",
    "        sqllife_most_common_complaints_borough = pd.read_sql_query(sql_query, connection)\n",
    "        \n",
    "        sql_query = f_sql_query.format(column=\"Agency\")\n",
    "        sqllife_most_common_complaints_agency = pd.read_sql_query(sql_query, connection)\n",
    "    return sqllife_most_common_complaints, sqllife_most_common_complaints_borough, sqllife_most_common_complaints_agency"
   ]
  },
  {
   "cell_type": "code",
   "execution_count": 149,
   "metadata": {},
   "outputs": [
    {
     "name": "stdout",
     "output_type": "stream",
     "text": [
      "CPU times: user 1min 43s, sys: 11.8 s, total: 1min 55s\n",
      "Wall time: 2min 22s\n"
     ]
    }
   ],
   "source": [
    "%%time\n",
    "sqlite_most_common_complaints, sqlite_most_common_complaints_borough, sqlite_most_common_complaints_agency = sql_task(sqlite_engine)"
   ]
  },
  {
   "cell_type": "code",
   "execution_count": 150,
   "metadata": {},
   "outputs": [
    {
     "data": {
      "text/html": [
       "<div>\n",
       "<style scoped>\n",
       "    .dataframe tbody tr th:only-of-type {\n",
       "        vertical-align: middle;\n",
       "    }\n",
       "\n",
       "    .dataframe tbody tr th {\n",
       "        vertical-align: top;\n",
       "    }\n",
       "\n",
       "    .dataframe thead th {\n",
       "        text-align: right;\n",
       "    }\n",
       "</style>\n",
       "<table border=\"1\" class=\"dataframe\">\n",
       "  <thead>\n",
       "    <tr style=\"text-align: right;\">\n",
       "      <th></th>\n",
       "      <th>Complaint Type</th>\n",
       "      <th>ComplaintCount</th>\n",
       "    </tr>\n",
       "  </thead>\n",
       "  <tbody>\n",
       "    <tr>\n",
       "      <th>0</th>\n",
       "      <td>Illegal Parking</td>\n",
       "      <td>2484920</td>\n",
       "    </tr>\n",
       "    <tr>\n",
       "      <th>1</th>\n",
       "      <td>Noise - Residential</td>\n",
       "      <td>2087491</td>\n",
       "    </tr>\n",
       "    <tr>\n",
       "      <th>2</th>\n",
       "      <td>Blocked Driveway</td>\n",
       "      <td>1650587</td>\n",
       "    </tr>\n",
       "    <tr>\n",
       "      <th>3</th>\n",
       "      <td>Noise - Street/Sidewalk</td>\n",
       "      <td>1481688</td>\n",
       "    </tr>\n",
       "    <tr>\n",
       "      <th>4</th>\n",
       "      <td>For Hire Vehicle Complaint</td>\n",
       "      <td>901169</td>\n",
       "    </tr>\n",
       "  </tbody>\n",
       "</table>\n",
       "</div>"
      ],
      "text/plain": [
       "               Complaint Type  ComplaintCount\n",
       "0             Illegal Parking         2484920\n",
       "1         Noise - Residential         2087491\n",
       "2            Blocked Driveway         1650587\n",
       "3     Noise - Street/Sidewalk         1481688\n",
       "4  For Hire Vehicle Complaint          901169"
      ]
     },
     "execution_count": 150,
     "metadata": {},
     "output_type": "execute_result"
    }
   ],
   "source": [
    "sqlite_most_common_complaints"
   ]
  },
  {
   "cell_type": "code",
   "execution_count": 151,
   "metadata": {},
   "outputs": [
    {
     "data": {
      "text/html": [
       "<div>\n",
       "<style scoped>\n",
       "    .dataframe tbody tr th:only-of-type {\n",
       "        vertical-align: middle;\n",
       "    }\n",
       "\n",
       "    .dataframe tbody tr th {\n",
       "        vertical-align: top;\n",
       "    }\n",
       "\n",
       "    .dataframe thead th {\n",
       "        text-align: right;\n",
       "    }\n",
       "</style>\n",
       "<table border=\"1\" class=\"dataframe\">\n",
       "  <thead>\n",
       "    <tr style=\"text-align: right;\">\n",
       "      <th></th>\n",
       "      <th>Borough</th>\n",
       "      <th>Complaint Type</th>\n",
       "      <th>ComplaintCount</th>\n",
       "    </tr>\n",
       "  </thead>\n",
       "  <tbody>\n",
       "    <tr>\n",
       "      <th>0</th>\n",
       "      <td>BROOKLYN</td>\n",
       "      <td>Illegal Parking</td>\n",
       "      <td>867437</td>\n",
       "    </tr>\n",
       "    <tr>\n",
       "      <th>1</th>\n",
       "      <td>QUEENS</td>\n",
       "      <td>Illegal Parking</td>\n",
       "      <td>765734</td>\n",
       "    </tr>\n",
       "    <tr>\n",
       "      <th>2</th>\n",
       "      <td>MANHATTAN</td>\n",
       "      <td>For Hire Vehicle Complaint</td>\n",
       "      <td>570985</td>\n",
       "    </tr>\n",
       "    <tr>\n",
       "      <th>3</th>\n",
       "      <td>BRONX</td>\n",
       "      <td>Noise - Street/Sidewalk</td>\n",
       "      <td>421929</td>\n",
       "    </tr>\n",
       "    <tr>\n",
       "      <th>4</th>\n",
       "      <td>STATEN ISLAND</td>\n",
       "      <td>Illegal Parking</td>\n",
       "      <td>133694</td>\n",
       "    </tr>\n",
       "  </tbody>\n",
       "</table>\n",
       "</div>"
      ],
      "text/plain": [
       "         Borough              Complaint Type  ComplaintCount\n",
       "0       BROOKLYN             Illegal Parking          867437\n",
       "1         QUEENS             Illegal Parking          765734\n",
       "2      MANHATTAN  For Hire Vehicle Complaint          570985\n",
       "3          BRONX     Noise - Street/Sidewalk          421929\n",
       "4  STATEN ISLAND             Illegal Parking          133694"
      ]
     },
     "execution_count": 151,
     "metadata": {},
     "output_type": "execute_result"
    }
   ],
   "source": [
    "sqlite_most_common_complaints_borough"
   ]
  },
  {
   "cell_type": "code",
   "execution_count": 152,
   "metadata": {},
   "outputs": [
    {
     "data": {
      "text/html": [
       "<div>\n",
       "<style scoped>\n",
       "    .dataframe tbody tr th:only-of-type {\n",
       "        vertical-align: middle;\n",
       "    }\n",
       "\n",
       "    .dataframe tbody tr th {\n",
       "        vertical-align: top;\n",
       "    }\n",
       "\n",
       "    .dataframe thead th {\n",
       "        text-align: right;\n",
       "    }\n",
       "</style>\n",
       "<table border=\"1\" class=\"dataframe\">\n",
       "  <thead>\n",
       "    <tr style=\"text-align: right;\">\n",
       "      <th></th>\n",
       "      <th>Agency</th>\n",
       "      <th>Complaint Type</th>\n",
       "      <th>ComplaintCount</th>\n",
       "    </tr>\n",
       "  </thead>\n",
       "  <tbody>\n",
       "    <tr>\n",
       "      <th>0</th>\n",
       "      <td>NYPD</td>\n",
       "      <td>Illegal Parking</td>\n",
       "      <td>2484920</td>\n",
       "    </tr>\n",
       "    <tr>\n",
       "      <th>1</th>\n",
       "      <td>TLC</td>\n",
       "      <td>For Hire Vehicle Complaint</td>\n",
       "      <td>901169</td>\n",
       "    </tr>\n",
       "    <tr>\n",
       "      <th>2</th>\n",
       "      <td>DOT</td>\n",
       "      <td>Street Condition</td>\n",
       "      <td>712470</td>\n",
       "    </tr>\n",
       "    <tr>\n",
       "      <th>3</th>\n",
       "      <td>DEP</td>\n",
       "      <td>Water System</td>\n",
       "      <td>557700</td>\n",
       "    </tr>\n",
       "    <tr>\n",
       "      <th>4</th>\n",
       "      <td>DOB</td>\n",
       "      <td>General Construction/Plumbing</td>\n",
       "      <td>488075</td>\n",
       "    </tr>\n",
       "  </tbody>\n",
       "</table>\n",
       "</div>"
      ],
      "text/plain": [
       "  Agency                 Complaint Type  ComplaintCount\n",
       "0   NYPD                Illegal Parking         2484920\n",
       "1    TLC     For Hire Vehicle Complaint          901169\n",
       "2    DOT               Street Condition          712470\n",
       "3    DEP                   Water System          557700\n",
       "4    DOB  General Construction/Plumbing          488075"
      ]
     },
     "execution_count": 152,
     "metadata": {},
     "output_type": "execute_result"
    }
   ],
   "source": [
    "sqlite_most_common_complaints_agency"
   ]
  },
  {
   "cell_type": "markdown",
   "metadata": {},
   "source": [
    "### MYSQL"
   ]
  },
  {
   "cell_type": "code",
   "execution_count": 161,
   "metadata": {},
   "outputs": [
    {
     "name": "stderr",
     "output_type": "stream",
     "text": [
      "2196it [20:47,  1.76it/s]\n"
     ]
    }
   ],
   "source": [
    "\n",
    "MYSQL_SQLALCHEMY_DATABASE_URL = \"mysql+mysqlconnector://root:@127.0.0.1/Big_data_lsit_2\"\n",
    "mysql_engine = create_engine(\n",
    "    MYSQL_SQLALCHEMY_DATABASE_URL, echo=False,\n",
    "    pool_size=10,\n",
    "    max_overflow=20,\n",
    ")\n",
    "chunk_data = get_chunk_data()\n",
    "\n",
    "with mysql_engine.connect() as connection:\n",
    "    connection.execute(text(\"DROP TABLE IF EXISTS chunk_data\"))\n",
    "    # connection.execute(text('PRAGMA journal_mode = OFF;'))\n",
    "    for chunk in tqdm(chunk_data):\n",
    "        # connection.execute(text('BEGIN TRANSACTION;'))\n",
    "        chunk.to_sql(\"chunk_data\", mysql_engine, if_exists=\"append\", chunksize=1000)\n",
    "        # connection.execute(text('COMMIT;'))\n",
    "    # connection.execute(text('PRAGMA journal_mode = DELETE;'))\n"
   ]
  },
  {
   "cell_type": "code",
   "execution_count": 162,
   "metadata": {},
   "outputs": [
    {
     "name": "stdout",
     "output_type": "stream",
     "text": [
      "CPU times: user 36.2 ms, sys: 918 µs, total: 37.1 ms\n",
      "Wall time: 8min 59s\n"
     ]
    }
   ],
   "source": [
    "%%time\n",
    "mysql_most_common_complaints, mysql_most_common_complaints_borough, mysql_most_common_complaints_agency = sql_task(mysql_engine)"
   ]
  },
  {
   "cell_type": "code",
   "execution_count": 165,
   "metadata": {},
   "outputs": [
    {
     "data": {
      "text/html": [
       "<div>\n",
       "<style scoped>\n",
       "    .dataframe tbody tr th:only-of-type {\n",
       "        vertical-align: middle;\n",
       "    }\n",
       "\n",
       "    .dataframe tbody tr th {\n",
       "        vertical-align: top;\n",
       "    }\n",
       "\n",
       "    .dataframe thead th {\n",
       "        text-align: right;\n",
       "    }\n",
       "</style>\n",
       "<table border=\"1\" class=\"dataframe\">\n",
       "  <thead>\n",
       "    <tr style=\"text-align: right;\">\n",
       "      <th></th>\n",
       "      <th>Complaint Type</th>\n",
       "      <th>ComplaintCount</th>\n",
       "    </tr>\n",
       "  </thead>\n",
       "  <tbody>\n",
       "    <tr>\n",
       "      <th>0</th>\n",
       "      <td>Illegal Parking</td>\n",
       "      <td>2484920</td>\n",
       "    </tr>\n",
       "    <tr>\n",
       "      <th>1</th>\n",
       "      <td>Noise - Residential</td>\n",
       "      <td>2087491</td>\n",
       "    </tr>\n",
       "    <tr>\n",
       "      <th>2</th>\n",
       "      <td>Blocked Driveway</td>\n",
       "      <td>1650587</td>\n",
       "    </tr>\n",
       "    <tr>\n",
       "      <th>3</th>\n",
       "      <td>Noise - Street/Sidewalk</td>\n",
       "      <td>1481688</td>\n",
       "    </tr>\n",
       "    <tr>\n",
       "      <th>4</th>\n",
       "      <td>For Hire Vehicle Complaint</td>\n",
       "      <td>901169</td>\n",
       "    </tr>\n",
       "  </tbody>\n",
       "</table>\n",
       "</div>"
      ],
      "text/plain": [
       "               Complaint Type  ComplaintCount\n",
       "0             Illegal Parking         2484920\n",
       "1         Noise - Residential         2087491\n",
       "2            Blocked Driveway         1650587\n",
       "3     Noise - Street/Sidewalk         1481688\n",
       "4  For Hire Vehicle Complaint          901169"
      ]
     },
     "execution_count": 165,
     "metadata": {},
     "output_type": "execute_result"
    }
   ],
   "source": [
    "mysql_most_common_complaints"
   ]
  },
  {
   "cell_type": "code",
   "execution_count": 166,
   "metadata": {},
   "outputs": [
    {
     "data": {
      "text/html": [
       "<div>\n",
       "<style scoped>\n",
       "    .dataframe tbody tr th:only-of-type {\n",
       "        vertical-align: middle;\n",
       "    }\n",
       "\n",
       "    .dataframe tbody tr th {\n",
       "        vertical-align: top;\n",
       "    }\n",
       "\n",
       "    .dataframe thead th {\n",
       "        text-align: right;\n",
       "    }\n",
       "</style>\n",
       "<table border=\"1\" class=\"dataframe\">\n",
       "  <thead>\n",
       "    <tr style=\"text-align: right;\">\n",
       "      <th></th>\n",
       "      <th>Borough</th>\n",
       "      <th>Complaint Type</th>\n",
       "      <th>ComplaintCount</th>\n",
       "    </tr>\n",
       "  </thead>\n",
       "  <tbody>\n",
       "    <tr>\n",
       "      <th>0</th>\n",
       "      <td>BROOKLYN</td>\n",
       "      <td>Illegal Parking</td>\n",
       "      <td>867437</td>\n",
       "    </tr>\n",
       "    <tr>\n",
       "      <th>1</th>\n",
       "      <td>QUEENS</td>\n",
       "      <td>Illegal Parking</td>\n",
       "      <td>765734</td>\n",
       "    </tr>\n",
       "    <tr>\n",
       "      <th>2</th>\n",
       "      <td>MANHATTAN</td>\n",
       "      <td>For Hire Vehicle Complaint</td>\n",
       "      <td>570985</td>\n",
       "    </tr>\n",
       "    <tr>\n",
       "      <th>3</th>\n",
       "      <td>BRONX</td>\n",
       "      <td>Noise - Street/Sidewalk</td>\n",
       "      <td>421929</td>\n",
       "    </tr>\n",
       "    <tr>\n",
       "      <th>4</th>\n",
       "      <td>STATEN ISLAND</td>\n",
       "      <td>Illegal Parking</td>\n",
       "      <td>133694</td>\n",
       "    </tr>\n",
       "  </tbody>\n",
       "</table>\n",
       "</div>"
      ],
      "text/plain": [
       "         Borough              Complaint Type  ComplaintCount\n",
       "0       BROOKLYN             Illegal Parking          867437\n",
       "1         QUEENS             Illegal Parking          765734\n",
       "2      MANHATTAN  For Hire Vehicle Complaint          570985\n",
       "3          BRONX     Noise - Street/Sidewalk          421929\n",
       "4  STATEN ISLAND             Illegal Parking          133694"
      ]
     },
     "execution_count": 166,
     "metadata": {},
     "output_type": "execute_result"
    }
   ],
   "source": [
    "mysql_most_common_complaints_borough"
   ]
  },
  {
   "cell_type": "markdown",
   "metadata": {},
   "source": [
    "## Task 3"
   ]
  },
  {
   "cell_type": "code",
   "execution_count": 173,
   "metadata": {},
   "outputs": [],
   "source": [
    "from multiprocessing import Pool\n",
    "\n",
    "\n",
    "def execute_query(engine, sql_query):\n",
    "    with engine.connect() as connection:\n",
    "        return pd.read_sql_query(sql_query, connection)\n",
    "\n",
    "\n",
    "f_sql_query = \"\"\"\n",
    "    WITH\n",
    "        ComplaintCounts AS(\n",
    "        SELECT\n",
    "            {column},\n",
    "            `Complaint Type`,\n",
    "            COUNT(*) AS ComplaintCount\n",
    "        FROM\n",
    "            chunk_data\n",
    "        GROUP BY\n",
    "            {column},\n",
    "            `Complaint Type`\n",
    "    ),\n",
    "    MaxComplaintCounts AS(\n",
    "        SELECT\n",
    "            {column},\n",
    "            MAX(ComplaintCount) AS MaxComplaintCount\n",
    "        FROM\n",
    "            ComplaintCounts\n",
    "        GROUP BY\n",
    "            {column}\n",
    "        ORDER BY\n",
    "            MaxComplaintCount\n",
    "        DESC\n",
    "        LIMIT 5\n",
    "    )\n",
    "\n",
    "    SELECT\n",
    "        c.{column},\n",
    "        c.`Complaint Type`,\n",
    "        c.ComplaintCount\n",
    "    FROM\n",
    "        ComplaintCounts AS c\n",
    "    JOIN MaxComplaintCounts AS m ON\n",
    "        c.{column} = m.{column} AND c.ComplaintCount = m.MaxComplaintCount\n",
    "    ORDER BY\n",
    "        c.ComplaintCount\n",
    "    DESC;\n",
    "    \"\"\"\n",
    "queries = [\n",
    "    \"\"\"\n",
    "        SELECT\n",
    "            `Complaint Type`, COUNT(*) AS ComplaintCount\n",
    "        FROM\n",
    "            chunk_data\n",
    "        GROUP BY \n",
    "            `Complaint Type` \n",
    "        ORDER BY\n",
    "            ComplaintCount\n",
    "        DESC\n",
    "        LIMIT 5;\n",
    "        \"\"\",\n",
    "    f_sql_query.format(column=\"Borough\"),\n",
    "    f_sql_query.format(column=\"Agency\")\n",
    "]\n"
   ]
  },
  {
   "cell_type": "code",
   "execution_count": 175,
   "metadata": {},
   "outputs": [
    {
     "name": "stderr",
     "output_type": "stream",
     "text": [
      "100%|██████████| 3/3 [01:17<00:00, 25.96s/it]"
     ]
    },
    {
     "name": "stdout",
     "output_type": "stream",
     "text": [
      "CPU times: user 33.4 ms, sys: 68.4 ms, total: 102 ms\n",
      "Wall time: 1min 18s\n"
     ]
    },
    {
     "name": "stderr",
     "output_type": "stream",
     "text": [
      "\n"
     ]
    }
   ],
   "source": [
    "%%time\n",
    "def sqlite_pool(query):\n",
    "    return execute_query(sqlite_engine, query)\n",
    "\n",
    "with Pool(3) as pool:\n",
    "    results = list(tqdm(pool.imap(sqlite_pool, queries), total=len(queries)))"
   ]
  },
  {
   "cell_type": "code",
   "execution_count": 176,
   "metadata": {},
   "outputs": [],
   "source": [
    "from concurrent.futures import ThreadPoolExecutor\n",
    "\n",
    "def execute_query(engine, sql_query):\n",
    "    with engine.connect() as connection:\n",
    "        return pd.read_sql_query(sql_query, connection)\n",
    "\n",
    "\n",
    "def run_queries_concurrently(queries):\n",
    "    def mysql_pool(query):\n",
    "        return execute_query(mysql_engine, query)\n",
    "    \n",
    "    with ThreadPoolExecutor(max_workers=len(queries)) as executor:\n",
    "        results = list(tqdm(executor.map(mysql_pool, queries), total=len(queries)))\n",
    "    return results"
   ]
  },
  {
   "cell_type": "code",
   "execution_count": 177,
   "metadata": {},
   "outputs": [
    {
     "name": "stderr",
     "output_type": "stream",
     "text": [
      "0it [00:00, ?it/s]"
     ]
    },
    {
     "name": "stderr",
     "output_type": "stream",
     "text": [
      "3it [10:10, 203.52s/it]"
     ]
    },
    {
     "name": "stdout",
     "output_type": "stream",
     "text": [
      "CPU times: user 54.6 ms, sys: 4.51 ms, total: 59.1 ms\n",
      "Wall time: 10min 10s\n"
     ]
    },
    {
     "name": "stderr",
     "output_type": "stream",
     "text": [
      "\n"
     ]
    }
   ],
   "source": [
    "%%time\n",
    "results = run_queries_concurrently(queries)"
   ]
  }
 ],
 "metadata": {
  "kernelspec": {
   "display_name": "Python 3",
   "language": "python",
   "name": "python3"
  },
  "language_info": {
   "codemirror_mode": {
    "name": "ipython",
    "version": 3
   },
   "file_extension": ".py",
   "mimetype": "text/x-python",
   "name": "python",
   "nbconvert_exporter": "python",
   "pygments_lexer": "ipython3",
   "version": "3.10.12"
  }
 },
 "nbformat": 4,
 "nbformat_minor": 2
}
