{
 "cells": [
  {
   "cell_type": "code",
   "execution_count": 3,
   "metadata": {},
   "outputs": [],
   "source": [
    "import numpy as np\n",
    "from functools import reduce\n",
    "import time\n",
    "from multiprocessing import Pool\n",
    "import matplotlib.pyplot as plt\n",
    "from collections import Counter\n",
    "plt.rcParams.update({'font.size': 22})\n",
    "plt.rcParams[\"figure.figsize\"] = (10,5.5)\n",
    "import re\n",
    "from os import system, listdir, popen\n",
    "from time import sleep\n",
    "import csv\n",
    "from collections import Counter\n",
    "from pathlib import Path\n",
    "import random\n",
    "import requests\n",
    "import csv\n",
    "from io import StringIO\n",
    "from tqdm import tqdm\n",
    "import os "
   ]
  },
  {
   "cell_type": "markdown",
   "metadata": {},
   "source": [
    "### Task 1"
   ]
  },
  {
   "cell_type": "code",
   "execution_count": 36,
   "metadata": {},
   "outputs": [],
   "source": [
    "matrix = np.random.randint(0,10,size=(10000, 10000))"
   ]
  },
  {
   "cell_type": "code",
   "execution_count": 6,
   "metadata": {},
   "outputs": [],
   "source": [
    "def count(list_, a=0, b=5):\n",
    "    in_range = np.logical_and(list_>=a, list_<b)\n",
    "    count = np.sum(in_range) \n",
    "    return count\n",
    "\n",
    "def reduce_(a,b):\n",
    "    return a+b"
   ]
  },
  {
   "cell_type": "code",
   "execution_count": 38,
   "metadata": {},
   "outputs": [
    {
     "name": "stdout",
     "output_type": "stream",
     "text": [
      "Number of items in the range [0,5]:  49993598\n",
      "Time:  1.1009654998779297\n"
     ]
    }
   ],
   "source": [
    "start = time.time()\n",
    "part_count = list(map(count, matrix))\n",
    "result = reduce(reduce_, part_count)\n",
    "end = time.time()\n",
    "t = end-start\n",
    "print('Number of items in the range [0,5]: ', result)\n",
    "print('Time: ',t)"
   ]
  },
  {
   "cell_type": "code",
   "execution_count": 39,
   "metadata": {},
   "outputs": [
    {
     "name": "stdout",
     "output_type": "stream",
     "text": [
      "Number of items in the range [0,5]:  49993598\n",
      "Multiprocessing time:  6.841177463531494\n"
     ]
    }
   ],
   "source": [
    "start2 = time.time()\n",
    "if __name__ ==  '__main__': \n",
    "    num_processors = 4\n",
    "    p=Pool(processes = num_processors)\n",
    "    output1 = p.map(count, matrix)\n",
    "    output2 = reduce(reduce_, output1)\n",
    "end2 = time.time()\n",
    "t2 = end2-start2\n",
    "print('Number of items in the range [0,5]: ',output2)\n",
    "print('Multiprocessing time: ',t2)"
   ]
  },
  {
   "cell_type": "markdown",
   "metadata": {},
   "source": [
    "### Task 2 "
   ]
  },
  {
   "cell_type": "code",
   "execution_count": 42,
   "metadata": {},
   "outputs": [],
   "source": [
    "GUTENBERG_CSV_URL = \"https://www.gutenberg.org/cache/epub/feeds/pg_catalog.csv.gz\"\n",
    "GUTENBERG_TEXT = \"PROJECT GUTENBERG EBOOK \"\n",
    "GUTENBERG_TEXT_URL = \"https://www.gutenberg.org/ebooks/{id}.txt.utf-8\"\n",
    "GUTENBERG_ROBOT_URL = \"http://www.gutenberg.org/robot/harvest?filetypes[]=txt\"\n",
    "\n",
    "\n",
    "def strip_headers(text):\n",
    "    in_text = False\n",
    "    output = []\n",
    "    \n",
    "    for line in text.splitlines():        \n",
    "        if GUTENBERG_TEXT in line:\n",
    "            if not in_text:\n",
    "                in_text = True\n",
    "            else:\n",
    "                break\n",
    "        else:\n",
    "            if in_text:\n",
    "                output.append(line)\n",
    "\n",
    "    return \"\\n\".join(output).strip()\n",
    "\n",
    "def book_text(book_id):\n",
    "    r = requests.get(GUTENBERG_TEXT_URL.format(id=book_id))\n",
    "    text = r.text\n",
    "    clean_text = strip_headers(text)\n",
    "    return clean_text"
   ]
  },
  {
   "cell_type": "code",
   "execution_count": 45,
   "metadata": {},
   "outputs": [],
   "source": [
    "sample_nr = 100\n",
    "r = requests.get(GUTENBERG_CSV_URL)\n",
    "csv_text = r.content.decode(\"utf-8\")\n",
    "\n",
    "all_wodehouse_books = [book for book in csv.DictReader(StringIO(csv_text)) \n",
    "                    if book['Authors'] != \"\"\n",
    "                    and book['Language'] == 'en'\n",
    "                    and book['Title'] != 'No title'\n",
    "                    and book['Type'] == 'Text']\n",
    "\n",
    "wodehouse_books = random.sample(all_wodehouse_books, sample_nr)"
   ]
  },
  {
   "cell_type": "code",
   "execution_count": 46,
   "metadata": {},
   "outputs": [
    {
     "name": "stderr",
     "output_type": "stream",
     "text": [
      "  1%|          | 1/100 [00:01<02:25,  1.47s/it]"
     ]
    },
    {
     "name": "stdout",
     "output_type": "stream",
     "text": [
      "Saving Margery (Gred): A Tale Of Old Nuremberg — Volume 06 by Ebers, Georg, 1837-1898; Bell, Clara, 1834-1927 [Translator] containing 102_482 characters\n"
     ]
    },
    {
     "name": "stderr",
     "output_type": "stream",
     "text": [
      "  2%|▏         | 2/100 [00:03<02:36,  1.59s/it]"
     ]
    },
    {
     "name": "stdout",
     "output_type": "stream",
     "text": [
      "Saving Two Poets by Balzac, Honoré de, 1799-1850; Marriage, Ellen, 1865-1946 [Translator] containing 315_505 characters\n"
     ]
    },
    {
     "name": "stderr",
     "output_type": "stream",
     "text": [
      "  3%|▎         | 3/100 [00:04<02:15,  1.40s/it]"
     ]
    },
    {
     "name": "stdout",
     "output_type": "stream",
     "text": [
      "Saving Coal and Candlelight, and Other Verses by Eden, Helen Parry, 1885-1960 containing 42_991 characters\n"
     ]
    },
    {
     "name": "stderr",
     "output_type": "stream",
     "text": [
      "  4%|▍         | 4/100 [00:06<02:45,  1.72s/it]"
     ]
    },
    {
     "name": "stdout",
     "output_type": "stream",
     "text": [
      "Saving Illumination and Its Development in the Present Day by Farnsworth, Sidney, 1886-1926 containing 313_758 characters\n"
     ]
    },
    {
     "name": "stderr",
     "output_type": "stream",
     "text": [
      "  5%|▌         | 5/100 [00:10<03:57,  2.50s/it]"
     ]
    },
    {
     "name": "stdout",
     "output_type": "stream",
     "text": [
      "Saving A system of practical medicine. By American authors. Vol. 4 by Pepper, William, 1843-1898 [Editor]; Starr, Louis, 1849-1925 [Editor] containing 2_808_131 characters\n"
     ]
    },
    {
     "name": "stderr",
     "output_type": "stream",
     "text": [
      "  6%|▌         | 6/100 [00:12<03:37,  2.31s/it]"
     ]
    },
    {
     "name": "stdout",
     "output_type": "stream",
     "text": [
      "Saving Memoirs of General William T. Sherman — Volume 2 by Sherman, William T. (William Tecumseh), 1820-1891 containing 1_005_142 characters\n"
     ]
    },
    {
     "name": "stderr",
     "output_type": "stream",
     "text": [
      "  7%|▋         | 7/100 [00:14<03:40,  2.37s/it]"
     ]
    },
    {
     "name": "stdout",
     "output_type": "stream",
     "text": [
      "Saving Old Celtic Romances by Joyce, P. W. (Patrick Weston), 1827-1914 [Translator] containing 691_888 characters\n"
     ]
    },
    {
     "name": "stderr",
     "output_type": "stream",
     "text": [
      "  8%|▊         | 8/100 [00:16<03:17,  2.15s/it]"
     ]
    },
    {
     "name": "stdout",
     "output_type": "stream",
     "text": [
      "Saving After the Rain : how the West lost the East by Vaknin, Samuel, 1961-; Rangelovska, Lidija [Editor] containing 530_791 characters\n"
     ]
    },
    {
     "name": "stderr",
     "output_type": "stream",
     "text": [
      "  9%|▉         | 9/100 [00:18<03:00,  1.98s/it]"
     ]
    },
    {
     "name": "stdout",
     "output_type": "stream",
     "text": [
      "Saving Quinquepedalian by Anthony, Piers, 1934-; Finlay, Virgil, 1914-1971 [Illustrator] containing 37_192 characters\n"
     ]
    },
    {
     "name": "stderr",
     "output_type": "stream",
     "text": [
      " 10%|█         | 10/100 [00:19<02:40,  1.78s/it]"
     ]
    },
    {
     "name": "stdout",
     "output_type": "stream",
     "text": [
      "Saving Cargo to Callisto by Bixby, Jerome, 1923-1998; Mayan, Earl, 1916-2009 [Illustrator] containing 29_972 characters\n"
     ]
    },
    {
     "name": "stderr",
     "output_type": "stream",
     "text": [
      " 11%|█         | 11/100 [00:20<02:28,  1.66s/it]"
     ]
    },
    {
     "name": "stdout",
     "output_type": "stream",
     "text": [
      "Saving Gypsy Coppersmiths in Liverpool and Birkenhead by Macfie, R. A. Scott (Robert Andrew Scott), 1868-1935 containing 74_941 characters\n"
     ]
    },
    {
     "name": "stderr",
     "output_type": "stream",
     "text": [
      " 12%|█▏        | 12/100 [00:23<02:58,  2.03s/it]"
     ]
    },
    {
     "name": "stdout",
     "output_type": "stream",
     "text": [
      "Saving The Memoirs of Charles-Lewis, Baron de Pollnitz, Volume II\n",
      "Being the Observations He Made in His Late Travels from Prussia Thro' Germany, Italy, France, Flanders, Holland, England, &c. in Letters to His Friend. Discovering Not Only the Present State of the Chief Cities and Towns; but the Characters of the Principal Persons at the Several Courts. by Pöllnitz, Karl Ludwig, Freiherr von, 1692-1775 containing 909_297 characters\n"
     ]
    },
    {
     "name": "stderr",
     "output_type": "stream",
     "text": [
      " 13%|█▎        | 13/100 [00:25<03:01,  2.08s/it]"
     ]
    },
    {
     "name": "stdout",
     "output_type": "stream",
     "text": [
      "Saving The Rainbow Trail by Grey, Zane, 1872-1939 containing 538_768 characters\n"
     ]
    },
    {
     "name": "stderr",
     "output_type": "stream",
     "text": [
      " 14%|█▍        | 14/100 [00:27<02:41,  1.88s/it]"
     ]
    },
    {
     "name": "stdout",
     "output_type": "stream",
     "text": [
      "Saving Raemaekers' Cartoon History of the War, Volume 2\n",
      "The Second Twelve Months of War by Raemaekers, Louis, 1869-1956 [Illustrator]; Allison, James Murray, 1877-1929 [Editor] containing 90_701 characters\n"
     ]
    },
    {
     "name": "stderr",
     "output_type": "stream",
     "text": [
      " 15%|█▌        | 15/100 [00:28<02:33,  1.81s/it]"
     ]
    },
    {
     "name": "stdout",
     "output_type": "stream",
     "text": [
      "Saving The Tale of Turkey Proudfoot\n",
      "Slumber-Town Tales by Bailey, Arthur Scott, 1877-1949; Smith, Harry L. [Illustrator] containing 78_112 characters\n"
     ]
    },
    {
     "name": "stderr",
     "output_type": "stream",
     "text": [
      " 16%|█▌        | 16/100 [00:30<02:30,  1.79s/it]"
     ]
    },
    {
     "name": "stdout",
     "output_type": "stream",
     "text": [
      "Saving The Black Star: A School Story for Boys by Walpole, Andrew H. containing 268_181 characters\n"
     ]
    },
    {
     "name": "stderr",
     "output_type": "stream",
     "text": [
      " 17%|█▋        | 17/100 [00:32<02:30,  1.81s/it]"
     ]
    },
    {
     "name": "stdout",
     "output_type": "stream",
     "text": [
      "Saving Hildreth's \"Japan as It Was and Is\": A Handbook of Old Japan, Volume 1 (of 2) by Hildreth, Richard, 1807-1865; Griffis, William Elliot, 1843-1928 [Author of introduction, etc.]; Clement, Ernest W. (Ernest Wilson), 1860-1941 [Editor] containing 777_748 characters\n"
     ]
    },
    {
     "name": "stderr",
     "output_type": "stream",
     "text": [
      " 18%|█▊        | 18/100 [00:34<02:24,  1.77s/it]"
     ]
    },
    {
     "name": "stdout",
     "output_type": "stream",
     "text": [
      "Saving Hertfordshire by Lydekker, Richard, 1849-1915 containing 219_220 characters\n"
     ]
    },
    {
     "name": "stderr",
     "output_type": "stream",
     "text": [
      " 19%|█▉        | 19/100 [00:35<02:18,  1.71s/it]"
     ]
    },
    {
     "name": "stdout",
     "output_type": "stream",
     "text": [
      "Saving Ingersoll in Canada: A Reply to Wendling, Archbishop Lynch, Bystander; and Others by Pringle, Allen containing 151_609 characters\n"
     ]
    },
    {
     "name": "stderr",
     "output_type": "stream",
     "text": [
      " 20%|██        | 20/100 [00:37<02:17,  1.72s/it]"
     ]
    },
    {
     "name": "stdout",
     "output_type": "stream",
     "text": [
      "Saving The Complete Works of Artemus Ward — Part 1: Essays, Sketches, and Letters by Ward, Artemus, 1834-1867 containing 327_510 characters\n"
     ]
    },
    {
     "name": "stderr",
     "output_type": "stream",
     "text": [
      " 21%|██        | 21/100 [00:38<02:00,  1.52s/it]"
     ]
    },
    {
     "name": "stdout",
     "output_type": "stream",
     "text": [
      "Saving Geographic Range of the Hooded Skunk, Mephitis macroura\n",
      "With Description of a New Subspecies from Mexico by Hall, E. Raymond (Eugene Raymond), 1902-1986; Dalquest, Walter Woelber, 1917-2000 containing 10_422 characters\n"
     ]
    },
    {
     "name": "stderr",
     "output_type": "stream",
     "text": [
      " 22%|██▏       | 22/100 [00:40<02:03,  1.59s/it]"
     ]
    },
    {
     "name": "stdout",
     "output_type": "stream",
     "text": [
      "Saving Anna Seward, and Classic Lichfield by Martin, Stapleton, 1846-1922 containing 63_524 characters\n"
     ]
    },
    {
     "name": "stderr",
     "output_type": "stream",
     "text": [
      " 23%|██▎       | 23/100 [00:42<02:11,  1.71s/it]"
     ]
    },
    {
     "name": "stdout",
     "output_type": "stream",
     "text": [
      "Saving The Deep Sea Hunters: Adventures on a Whaler by Verrill, A. Hyatt (Alpheus Hyatt), 1871-1954 containing 252_756 characters\n"
     ]
    },
    {
     "name": "stderr",
     "output_type": "stream",
     "text": [
      " 24%|██▍       | 24/100 [00:44<02:21,  1.86s/it]"
     ]
    },
    {
     "name": "stdout",
     "output_type": "stream",
     "text": [
      "Saving The Morals of Marcus Ordeyne : a Novel by Locke, William John, 1863-1930 containing 473_710 characters\n"
     ]
    },
    {
     "name": "stderr",
     "output_type": "stream",
     "text": [
      " 25%|██▌       | 25/100 [00:46<02:22,  1.91s/it]"
     ]
    },
    {
     "name": "stdout",
     "output_type": "stream",
     "text": [
      "Saving The Shaving of Shagpat; an Arabian entertainment — Volume 1 by Meredith, George, 1828-1909 containing 173_324 characters\n"
     ]
    },
    {
     "name": "stderr",
     "output_type": "stream",
     "text": [
      " 26%|██▌       | 26/100 [00:48<02:28,  2.01s/it]"
     ]
    },
    {
     "name": "stdout",
     "output_type": "stream",
     "text": [
      "Saving Paris under the Commune\n",
      "The Seventy-Three Days of the Second Siege; with Numerous Illustrations, Sketches Taken on the Spot, and Portraits (from the Original Photographs) by Leighton, John, 1822-1912 containing 774_536 characters\n"
     ]
    },
    {
     "name": "stderr",
     "output_type": "stream",
     "text": [
      " 27%|██▋       | 27/100 [00:50<02:24,  1.98s/it]"
     ]
    },
    {
     "name": "stdout",
     "output_type": "stream",
     "text": [
      "Saving The History of England from the First Invasion by the Romans to the Accession of King George the Fifth. Volume 08 of 11. by Lingard, John, 1771-1851; Belloc, Hilaire, 1870-1953 containing 1_275_752 characters\n"
     ]
    },
    {
     "name": "stderr",
     "output_type": "stream",
     "text": [
      " 28%|██▊       | 28/100 [00:53<02:43,  2.27s/it]"
     ]
    },
    {
     "name": "stdout",
     "output_type": "stream",
     "text": [
      "Saving Zachariah Chandler: An Outline Sketch of His Life and Public Services by Post and Tribune Company (Detroit, Mich.) [Publisher]; Blaine, James Gillespie, 1830-1893 [Author of introduction, etc.] containing 905_534 characters\n"
     ]
    },
    {
     "name": "stderr",
     "output_type": "stream",
     "text": [
      " 29%|██▉       | 29/100 [00:56<02:48,  2.38s/it]"
     ]
    },
    {
     "name": "stdout",
     "output_type": "stream",
     "text": [
      "Saving The Philippine Islands, 1493-1898; Volume 50\n",
      "Explorations by early navigators, descriptions of the islands and their peoples, their history and records of the catholic missions, as related in contemporaneous books and manuscripts, showing the political, economic, commercial and religious conditions of those islands from their earliest relations with European nations to the close of the nineteenth century by Blair, Emma Helen, 1851-1911 [Editor]; Bourne, Edward Gaylord, 1860-1908 [Contributor]; Robertson, James Alexander, 1873-1939 [Editor] containing 553_315 characters\n"
     ]
    },
    {
     "name": "stderr",
     "output_type": "stream",
     "text": [
      " 30%|███       | 30/100 [00:58<02:32,  2.18s/it]"
     ]
    },
    {
     "name": "stdout",
     "output_type": "stream",
     "text": [
      "Saving The Solution of the Pyramid Problem; or, Pyramid Discoveries\n",
      "With a New Theory as to their Ancient Use by Ballard, Robert, 1839-1912 containing 135_781 characters\n"
     ]
    },
    {
     "name": "stderr",
     "output_type": "stream",
     "text": [
      " 31%|███       | 31/100 [01:00<02:36,  2.27s/it]"
     ]
    },
    {
     "name": "stdout",
     "output_type": "stream",
     "text": [
      "Saving The Way to the West, and the Lives of Three Early Americans: Boone—Crockett—Carson by Hough, Emerson, 1857-1923; Remington, Frederic, 1861-1909 [Illustrator] containing 605_261 characters\n"
     ]
    },
    {
     "name": "stderr",
     "output_type": "stream",
     "text": [
      " 32%|███▏      | 32/100 [01:02<02:27,  2.17s/it]"
     ]
    },
    {
     "name": "stdout",
     "output_type": "stream",
     "text": [
      "Saving The island pirate, a tale of the Mississippi by Reid, Mayne, 1818-1883 containing 209_384 characters\n"
     ]
    },
    {
     "name": "stderr",
     "output_type": "stream",
     "text": [
      " 33%|███▎      | 33/100 [01:04<02:24,  2.16s/it]"
     ]
    },
    {
     "name": "stdout",
     "output_type": "stream",
     "text": [
      "Saving Stained Glass of the Middle Ages in England and France by Arnold, Hugh; Saint, Lawrence B. (Lawrence Bradford), 1885- [Illustrator] containing 297_248 characters\n"
     ]
    },
    {
     "name": "stderr",
     "output_type": "stream",
     "text": [
      " 34%|███▍      | 34/100 [01:05<02:06,  1.91s/it]"
     ]
    },
    {
     "name": "stdout",
     "output_type": "stream",
     "text": [
      "Saving Paul Clifford — Volume 03 by Lytton, Edward Bulwer Lytton, Baron, 1803-1873 containing 115_742 characters\n"
     ]
    },
    {
     "name": "stderr",
     "output_type": "stream",
     "text": [
      " 35%|███▌      | 35/100 [01:07<01:57,  1.81s/it]"
     ]
    },
    {
     "name": "stdout",
     "output_type": "stream",
     "text": [
      "Saving The Adventures of Herr Baby by Molesworth, Mrs., 1839-1921; Crane, Walter, 1845-1915 [Illustrator] containing 205_721 characters\n"
     ]
    },
    {
     "name": "stderr",
     "output_type": "stream",
     "text": [
      " 36%|███▌      | 36/100 [01:09<01:49,  1.72s/it]"
     ]
    },
    {
     "name": "stdout",
     "output_type": "stream",
     "text": [
      "Saving Green Bays.  Verses and Parodies by Quiller-Couch, Arthur, 1863-1944 containing 50_052 characters\n"
     ]
    },
    {
     "name": "stderr",
     "output_type": "stream",
     "text": [
      " 37%|███▋      | 37/100 [01:10<01:48,  1.73s/it]"
     ]
    },
    {
     "name": "stdout",
     "output_type": "stream",
     "text": [
      "Saving Wisconsin in Story and Song;\n",
      "Selections from the Prose and Poetry of Badger State Writers by Rounds, Charles Ralph, 1877- [Editor]; Hippensteel, Henry Sherman [Editor] containing 495_617 characters\n"
     ]
    },
    {
     "name": "stderr",
     "output_type": "stream",
     "text": [
      " 38%|███▊      | 38/100 [01:13<01:57,  1.89s/it]"
     ]
    },
    {
     "name": "stdout",
     "output_type": "stream",
     "text": [
      "Saving Suzanna Stirs the Fire by Blake, Emily Calvin, 1882- containing 390_438 characters\n"
     ]
    },
    {
     "name": "stderr",
     "output_type": "stream",
     "text": [
      " 39%|███▉      | 39/100 [01:14<01:54,  1.88s/it]"
     ]
    },
    {
     "name": "stdout",
     "output_type": "stream",
     "text": [
      "Saving The Romance of Zion Chapel [3d ed.] by Le Gallienne, Richard, 1866-1947 containing 256_715 characters\n"
     ]
    },
    {
     "name": "stderr",
     "output_type": "stream",
     "text": [
      " 40%|████      | 40/100 [01:16<01:45,  1.76s/it]"
     ]
    },
    {
     "name": "stdout",
     "output_type": "stream",
     "text": [
      "Saving Aaron Trow by Trollope, Anthony, 1815-1882 containing 63_800 characters\n"
     ]
    },
    {
     "name": "stderr",
     "output_type": "stream",
     "text": [
      " 41%|████      | 41/100 [01:17<01:38,  1.66s/it]"
     ]
    },
    {
     "name": "stdout",
     "output_type": "stream",
     "text": [
      "Saving Old Mr. Wiley by La Spina, Greye, 1880-1969 containing 37_701 characters\n"
     ]
    },
    {
     "name": "stderr",
     "output_type": "stream",
     "text": [
      " 42%|████▏     | 42/100 [01:20<01:48,  1.87s/it]"
     ]
    },
    {
     "name": "stdout",
     "output_type": "stream",
     "text": [
      "Saving The Grey Friars in Oxford by Little, A. G. (Andrew George), 1863-1945 containing 1_029_236 characters\n"
     ]
    },
    {
     "name": "stderr",
     "output_type": "stream",
     "text": [
      " 43%|████▎     | 43/100 [01:21<01:40,  1.77s/it]"
     ]
    },
    {
     "name": "stdout",
     "output_type": "stream",
     "text": [
      "Saving Golden Stars in Tatting and Crochet by Riego de la Branchardière, Eléonore containing 32_276 characters\n"
     ]
    },
    {
     "name": "stderr",
     "output_type": "stream",
     "text": [
      " 44%|████▍     | 44/100 [01:23<01:40,  1.80s/it]"
     ]
    },
    {
     "name": "stdout",
     "output_type": "stream",
     "text": [
      "Saving A Catalogue of Books Published by Methuen and Company, February, 1908 by Methuen & Co. containing 157_547 characters\n"
     ]
    },
    {
     "name": "stderr",
     "output_type": "stream",
     "text": [
      " 45%|████▌     | 45/100 [01:25<01:37,  1.77s/it]"
     ]
    },
    {
     "name": "stdout",
     "output_type": "stream",
     "text": [
      "Saving Songs of Labor and Reform\n",
      "Part 5 From Volume III of The Works of John Greenleaf Whittier by Whittier, John Greenleaf, 1807-1892 containing 105_718 characters\n"
     ]
    },
    {
     "name": "stderr",
     "output_type": "stream",
     "text": [
      " 46%|████▌     | 46/100 [01:27<01:46,  1.97s/it]"
     ]
    },
    {
     "name": "stdout",
     "output_type": "stream",
     "text": [
      "Saving The Jew, The Gypsy and El Islam by Burton, Richard Francis, Sir, 1821-1890; Wilkins, W. H. (William Henry), 1860-1905 [Editor] containing 520_881 characters\n"
     ]
    },
    {
     "name": "stderr",
     "output_type": "stream",
     "text": [
      " 47%|████▋     | 47/100 [01:29<01:41,  1.91s/it]"
     ]
    },
    {
     "name": "stdout",
     "output_type": "stream",
     "text": [
      "Saving The Sin and Danger of Self-Love\n",
      "Described by a Sermon Preached At Plymouth, in New-England, 1621 by Cushman, Robert, 1579?-1625 containing 71_047 characters\n"
     ]
    },
    {
     "name": "stderr",
     "output_type": "stream",
     "text": [
      " 48%|████▊     | 48/100 [01:30<01:28,  1.69s/it]"
     ]
    },
    {
     "name": "stdout",
     "output_type": "stream",
     "text": [
      "Saving Black Eyes and the Daily Grind by Marlowe, Stephen, 1928-2008 containing 29_748 characters\n"
     ]
    },
    {
     "name": "stderr",
     "output_type": "stream",
     "text": [
      " 49%|████▉     | 49/100 [01:32<01:22,  1.61s/it]"
     ]
    },
    {
     "name": "stdout",
     "output_type": "stream",
     "text": [
      "Saving Is the Bible Indictable?\n",
      "Being an Enquiry whether the Bible Comes within the Ruling of the Lord Chief Justice as to Obscene Literature by Besant, Annie, 1847-1933 containing 31_515 characters\n"
     ]
    },
    {
     "name": "stderr",
     "output_type": "stream",
     "text": [
      " 50%|█████     | 50/100 [01:34<01:33,  1.87s/it]"
     ]
    },
    {
     "name": "stdout",
     "output_type": "stream",
     "text": [
      "Saving The Helmet of Navarre by Runkle, Bertha, 1879-1958; Castaigne, J. André, 1861-1929 [Illustrator] containing 593_596 characters\n"
     ]
    },
    {
     "name": "stderr",
     "output_type": "stream",
     "text": [
      " 51%|█████     | 51/100 [01:35<01:24,  1.72s/it]"
     ]
    },
    {
     "name": "stdout",
     "output_type": "stream",
     "text": [
      "Saving The Story of Scraggles by James, George Wharton, 1858-1923; Gallagher, Sears, 1869-1955 [Illustrator] containing 68_404 characters\n"
     ]
    },
    {
     "name": "stderr",
     "output_type": "stream",
     "text": [
      " 52%|█████▏    | 52/100 [01:37<01:15,  1.57s/it]"
     ]
    },
    {
     "name": "stdout",
     "output_type": "stream",
     "text": [
      "Saving The Breadth, Freeness, and Yet Exclusiveness of the Gospel by Hoare, Edward, 1812-1894 containing 19_763 characters\n"
     ]
    },
    {
     "name": "stderr",
     "output_type": "stream",
     "text": [
      " 53%|█████▎    | 53/100 [01:39<01:28,  1.88s/it]"
     ]
    },
    {
     "name": "stdout",
     "output_type": "stream",
     "text": [
      "Saving The Blazed Trail by White, Stewart Edward, 1873-1946 containing 631_527 characters\n"
     ]
    },
    {
     "name": "stderr",
     "output_type": "stream",
     "text": [
      " 54%|█████▍    | 54/100 [01:41<01:24,  1.84s/it]"
     ]
    },
    {
     "name": "stdout",
     "output_type": "stream",
     "text": [
      "Saving Best o' luck: How a fighting Kentuckian won the thanks of Britain's King by McClintock, Alexander, 1893-1918 containing 148_044 characters\n"
     ]
    },
    {
     "name": "stderr",
     "output_type": "stream",
     "text": [
      " 55%|█████▌    | 55/100 [01:43<01:26,  1.92s/it]"
     ]
    },
    {
     "name": "stdout",
     "output_type": "stream",
     "text": [
      "Saving Century of Light by Bahá'í International Community containing 331_319 characters\n"
     ]
    },
    {
     "name": "stderr",
     "output_type": "stream",
     "text": [
      " 56%|█████▌    | 56/100 [01:45<01:26,  1.96s/it]"
     ]
    },
    {
     "name": "stdout",
     "output_type": "stream",
     "text": [
      "Saving The Life of Col. James Gardiner\n",
      "Who Was Slain at the Battle of Prestonpans, September 21, 1745 by Doddridge, Philip, 1702-1751 containing 273_964 characters\n"
     ]
    },
    {
     "name": "stderr",
     "output_type": "stream",
     "text": [
      " 57%|█████▋    | 57/100 [01:48<01:34,  2.19s/it]"
     ]
    },
    {
     "name": "stdout",
     "output_type": "stream",
     "text": [
      "Saving Kalevala : the Epic Poem of Finland — Complete by Lönnrot, Elias, 1802-1884 [Compiler]; Crawford, John Martin, 1845-1916 [Translator] containing 816_724 characters\n"
     ]
    },
    {
     "name": "stderr",
     "output_type": "stream",
     "text": [
      " 58%|█████▊    | 58/100 [01:50<01:30,  2.15s/it]"
     ]
    },
    {
     "name": "stdout",
     "output_type": "stream",
     "text": [
      "Saving A Canyon Voyage\n",
      "The Narrative of the Second Powell Expedition down the Green-Colorado River from Wyoming, and the Explorations on Land, in the Years 1871 and 1872 by Dellenbaugh, Frederick Samuel, 1853-1935 containing 648_899 characters\n"
     ]
    },
    {
     "name": "stderr",
     "output_type": "stream",
     "text": [
      " 59%|█████▉    | 59/100 [01:52<01:23,  2.03s/it]"
     ]
    },
    {
     "name": "stdout",
     "output_type": "stream",
     "text": [
      "Saving The Carved Lions by Molesworth, Mrs., 1839-1921; Brooke, L. Leslie (Leonard Leslie), 1862-1940 [Illustrator] containing 264_247 characters\n"
     ]
    },
    {
     "name": "stderr",
     "output_type": "stream",
     "text": [
      " 60%|██████    | 60/100 [01:53<01:13,  1.85s/it]"
     ]
    },
    {
     "name": "stdout",
     "output_type": "stream",
     "text": [
      "Saving The Life of Buddha and Its Lessons by Olcott, Henry Steel, 1832-1907 containing 22_446 characters\n"
     ]
    },
    {
     "name": "stderr",
     "output_type": "stream",
     "text": [
      " 61%|██████    | 61/100 [01:55<01:12,  1.87s/it]"
     ]
    },
    {
     "name": "stdout",
     "output_type": "stream",
     "text": [
      "Saving The New South: A Chronicle of Social and Industrial Evolution by Thompson, Holland, 1873-1940 containing 319_227 characters\n"
     ]
    },
    {
     "name": "stderr",
     "output_type": "stream",
     "text": [
      " 62%|██████▏   | 62/100 [01:57<01:13,  1.93s/it]"
     ]
    },
    {
     "name": "stdout",
     "output_type": "stream",
     "text": [
      "Saving Stories from the Odyssey by Havell, H. L. (Herbert Lord), -1913; Homer, 751? BCE-651? BCE containing 371_845 characters\n"
     ]
    },
    {
     "name": "stderr",
     "output_type": "stream",
     "text": [
      " 63%|██████▎   | 63/100 [02:00<01:18,  2.12s/it]"
     ]
    },
    {
     "name": "stdout",
     "output_type": "stream",
     "text": [
      "Saving Christ: The Way, the Truth, and the Life by Brown, John, 1610?-1679 containing 676_375 characters\n"
     ]
    },
    {
     "name": "stderr",
     "output_type": "stream",
     "text": [
      " 64%|██████▍   | 64/100 [02:01<01:12,  2.02s/it]"
     ]
    },
    {
     "name": "stdout",
     "output_type": "stream",
     "text": [
      "Saving A Dome of Many-Coloured Glass by Lowell, Amy, 1874-1925 containing 92_258 characters\n"
     ]
    },
    {
     "name": "stderr",
     "output_type": "stream",
     "text": [
      " 65%|██████▌   | 65/100 [02:03<01:02,  1.77s/it]"
     ]
    },
    {
     "name": "stdout",
     "output_type": "stream",
     "text": [
      "Saving Comments on the Taxonomic Status of Apodemus peninsulae, with Description of a New Subspecies from North China by Jones, J. Knox, 1929-1992 containing 20_668 characters\n"
     ]
    },
    {
     "name": "stderr",
     "output_type": "stream",
     "text": [
      " 66%|██████▌   | 66/100 [02:04<00:55,  1.65s/it]"
     ]
    },
    {
     "name": "stdout",
     "output_type": "stream",
     "text": [
      "Saving Reasons Against the Succession of the House of Hanover\n",
      "With an Enquiry How Far the Abdication of King James, Supposing It to Be Legal, Ought to Affect the Person of the Pretender by Defoe, Daniel, 1661?-1731 containing 55_535 characters\n"
     ]
    },
    {
     "name": "stderr",
     "output_type": "stream",
     "text": [
      " 67%|██████▋   | 67/100 [02:05<00:51,  1.56s/it]"
     ]
    },
    {
     "name": "stdout",
     "output_type": "stream",
     "text": [
      "Saving Punch, or the London Charivari, Vol. 108, March 30th 1895 by Various; Burnand, F. C. (Francis Cowley), 1836-1917 [Editor] containing 54_804 characters\n"
     ]
    },
    {
     "name": "stderr",
     "output_type": "stream",
     "text": [
      " 68%|██████▊   | 68/100 [02:07<00:49,  1.55s/it]"
     ]
    },
    {
     "name": "stdout",
     "output_type": "stream",
     "text": [
      "Saving The Churches of Coventry: A Short History of the City & Its Medieval Remains by Woodhouse, Frederic W. containing 162_999 characters\n"
     ]
    },
    {
     "name": "stderr",
     "output_type": "stream",
     "text": [
      " 69%|██████▉   | 69/100 [02:09<00:50,  1.63s/it]"
     ]
    },
    {
     "name": "stdout",
     "output_type": "stream",
     "text": [
      "Saving Poor Blossom: The Story of a Horse by Carrington, Edith, 1853-1929 containing 122_259 characters\n"
     ]
    },
    {
     "name": "stderr",
     "output_type": "stream",
     "text": [
      " 70%|███████   | 70/100 [02:11<00:57,  1.92s/it]"
     ]
    },
    {
     "name": "stdout",
     "output_type": "stream",
     "text": [
      "Saving Anecdotal Recollections of the Congress of Vienna by La Garde-Chambonas, Auguste Louis Charles, Comte de, 1783-1853?; Fleury, Maurice, comte, 1856-1921 [Editor]; Vandam, Albert D. (Albert Dresden), 1843-1903 [Translator] containing 851_460 characters\n"
     ]
    },
    {
     "name": "stderr",
     "output_type": "stream",
     "text": [
      " 71%|███████   | 71/100 [02:13<00:52,  1.80s/it]"
     ]
    },
    {
     "name": "stdout",
     "output_type": "stream",
     "text": [
      "Saving Treatment of hemorrhoids, and other non-malignant rectal diseases by Agnew, W. P. (William Penn), 1851?-1931 containing 127_153 characters\n"
     ]
    },
    {
     "name": "stderr",
     "output_type": "stream",
     "text": [
      " 72%|███████▏  | 72/100 [02:15<00:55,  1.99s/it]"
     ]
    },
    {
     "name": "stdout",
     "output_type": "stream",
     "text": [
      "Saving The Rise of the Dutch Republic — Complete (1574-84) by Motley, John Lothrop, 1814-1877 containing 1_176_906 characters\n"
     ]
    },
    {
     "name": "stderr",
     "output_type": "stream",
     "text": [
      " 73%|███████▎  | 73/100 [02:17<00:49,  1.83s/it]"
     ]
    },
    {
     "name": "stdout",
     "output_type": "stream",
     "text": [
      "Saving Personal Memoirs of P. H. Sheridan, Volume 2, Part 4 by Sheridan, Philip Henry, 1831-1888 containing 155_741 characters\n"
     ]
    },
    {
     "name": "stderr",
     "output_type": "stream",
     "text": [
      " 74%|███████▍  | 74/100 [02:19<00:51,  1.99s/it]"
     ]
    },
    {
     "name": "stdout",
     "output_type": "stream",
     "text": [
      "Saving Middy and Ensign by Fenn, George Manville, 1831-1909; Rowlandson, G. D. [Illustrator] containing 791_434 characters\n"
     ]
    },
    {
     "name": "stderr",
     "output_type": "stream",
     "text": [
      " 75%|███████▌  | 75/100 [02:21<00:48,  1.94s/it]"
     ]
    },
    {
     "name": "stdout",
     "output_type": "stream",
     "text": [
      "Saving Gypsy and Ginger by Farjeon, Eleanor, 1881-1965 containing 128_382 characters\n"
     ]
    },
    {
     "name": "stderr",
     "output_type": "stream",
     "text": [
      " 76%|███████▌  | 76/100 [02:23<00:47,  1.98s/it]"
     ]
    },
    {
     "name": "stdout",
     "output_type": "stream",
     "text": [
      "Saving Mrs. Vanderstein's jewels by Bryce, Charles, Mrs. containing 583_222 characters\n"
     ]
    },
    {
     "name": "stderr",
     "output_type": "stream",
     "text": [
      " 77%|███████▋  | 77/100 [02:25<00:47,  2.07s/it]"
     ]
    },
    {
     "name": "stdout",
     "output_type": "stream",
     "text": [
      "Saving A Short History of Freethought Ancient and Modern, Volume 1 of 2\n",
      "Third edition, Revised and Expanded, in two volumes by Robertson, J. M. (John Mackinnon), 1856-1933 containing 1_448_443 characters\n"
     ]
    },
    {
     "name": "stderr",
     "output_type": "stream",
     "text": [
      " 78%|███████▊  | 78/100 [02:29<00:58,  2.64s/it]"
     ]
    },
    {
     "name": "stdout",
     "output_type": "stream",
     "text": [
      "Saving History of Gujarát\n",
      "Gazetteer of the Bombay Presidency, Volume I, Part I. by Campbell, James M., 1846-1903 containing 1_946_652 characters\n"
     ]
    },
    {
     "name": "stderr",
     "output_type": "stream",
     "text": [
      " 79%|███████▉  | 79/100 [02:31<00:50,  2.41s/it]"
     ]
    },
    {
     "name": "stdout",
     "output_type": "stream",
     "text": [
      "Saving Abraham Lincoln's Cardinal Traits;\n",
      "A Study in Ethics, with an Epilogue Addressed to Theologians by Beardslee, Clark S. (Clark Smith), 1850-1914 containing 426_892 characters\n"
     ]
    },
    {
     "name": "stderr",
     "output_type": "stream",
     "text": [
      " 80%|████████  | 80/100 [02:33<00:42,  2.11s/it]"
     ]
    },
    {
     "name": "stdout",
     "output_type": "stream",
     "text": [
      "Saving Cinq Mars — Volume 3 by Vigny, Alfred de, 1797-1863 containing 119_268 characters\n"
     ]
    },
    {
     "name": "stderr",
     "output_type": "stream",
     "text": [
      " 81%|████████  | 81/100 [02:34<00:35,  1.87s/it]"
     ]
    },
    {
     "name": "stdout",
     "output_type": "stream",
     "text": [
      "Saving Punch, or the London Charivari, Volume 101, October 10, 1891 by Various containing 53_686 characters\n"
     ]
    },
    {
     "name": "stderr",
     "output_type": "stream",
     "text": [
      " 82%|████████▏ | 82/100 [02:35<00:31,  1.78s/it]"
     ]
    },
    {
     "name": "stdout",
     "output_type": "stream",
     "text": [
      "Saving The Pedler of Dust Sticks by Follen, Eliza Lee Cabot, 1787-1860 containing 61_877 characters\n"
     ]
    },
    {
     "name": "stderr",
     "output_type": "stream",
     "text": [
      " 83%|████████▎ | 83/100 [02:37<00:30,  1.79s/it]"
     ]
    },
    {
     "name": "stdout",
     "output_type": "stream",
     "text": [
      "Saving Boys' Second Book of Inventions by Baker, Ray Stannard, 1870-1946 containing 244_674 characters\n"
     ]
    },
    {
     "name": "stderr",
     "output_type": "stream",
     "text": [
      " 84%|████████▍ | 84/100 [02:39<00:27,  1.75s/it]"
     ]
    },
    {
     "name": "stdout",
     "output_type": "stream",
     "text": [
      "Saving Matthew on Money by Keister, Lawrence containing 21_585 characters\n"
     ]
    },
    {
     "name": "stderr",
     "output_type": "stream",
     "text": [
      " 85%|████████▌ | 85/100 [02:40<00:24,  1.65s/it]"
     ]
    },
    {
     "name": "stdout",
     "output_type": "stream",
     "text": [
      "Saving Nets to Catch the Wind by Wylie, Elinor, 1885-1928 containing 23_594 characters\n"
     ]
    },
    {
     "name": "stderr",
     "output_type": "stream",
     "text": [
      " 86%|████████▌ | 86/100 [02:42<00:23,  1.71s/it]"
     ]
    },
    {
     "name": "stdout",
     "output_type": "stream",
     "text": [
      "Saving Fort Pulaski National Monument, Georgia by Lattimore, Ralston B. containing 97_063 characters\n"
     ]
    },
    {
     "name": "stderr",
     "output_type": "stream",
     "text": [
      " 87%|████████▋ | 87/100 [02:44<00:21,  1.69s/it]"
     ]
    },
    {
     "name": "stdout",
     "output_type": "stream",
     "text": [
      "Saving Revolt of the Outworlds by Marlowe, Stephen, 1928-2008; Terry, W. E., 1921-1992 [Illustrator] containing 108_613 characters\n"
     ]
    },
    {
     "name": "stderr",
     "output_type": "stream",
     "text": [
      " 88%|████████▊ | 88/100 [02:45<00:19,  1.64s/it]"
     ]
    },
    {
     "name": "stdout",
     "output_type": "stream",
     "text": [
      "Saving The Kitchen Encyclopedia\n",
      "Twelfth Edition (Swift & Company) by Anonymous containing 57_599 characters\n"
     ]
    },
    {
     "name": "stderr",
     "output_type": "stream",
     "text": [
      " 89%|████████▉ | 89/100 [02:47<00:17,  1.59s/it]"
     ]
    },
    {
     "name": "stdout",
     "output_type": "stream",
     "text": [
      "Saving A West Country Pilgrimage by Phillpotts, Eden, 1862-1960; Benthall, Annie T. [Illustrator] containing 104_407 characters\n"
     ]
    },
    {
     "name": "stderr",
     "output_type": "stream",
     "text": [
      " 90%|█████████ | 90/100 [02:50<00:20,  2.00s/it]"
     ]
    },
    {
     "name": "stdout",
     "output_type": "stream",
     "text": [
      "Saving History of Julius Cæsar, Vol. 1 of 2 by Napoleon III, Emperor of the French, 1808-1873 containing 848_410 characters\n"
     ]
    },
    {
     "name": "stderr",
     "output_type": "stream",
     "text": [
      " 91%|█████████ | 91/100 [02:52<00:17,  1.96s/it]"
     ]
    },
    {
     "name": "stdout",
     "output_type": "stream",
     "text": [
      "Saving Scottish Ghost Stories by O'Donnell, Elliott, 1872-1965 containing 269_770 characters\n"
     ]
    },
    {
     "name": "stderr",
     "output_type": "stream",
     "text": [
      " 92%|█████████▏| 92/100 [02:54<00:17,  2.15s/it]"
     ]
    },
    {
     "name": "stdout",
     "output_type": "stream",
     "text": [
      "Saving A Narrative of the Shipwreck, Captivity and Sufferings of Horace Holden and Benj. H. Nute\n",
      "Who were cast away in the American ship Mentor, on the Pelew Islands, in the year 1832; and for two years afterwards were subjected to unheard of sufferings among the barbarous inhabitants of Lord North's island by Holden, Horace, 1810- containing 143_981 characters\n"
     ]
    },
    {
     "name": "stderr",
     "output_type": "stream",
     "text": [
      " 93%|█████████▎| 93/100 [02:55<00:12,  1.83s/it]"
     ]
    },
    {
     "name": "stdout",
     "output_type": "stream",
     "text": [
      "Saving The Beasts in the Void by Fairman, Paul W., 1909-1977; Terry, W. E., 1921-1992 [Illustrator] containing 36_307 characters\n"
     ]
    },
    {
     "name": "stderr",
     "output_type": "stream",
     "text": [
      " 94%|█████████▍| 94/100 [02:56<00:09,  1.61s/it]"
     ]
    },
    {
     "name": "stdout",
     "output_type": "stream",
     "text": [
      "Saving We're Civilized! by Clifton, Mark, 1906-1963; Apostolides, Alex, 1923-2005 containing 24_748 characters\n"
     ]
    },
    {
     "name": "stderr",
     "output_type": "stream",
     "text": [
      " 95%|█████████▌| 95/100 [02:57<00:07,  1.44s/it]"
     ]
    },
    {
     "name": "stdout",
     "output_type": "stream",
     "text": [
      "Saving The Mentor: Game Birds of America, Vol. 1, Num. 34, Serial No. 34 by Forbush, Edward Howe, 1858-1929 containing 41_445 characters\n"
     ]
    },
    {
     "name": "stderr",
     "output_type": "stream",
     "text": [
      " 96%|█████████▌| 96/100 [02:58<00:05,  1.33s/it]"
     ]
    },
    {
     "name": "stdout",
     "output_type": "stream",
     "text": [
      "Saving A Sermon, Delivered Before His Excellency Edward Everett, Governor, His Honor George Hull, Lieutenant Governor, the Honorable Council, and the Legislature of Massachusetts, on the Anniversary Election, January 2, 1839 by Hopkins, Mark, 1802-1887 containing 46_918 characters\n"
     ]
    },
    {
     "name": "stderr",
     "output_type": "stream",
     "text": [
      " 97%|█████████▋| 97/100 [03:00<00:04,  1.37s/it]"
     ]
    },
    {
     "name": "stdout",
     "output_type": "stream",
     "text": [
      "Saving The Flower of the Flock, Volume 1 (of 3) by Egan, Pierce, 1772-1849 containing 441_961 characters\n"
     ]
    },
    {
     "name": "stderr",
     "output_type": "stream",
     "text": [
      " 98%|█████████▊| 98/100 [03:01<00:02,  1.36s/it]"
     ]
    },
    {
     "name": "stdout",
     "output_type": "stream",
     "text": [
      "Saving Rachel: A Play in Three Acts by Grimké, Angelina Weld, 1880-1958 containing 153_155 characters\n"
     ]
    },
    {
     "name": "stderr",
     "output_type": "stream",
     "text": [
      " 99%|█████████▉| 99/100 [03:02<00:01,  1.30s/it]"
     ]
    },
    {
     "name": "stdout",
     "output_type": "stream",
     "text": [
      "Saving The School for Husbands by Molière, 1622-1673 containing 77_638 characters\n"
     ]
    },
    {
     "name": "stderr",
     "output_type": "stream",
     "text": [
      "100%|██████████| 100/100 [03:04<00:00,  1.84s/it]"
     ]
    },
    {
     "name": "stdout",
     "output_type": "stream",
     "text": [
      "Saving The Early Introduction of Bogus Freemasonry in the United States of America and Texas Among Colored Masons by Mitchell, C. L. (Charles L.) containing 117_072 characters\n"
     ]
    },
    {
     "name": "stderr",
     "output_type": "stream",
     "text": [
      "\n"
     ]
    }
   ],
   "source": [
    "data_path = Path(\"data\")\n",
    "data_path.mkdir(exist_ok=True)\n",
    "\n",
    "for book in tqdm(wodehouse_books, total=len(wodehouse_books)):\n",
    "    id = book[\"Text#\"]\n",
    "    text = book_text(id)\n",
    "    print(f\"Saving {book['Title']} by {book['Authors']} containing {len(text):_} characters\")\n",
    "    if os.path.exists(data_path / (id + \".txt\")):\n",
    "        print(f\"File {id}.txt already exists\")\n",
    "        continue\n",
    "    with open(data_path / (id + \".txt\"), \"wt\") as f:\n",
    "        f.write(text)\n",
    "\n",
    "with open(data_path / 'metadata.csv', 'wt') as f:\n",
    "    csv_writer = csv.DictWriter(f, fieldnames=wodehouse_books[0].keys())\n",
    "    csv_writer.writeheader()\n",
    "    for book in wodehouse_books:\n",
    "        csv_writer.writerow(book)"
   ]
  },
  {
   "cell_type": "code",
   "execution_count": 6,
   "metadata": {},
   "outputs": [],
   "source": [
    "text_list = [\"book1.txt\",\"book2.txt\",\"book3.txt\"]"
   ]
  },
  {
   "cell_type": "code",
   "execution_count": 9,
   "metadata": {},
   "outputs": [],
   "source": [
    "from urllib.request import urlopen"
   ]
  },
  {
   "cell_type": "code",
   "execution_count": 10,
   "metadata": {},
   "outputs": [],
   "source": [
    "def download_url(urlpath):\n",
    "    try:\n",
    "        # open a connection to the server\n",
    "        with urlopen(urlpath, timeout=3) as connection:\n",
    "            # read the contents of the url as bytes and return it\n",
    "            return connection.read()\n",
    "    except:\n",
    "        return None"
   ]
  },
  {
   "cell_type": "code",
   "execution_count": 8,
   "metadata": {},
   "outputs": [],
   "source": [
    "def mapp(book):\n",
    "    words_list = []\n",
    "    with open(book,'r',encoding='utf-8') as text:\n",
    "        for line in text:\n",
    "            for word in line.split():\n",
    "                words_list.append(word)   \n",
    "    count = Counter(words_list)\n",
    "    return count\n",
    "\n",
    "def redu(dict1,dict2):\n",
    "    return {k: dict1.get(k, 0) + dict2.get(k, 0) for k in set(dict1) | set(dict2)}\n",
    "    "
   ]
  },
  {
   "cell_type": "code",
   "execution_count": 9,
   "metadata": {},
   "outputs": [],
   "source": [
    "# !wget -w 2 -m http://www.gutenberg.org/robot/harvest?filetypes[]=txt&langs[]=en"
   ]
  },
  {
   "cell_type": "code",
   "execution_count": 10,
   "metadata": {},
   "outputs": [
    {
     "name": "stdout",
     "output_type": "stream",
     "text": [
      "t:  36.43622922897339\n"
     ]
    }
   ],
   "source": [
    "import os\n",
    "import time\n",
    "\n",
    "text_list = [\"data/\"+i for i in os.listdir(\"data\")]\n",
    "start3 = time.time()\n",
    "count_w = list(map(mapp,text_list))\n",
    "result_c = reduce(redu, count_w)\n",
    "end3 = time.time()\n",
    "t3 = end3-start3\n",
    "print('t: ', t3)"
   ]
  },
  {
   "cell_type": "code",
   "execution_count": 57,
   "metadata": {},
   "outputs": [
    {
     "name": "stdout",
     "output_type": "stream",
     "text": [
      "Multiprocessing time:  26.619986534118652\n"
     ]
    }
   ],
   "source": [
    "start4 = time.time()\n",
    "if __name__ ==  '__main__':\n",
    "    p=Pool(8)\n",
    "    output_map = p.map(mapp,[i for i in text_list])\n",
    "    output2 = reduce(redu,output_map)\n",
    "t4 = time.time() - start4\n",
    "\n",
    "print('Multiprocessing time: ',t4)"
   ]
  },
  {
   "cell_type": "code",
   "execution_count": 58,
   "metadata": {},
   "outputs": [
    {
     "data": {
      "image/png": "[encoded data removed]",
      "text/plain": [
       "<Figure size 1000x550 with 1 Axes>"
      ]
     },
     "metadata": {},
     "output_type": "display_data"
    }
   ],
   "source": [
    "sorted_ = sorted(result_c.items(),key=lambda x: x[1], reverse= True)[:20]\n",
    "a = []\n",
    "b = []\n",
    "for x, y in sorted_:\n",
    "    a.append(x)\n",
    "    b.append(y)\n",
    "plt.bar(a,b)\n",
    "plt.xticks(rotation = 45)\n",
    "plt.title('Histogram of the words')\n",
    "plt.show()"
   ]
  },
  {
   "cell_type": "markdown",
   "metadata": {},
   "source": [
    "### Task 3"
   ]
  },
  {
   "cell_type": "code",
   "execution_count": 11,
   "metadata": {},
   "outputs": [],
   "source": [
    "from decimal import Decimal\n",
    "from decimal import getcontext\n",
    "\n",
    "def pi_map(k):\n",
    "    # getcontext().prec=10000\n",
    "    return (1/Decimal(16)**k)*(Decimal(4)/(8*k+1) -Decimal(2)/(8*k+4) - Decimal(1)/(8*k+5) - Decimal(1)/(8*k+6))\n",
    "def pi_map(k):\n",
    "    return (1/Decimal(16)**k)*(Decimal(4)/(8*k+1) -Decimal(2)/(8*k+4) - Decimal(1)/(8*k+5) - Decimal(1)/(8*k+6))"
   ]
  },
  {
   "cell_type": "code",
   "execution_count": null,
   "metadata": {},
   "outputs": [],
   "source": [
    "decimals =10000\n",
    "getcontext().prec = decimals"
   ]
  },
  {
   "cell_type": "code",
   "execution_count": 28,
   "metadata": {},
   "outputs": [
    {
     "name": "stdout",
     "output_type": "stream",
     "text": [
      "Pi value:  3.141592653589793238462643383279502884197169399375105820974944592307816406286208998628034825342117067982148086513282306647093844609550582231725359408128481117450284102701938521105559644622948954930381964428810975665933446128475648233786783165271201909145648566923460348610454326648213393607260249141273724587006606315588174881520920962829254091715364367892590360011330530548820466521384146951941511609433057270365759591953092186117381932611793105118548074462379962749567351885752724891227938183011949129833673362440656643086021394946395224737190702179860943702770539217176293176752384674818467669405132000568127145263560827785771342757789609173637178721468440901224953430146549585371050792279689258923542019956112129021960864034418159813629774771309960518707211349999998372978049951059731732816096318595024459455346908302642522308253344685035261931188171010003137838752886587533208381420617177669147303598253490428755468731159562863882353787593751957781857780532171226806613001927876611195909216420198938095257201065485863278865936153381827968230301952035301852968995773622599413891249721775283479131515574857242454150695950829533116861727855889075098381754637464939319255060400927701671139009848824012858361603563707660104710181942955596198946767837449448255379774726847104047534646208046684259069491293313677028989152104752162056966024058038150193511253382430035587640247496473263914199272604269922796782354781636009341721641219924586315030286182974555706749838505494588586926995690927210797509302955321165344987202755960236480665499119881834797753566369807426542527862551818417574672890977772793800081647060016145249192173217214772350141441973568548161361157352552133475741849468438523323907394143334547762416862518983569485562099219222184272550254256887671790494601653466804988627232791786085784383827967976681454100953883786360950680064225125205117392984896084128488626945604241965285022210661186306744278622039194945047123713786960956364371917287467764657573962413890865832645995813390478027590099465764078951269468398352595709825822620522489407726719478268482601476990902640136394437455305068203496252451749399651431429809190659250937221696461515709858387410597885959772975498930161753928468138268683868942774155991855925245953959431049972524680845987273644695848653836736222626099124608051243884390451244136549762780797715691435997700129616089441694868555848406353422072225828488648158456028506016842739452267467678895252138522549954666727823986456596116354886230577456498035593634568174324112515076069479451096596094025228879710893145669136867228748940560101503308617928680920874760917824938589009714909675985261365549781893129784821682998948722658804857564014270477555132379641451523746234364542858444795265867821051141354735739523113427166102135969536231442952484937187110145765403590279934403742007310578539062198387447808478489683321445713868751943506430218453191048481005370614680674919278191197939952061419663428754440643745123718192179998391015919561814675142691239748940907186494231961567945208095146550225231603881930142093762137855956638937787083039069792077346722182562599661501421503068038447734549202605414665925201497442850732518666002132434088190710486331734649651453905796268561005508106658796998163574736384052571459102897064140110971206280439039759515677157700420337869936007230558763176359421873125147120532928191826186125867321579198414848829164470609575270695722091756711672291098169091528017350671274858322287183520935396572512108357915136988209144421006751033467110314126711136990865851639831501970165151168517143765761835155650884909989859982387345528331635507647918535893226185489632132933089857064204675259070915481416549859461637180270981994309924488957571282890592323326097299712084433573265489382391193259746366730583604142813883032038249037589852437441702913276561809377344403070746921120191302033038019762110110044929321516084244485963766983895228684783123552658213144957685726243344189303968642624341077322697802807318915441101044682325271620105265227211166039666557309254711055785376346682065310989652691862056476931257058635662018558100729360659876486117910453348850346113657686753249441668039626579787718556084552965412665408530614344431858676975145661406800700237877659134401712749470420562230538994561314071127000407854733269939081454664645880797270826683063432858785698305235808933065757406795457163775254202114955761581400250126228594130216471550979259230990796547376125517656751357517829666454779174501129961489030463994713296210734043751895735961458901938971311179042978285647503203198691514028708085990480109412147221317947647772622414254854540332157185306142288137585043063321751829798662237172159160771669254748738986654949450114654062843366393790039769265672146385306736096571209180763832716641627488880078692560290228472104031721186082041900042296617119637792133757511495950156604963186294726547364252308177036751590673502350728354056704038674351362222477158915049530984448933309634087807693259939780541934144737744184263129860809988868741326047215695162396586457302163159819319516735381297416772947867242292465436680098067692823828068996400482435403701416314965897940924323789690706977942236250822168895738379862300159377647165122893578601588161755782973523344604281512627203734314653197777416031990665541876397929334419521541341899485444734567383162499341913181480927777103863877343177207545654532207770921201905166096280490926360197598828161332316663652861932668633606273567630354477628035045077723554710585954870279081435624014517180624643626794561275318134078330336254232783944975382437205835311477119926063813346776879695970309833913077109870408591337464144282277263465947047458784778720192771528073176790770715721344473060570073349243693113835049316312840425121925651798069411352801314701304781643788518529092854520116583934196562134914341595625865865570552690496520985803385072242648293972858478316305777756068887644624824685792603953527734803048029005876075825104747091643961362676044925627420420832085661190625454337213153595845068772460290161876679524061634252257719542916299193064553779914037340432875262888963995879475729174642635745525407909145135711136941091193932519107602082520261879853188770584297259167781314969900901921169717372784768472686084900337702424291651300500516832336435038951702989392233451722013812806965011784408745196012122859937162313017114448464090389064495444006198690754851602632750529834918740786680881833851022833450850486082503930213321971551843063545500766828294930413776552793975175461395398468339363830474611996653858153842056853386218672523340283087112328278921250771262946322956398989893582116745627010218356462201349671518819097303811980049734072396103685406643193950979019069963955245300545058068550195673022921913933918568034490398205955100226353536192041994745538593810234395544959778377902374216172711172364343543947822181852862408514006660443325888569867054315470696574745855033232334210730154594051655379068662733379958511562578432298827372319898757141595781119635833005940873068121602876496286744604774649159950549737425626901049037781986835938146574126804925648798556145372347867330390468838343634655379498641927056387293174872332083760112302991136793862708943879936201629515413371424892830722012690147546684765357616477379467520049075715552781965362132392640616013635815590742202020318727760527721900556148425551879253034351398442532234157623361064250639049750086562710953591946589751413103482276930624743536325691607815478181152843667957061108615331504452127473924544945423682886061340841486377670096120715124914043027253860764823634143346235189757664521641376796903149501910857598442391986291642193994907236234646844117394032659184044378051333894525742399508296591228508555821572503107125701266830240292952522011872676756220415420516184163484756516999811614101002996078386909291603028840026910414079288621507842451670908700069928212066041837180653556725253256753286129104248776182582976515795984703562226293486003415872298053498965022629174878820273420922224533985626476691490556284250391275771028402799806636582548892648802545661017296702664076559042909945681506526530537182941270336931378517860904070866711496558343434769338578171138645587367812301458768712660348913909562009939361031029161615288138437909904231747336394804575931493140529763475748119356709110137751721008031559024853090669203767192203322909433467685142214477379393751703443661991040337511173547191855046449026365512816228824462575916333039107225383742182140883508657391771509682887478265699599574490661758344137522397096834080053559849175417381883999446974867626551658276584835884531427756879002909517028352971634456212964043523117600665101241200659755851276178583829204197484423608007193045761893234922927965019875187212726750798125547095890455635792122103334669749923563025494780249011419521238281530911407907386025152274299581807247162591668545133312394804947079119153267343028244186041426363954800044800267049624820179289647669758318327131425170296923488962766844032326092752496035799646925650493681836090032380929345958897069536534940603402166544375589004563288225054525564056448246515187547119621844396582533754388569094113031509526179378002974120766514793942590298969594699556576121865619673378623625612521632086286922210327488921865436480229678070576561514463204692790682120738837781423356282360896320806822246801224826117718589638140918390367367222088832151375560037279839400415297002878307667094447456013455641725437090697939612257142989467154357846878861444581231459357198492252847160504922124247014121478057345510500801908699603302763478708108175450119307141223390866393833952942578690507643100638351983438934159613185434754649556978103829309716465143840700707360411237359984345225161050702705623526601276484830840761183013052793205427462865403603674532865105706587488225698157936789766974220575059683440869735020141020672358502007245225632651341055924019027421624843914035998953539459094407046912091409387001264560016237428802109276457931065792295524988727584610126483699989225695968815920560010165525637593\n",
      "Time:  47.18473291397095\n"
     ]
    }
   ],
   "source": [
    "k = np.arange(decimals)\n",
    "start5 = time.time()\n",
    "part_count2 = list(map(pi_map,k))\n",
    "resultss = reduce(reduce_, part_count2)\n",
    "end5 = time.time()\n",
    "t5 = end5-start5\n",
    "print('Pi value: ', resultss)\n",
    "print('Time: ', t5)"
   ]
  },
  {
   "cell_type": "code",
   "execution_count": 29,
   "metadata": {},
   "outputs": [
    {
     "name": "stdout",
     "output_type": "stream",
     "text": [
      "Pi value:  3.141592653589793238462643383279502884197169399375105820974944592307816406286208998628034825342117067982148086513282306647093844609550582231725359408128481117450284102701938521105559644622948954930381964428810975665933446128475648233786783165271201909145648566923460348610454326648213393607260249141273724587006606315588174881520920962829254091715364367892590360011330530548820466521384146951941511609433057270365759591953092186117381932611793105118548074462379962749567351885752724891227938183011949129833673362440656643086021394946395224737190702179860943702770539217176293176752384674818467669405132000568127145263560827785771342757789609173637178721468440901224953430146549585371050792279689258923542019956112129021960864034418159813629774771309960518707211349999998372978049951059731732816096318595024459455346908302642522308253344685035261931188171010003137838752886587533208381420617177669147303598253490428755468731159562863882353787593751957781857780532171226806613001927876611195909216420198938095257201065485863278865936153381827968230301952035301852968995773622599413891249721775283479131515574857242454150695950829533116861727855889075098381754637464939319255060400927701671139009848824012858361603563707660104710181942955596198946767837449448255379774726847104047534646208046684259069491293313677028989152104752162056966024058038150193511253382430035587640247496473263914199272604269922796782354781636009341721641219924586315030286182974555706749838505494588586926995690927210797509302955321165344987202755960236480665499119881834797753566369807426542527862551818417574672890977772793800081647060016145249192173217214772350141441973568548161361157352552133475741849468438523323907394143334547762416862518983569485562099219222184272550254256887671790494601653466804988627232791786085784383827967976681454100953883786360950680064225125205117392984896084128488626945604241965285022210661186306744278622039194945047123713786960956364371917287467764657573962413890865832645995813390478027590099465764078951269468398352595709825822620522489407726719478268482601476990902640136394437455305068203496252451749399651431429809190659250937221696461515709858387410597885959772975498930161753928468138268683868942774155991855925245953959431049972524680845987273644695848653836736222626099124608051243884390451244136549762780797715691435997700129616089441694868555848406353422072225828488648158456028506016842739452267467678895252138522549954666727823986456596116354886230577456498035593634568174324112515076069479451096596094025228879710893145669136867228748940560101503308617928680920874760917824938589009714909675985261365549781893129784821682998948722658804857564014270477555132379641451523746234364542858444795265867821051141354735739523113427166102135969536231442952484937187110145765403590279934403742007310578539062198387447808478489683321445713868751943506430218453191048481005370614680674919278191197939952061419663428754440643745123718192179998391015919561814675142691239748940907186494231961567945208095146550225231603881930142093762137855956638937787083039069792077346722182562599661501421503068038447734549202605414665925201497442850732518666002132434088190710486331734649651453905796268561005508106658796998163574736384052571459102897064140110971206280439039759515677157700420337869936007230558763176359421873125147120532928191826186125867321579198414848829164470609575270695722091756711672291098169091528017350671274858322287183520935396572512108357915136988209144421006751033467110314126711136990865851639831501970165151168517143765761835155650884909989859982387345528331635507647918535893226185489632132933089857064204675259070915481416549859461637180270981994309924488957571282890592323326097299712084433573265489382391193259746366730583604142813883032038249037589852437441702913276561809377344403070746921120191302033038019762110110044929321516084244485963766983895228684783123552658213144957685726243344189303968642624341077322697802807318915441101044682325271620105265227211166039666557309254711055785376346682065310989652691862056476931257058635662018558100729360659876486117910453348850346113657686753249441668039626579787718556084552965412665408530614344431858676975145661406800700237877659134401712749470420562230538994561314071127000407854733269939081454664645880797270826683063432858785698305235808933065757406795457163775254202114955761581400250126228594130216471550979259230990796547376125517656751357517829666454779174501129961489030463994713296210734043751895735961458901938971311179042978285647503203198691514028708085990480109412147221317947647772622414254854540332157185306142288137585043063321751829798662237172159160771669254748738986654949450114654062843366393790039769265672146385306736096571209180763832716641627488880078692560290228472104031721186082041900042296617119637792133757511495950156604963186294726547364252308177036751590673502350728354056704038674351362222477158915049530984448933309634087807693259939780541934144737744184263129860809988868741326047215695162396586457302163159819319516735381297416772947867242292465436680098067692823828068996400482435403701416314965897940924323789690706977942236250822168895738379862300159377647165122893578601588161755782973523344604281512627203734314653197777416031990665541876397929334419521541341899485444734567383162499341913181480927777103863877343177207545654532207770921201905166096280490926360197598828161332316663652861932668633606273567630354477628035045077723554710585954870279081435624014517180624643626794561275318134078330336254232783944975382437205835311477119926063813346776879695970309833913077109870408591337464144282277263465947047458784778720192771528073176790770715721344473060570073349243693113835049316312840425121925651798069411352801314701304781643788518529092854520116583934196562134914341595625865865570552690496520985803385072242648293972858478316305777756068887644624824685792603953527734803048029005876075825104747091643961362676044925627420420832085661190625454337213153595845068772460290161876679524061634252257719542916299193064553779914037340432875262888963995879475729174642635745525407909145135711136941091193932519107602082520261879853188770584297259167781314969900901921169717372784768472686084900337702424291651300500516832336435038951702989392233451722013812806965011784408745196012122859937162313017114448464090389064495444006198690754851602632750529834918740786680881833851022833450850486082503930213321971551843063545500766828294930413776552793975175461395398468339363830474611996653858153842056853386218672523340283087112328278921250771262946322956398989893582116745627010218356462201349671518819097303811980049734072396103685406643193950979019069963955245300545058068550195673022921913933918568034490398205955100226353536192041994745538593810234395544959778377902374216172711172364343543947822181852862408514006660443325888569867054315470696574745855033232334210730154594051655379068662733379958511562578432298827372319898757141595781119635833005940873068121602876496286744604774649159950549737425626901049037781986835938146574126804925648798556145372347867330390468838343634655379498641927056387293174872332083760112302991136793862708943879936201629515413371424892830722012690147546684765357616477379467520049075715552781965362132392640616013635815590742202020318727760527721900556148425551879253034351398442532234157623361064250639049750086562710953591946589751413103482276930624743536325691607815478181152843667957061108615331504452127473924544945423682886061340841486377670096120715124914043027253860764823634143346235189757664521641376796903149501910857598442391986291642193994907236234646844117394032659184044378051333894525742399508296591228508555821572503107125701266830240292952522011872676756220415420516184163484756516999811614101002996078386909291603028840026910414079288621507842451670908700069928212066041837180653556725253256753286129104248776182582976515795984703562226293486003415872298053498965022629174878820273420922224533985626476691490556284250391275771028402799806636582548892648802545661017296702664076559042909945681506526530537182941270336931378517860904070866711496558343434769338578171138645587367812301458768712660348913909562009939361031029161615288138437909904231747336394804575931493140529763475748119356709110137751721008031559024853090669203767192203322909433467685142214477379393751703443661991040337511173547191855046449026365512816228824462575916333039107225383742182140883508657391771509682887478265699599574490661758344137522397096834080053559849175417381883999446974867626551658276584835884531427756879002909517028352971634456212964043523117600665101241200659755851276178583829204197484423608007193045761893234922927965019875187212726750798125547095890455635792122103334669749923563025494780249011419521238281530911407907386025152274299581807247162591668545133312394804947079119153267343028244186041426363954800044800267049624820179289647669758318327131425170296923488962766844032326092752496035799646925650493681836090032380929345958897069536534940603402166544375589004563288225054525564056448246515187547119621844396582533754388569094113031509526179378002974120766514793942590298969594699556576121865619673378623625612521632086286922210327488921865436480229678070576561514463204692790682120738837781423356282360896320806822246801224826117718589638140918390367367222088832151375560037279839400415297002878307667094447456013455641725437090697939612257142989467154357846878861444581231459357198492252847160504922124247014121478057345510500801908699603302763478708108175450119307141223390866393833952942578690507643100638351983438934159613185434754649556978103829309716465143840700707360411237359984345225161050702705623526601276484830840761183013052793205427462865403603674532865105706587488225698157936789766974220575059683440869735020141020672358502007245225632651341055924019027421624843914035998953539459094407046912091409387001264560016237428802109276457931065792295524988727584610126483699989225695968815920560010165525637593\n",
      "Multiprocessing time:  17.143478870391846\n"
     ]
    }
   ],
   "source": [
    "k = np.arange(decimals)\n",
    "start6 = time.time()\n",
    "if __name__ ==  '__main__': \n",
    "    p=Pool(processes = 4)\n",
    "    output6 = p.map(pi_map,[i for i in k])\n",
    "    output7 = reduce(reduce_,output6)\n",
    "end6 = time.time()\n",
    "t6 = end6-start6\n",
    "print('Pi value: ',output7)\n",
    "print('Multiprocessing time: ', t6)"
   ]
  },
  {
   "cell_type": "code",
   "execution_count": 30,
   "metadata": {},
   "outputs": [],
   "source": [
    "getcontext().prec = 8"
   ]
  },
  {
   "cell_type": "markdown",
   "metadata": {},
   "source": [
    "### Task 4"
   ]
  },
  {
   "cell_type": "code",
   "execution_count": 60,
   "metadata": {},
   "outputs": [
    {
     "data": {
      "text/plain": [
       "(array([[1, 2],\n",
       "        [3, 4]]),\n",
       " array([[5, 6],\n",
       "        [7, 8]]))"
      ]
     },
     "execution_count": 60,
     "metadata": {},
     "output_type": "execute_result"
    }
   ],
   "source": [
    "import numpy as np\n",
    "from collections import defaultdict\n",
    "\n",
    "# Input matrices\n",
    "A = np.array([[1, 2], [3, 4]])\n",
    "B = np.array([[5, 6], [7, 8]])\n",
    "A, B"
   ]
  },
  {
   "cell_type": "code",
   "execution_count": 72,
   "metadata": {},
   "outputs": [],
   "source": [
    "def decomposition(M1, M2):\n",
    "    dec_M1 = []\n",
    "    dec_M2 = []\n",
    "    for i in range(M1.shape[0]):\n",
    "        for j in range(M1.shape[1]):\n",
    "            dec_M1.append(('A', i, j, M1[i,j], M2.shape[1], M2.shape[0]))\n",
    "\n",
    "    for i in range(M2.shape[0]):\n",
    "        for j in range(M2.shape[1]):\n",
    "            dec_M2.append(('B', i, j, M2[i,j], M1.shape[0], M1.shape[1]))\n",
    "\n",
    "    return dec_M1 + dec_M2\n",
    "\n",
    "def mapper(value):\n",
    "    # value is a (\"A\",i,j,a_ij,m,n) or (\"B\",j,k,b_jk,p,n)\n",
    "    result = []\n",
    "    if value[0] == 'A':\n",
    "        i = value[1]\n",
    "        j = value[2]\n",
    "        a_ij = value[3]\n",
    "        p = value[4]\n",
    "        for k in range(p):\n",
    "            result.append(((i, k), ('A', j, a_ij)))\n",
    "    else:\n",
    "        j = value[1]\n",
    "        k = value[2]\n",
    "        b_jk = value[3]\n",
    "        m = value[4]\n",
    "        for i in range(m):\n",
    "            result.append(((i, k), ('B', j, b_jk)))\n",
    "    return result\n",
    "\n",
    "def reducer(key, values):\n",
    "    # key is (i,k)\n",
    "    # values is a list of (\"A\",j,a_ij) and (\"B\",j,b_jk)\n",
    "    print(values)\n",
    "    hash_A = {value[1]: value[2] for value in values if value[0] == 'A'}\n",
    "    hash_B = {value[1]: value[2] for value in values if value[0] == 'B'}\n",
    "    result = 0\n",
    "    for j in hash_A:\n",
    "        if j in hash_B:\n",
    "            result += hash_A[j] * hash_B[j]\n",
    "    return (key, result)\n"
   ]
  },
  {
   "cell_type": "code",
   "execution_count": 62,
   "metadata": {},
   "outputs": [
    {
     "data": {
      "text/plain": [
       "[('A', 0, 0, 1, 2, 2),\n",
       " ('A', 0, 1, 2, 2, 2),\n",
       " ('A', 1, 0, 3, 2, 2),\n",
       " ('A', 1, 1, 4, 2, 2),\n",
       " ('B', 0, 0, 5, 2, 2),\n",
       " ('B', 0, 1, 6, 2, 2),\n",
       " ('B', 1, 0, 7, 2, 2),\n",
       " ('B', 1, 1, 8, 2, 2)]"
      ]
     },
     "execution_count": 62,
     "metadata": {},
     "output_type": "execute_result"
    }
   ],
   "source": [
    "dec = decomposition(A, B)\n",
    "dec"
   ]
  },
  {
   "cell_type": "code",
   "execution_count": 65,
   "metadata": {},
   "outputs": [
    {
     "data": {
      "text/plain": [
       "[((0, 0), ('A', 0, 1)),\n",
       " ((0, 1), ('A', 0, 1)),\n",
       " ((0, 0), ('A', 1, 2)),\n",
       " ((0, 1), ('A', 1, 2)),\n",
       " ((1, 0), ('A', 0, 3)),\n",
       " ((1, 1), ('A', 0, 3)),\n",
       " ((1, 0), ('A', 1, 4)),\n",
       " ((1, 1), ('A', 1, 4)),\n",
       " ((0, 0), ('B', 0, 5)),\n",
       " ((1, 0), ('B', 0, 5)),\n",
       " ((0, 1), ('B', 0, 6)),\n",
       " ((1, 1), ('B', 0, 6)),\n",
       " ((0, 0), ('B', 1, 7)),\n",
       " ((1, 0), ('B', 1, 7)),\n",
       " ((0, 1), ('B', 1, 8)),\n",
       " ((1, 1), ('B', 1, 8))]"
      ]
     },
     "execution_count": 65,
     "metadata": {},
     "output_type": "execute_result"
    }
   ],
   "source": [
    "map_result = list(map(mapper, dec))\n",
    "map_result = [x for sublist in map_result for x in sublist]\n",
    "map_result"
   ]
  },
  {
   "cell_type": "code",
   "execution_count": 75,
   "metadata": {},
   "outputs": [
    {
     "name": "stdout",
     "output_type": "stream",
     "text": [
      "[('A', 0, 1), ('A', 1, 2), ('B', 0, 5), ('B', 1, 7)]\n",
      "[('A', 0, 1), ('A', 1, 2), ('B', 0, 6), ('B', 1, 8)]\n",
      "[('A', 0, 3), ('A', 1, 4), ('B', 0, 5), ('B', 1, 7)]\n",
      "[('A', 0, 3), ('A', 1, 4), ('B', 0, 6), ('B', 1, 8)]\n"
     ]
    },
    {
     "data": {
      "text/plain": [
       "[((0, 0), 19), ((0, 1), 22), ((1, 0), 43), ((1, 1), 50)]"
      ]
     },
     "execution_count": 75,
     "metadata": {},
     "output_type": "execute_result"
    }
   ],
   "source": [
    "intermediate = defaultdict(list)\n",
    "for key, value in map_result:\n",
    "    intermediate[key].append(value)\n",
    "\n",
    "final_result = [reducer(key, values) for key, values in intermediate.items()]\n",
    "final_result "
   ]
  },
  {
   "cell_type": "code",
   "execution_count": 59,
   "metadata": {},
   "outputs": [
    {
     "name": "stdout",
     "output_type": "stream",
     "text": [
      "Resulting Matrix C:\n",
      "[[19. 22.]\n",
      " [43. 50.]]\n"
     ]
    }
   ],
   "source": [
    "n, m = A.shape[0], B.shape[1]\n",
    "result_matrix = np.zeros((n, m))\n",
    "for (i, k), value in final_result:\n",
    "    result_matrix[i, k] = value\n",
    "\n",
    "print(\"Resulting Matrix C:\")\n",
    "print(result_matrix)"
   ]
  }
 ],
 "metadata": {
  "kernelspec": {
   "display_name": "Python 3",
   "language": "python",
   "name": "python3"
  },
  "language_info": {
   "codemirror_mode": {
    "name": "ipython",
    "version": 3
   },
   "file_extension": ".py",
   "mimetype": "text/x-python",
   "name": "python",
   "nbconvert_exporter": "python",
   "pygments_lexer": "ipython3",
   "version": "3.10.12"
  }
 },
 "nbformat": 4,
 "nbformat_minor": 2
}
