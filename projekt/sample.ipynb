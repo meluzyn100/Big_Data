{
 "cells": [
  {
   "cell_type": "code",
   "execution_count": 8,
   "metadata": {},
   "outputs": [],
   "source": [
    "import numpy as np\n",
    "import pandas as pd\n",
    "from wordcloud import WordCloud\n",
    "import matplotlib.dates as mdates\n",
    "import matplotlib.pyplot as plt\n",
    "import random\n",
    "from pyspark import SparkConf, SparkContext\n",
    "from pyspark.sql import SparkSession\n",
    "import pyspark.sql.types as t\n",
    "import pyspark.sql.functions as f\n",
    "import seaborn as sns\n",
    "import pickle\n",
    "from pyspark.sql.functions import col, sum\n",
    "import dataframe_image as dfi\n",
    "\n",
    "sns.set(style=\"darkgrid\")\n",
    "\n",
    "# file_path = \"/home/olek/studia/semestr_3_AM/Big_Data/Big_Data/projekt/data/charts.csv\"\n",
    "file_path = \"/home/olek/studia/semestr_3_AM/Big_Data/Big_Data/projekt/data/sample.csv\"\n",
    "\n",
    "# results_path = \"/home/olek/studia/semestr_3_AM/Big_Data/Big_Data/projekt/sample_results/\"\n",
    "if file_path.endswith(\"sample.csv\"):\n",
    "    results_path = \"/home/olek/studia/semestr_3_AM/Big_Data/Big_Data/projekt/sample_results/\"\n",
    "    images_path = \"/home/olek/studia/semestr_3_AM/Big_Data/Big_Data/projekt/sample_images/\"\n",
    "else:\n",
    "    results_path = \"/home/olek/studia/semestr_3_AM/Big_Data/Big_Data/projekt/results/\"\n",
    "    images_path = \"/home/olek/studia/semestr_3_AM/Big_Data/Big_Data/projekt/images/\"\n",
    "\n",
    "seed = 777\n",
    "np.random.seed(seed)\n",
    "random.seed(seed)"
   ]
  },
  {
   "cell_type": "code",
   "execution_count": 78,
   "metadata": {},
   "outputs": [],
   "source": [
    "# pd.read_csv(\"/home/olek/studia/semestr_3_AM/Big_Data/Big_Data/projekt/data/charts.csv\", nrows=10**6)\\\n",
    "#     .to_csv(\"/home/olek/studia/semestr_3_AM/Big_Data/Big_Data/projekt/data/sample.csv\", index=False)"
   ]
  },
  {
   "cell_type": "code",
   "execution_count": 2,
   "metadata": {},
   "outputs": [
    {
     "name": "stderr",
     "output_type": "stream",
     "text": [
      "24/06/24 14:38:28 WARN Utils: Your hostname, olek resolves to a loopback address: 127.0.1.1; using 192.168.100.7 instead (on interface wlp6s0)\n",
      "24/06/24 14:38:28 WARN Utils: Set SPARK_LOCAL_IP if you need to bind to another address\n",
      "Setting default log level to \"WARN\".\n",
      "To adjust logging level use sc.setLogLevel(newLevel). For SparkR, use setLogLevel(newLevel).\n",
      "24/06/24 14:38:34 WARN NativeCodeLoader: Unable to load native-hadoop library for your platform... using builtin-java classes where applicable\n",
      "24/06/24 14:38:43 WARN Utils: Service 'SparkUI' could not bind on port 4040. Attempting port 4041.\n",
      "/home/olek/.local/lib/python3.10/site-packages/pyspark/sql/dataframe.py:329: FutureWarning: Deprecated in 2.0, use createOrReplaceTempView instead.\n",
      "  warnings.warn(\"Deprecated in 2.0, use createOrReplaceTempView instead.\", FutureWarning)\n"
     ]
    }
   ],
   "source": [
    "spark = SparkSession.builder \\\n",
    "    .appName(\"Read CSV File\") \\\n",
    "    .getOrCreate()\n",
    "df = spark.read.csv(file_path, header=True, inferSchema=True)\n",
    "df = df.withColumn(\"rank\", f.col(\"rank\").cast(t.IntegerType())).withColumn(\"date\", f.col(\"date\").cast(t.DateType())).withColumn(\"streams\", f.col(\"streams\").cast(t.IntegerType()))\n",
    "df.registerTempTable(\"charts\")"
   ]
  },
  {
   "cell_type": "code",
   "execution_count": 4,
   "metadata": {},
   "outputs": [
    {
     "name": "stdout",
     "output_type": "stream",
     "text": [
      "root\n",
      " |-- title: string (nullable = true)\n",
      " |-- rank: integer (nullable = true)\n",
      " |-- date: date (nullable = true)\n",
      " |-- artist: string (nullable = true)\n",
      " |-- url: string (nullable = true)\n",
      " |-- region: string (nullable = true)\n",
      " |-- chart: string (nullable = true)\n",
      " |-- trend: string (nullable = true)\n",
      " |-- streams: integer (nullable = true)\n",
      "\n"
     ]
    }
   ],
   "source": [
    "df.printSchema()"
   ]
  },
  {
   "cell_type": "code",
   "execution_count": 3,
   "metadata": {},
   "outputs": [
    {
     "name": "stderr",
     "output_type": "stream",
     "text": [
      "                                                                                \r"
     ]
    },
    {
     "data": {
      "text/html": [
       "<div>\n",
       "<style scoped>\n",
       "    .dataframe tbody tr th:only-of-type {\n",
       "        vertical-align: middle;\n",
       "    }\n",
       "\n",
       "    .dataframe tbody tr th {\n",
       "        vertical-align: top;\n",
       "    }\n",
       "\n",
       "    .dataframe thead th {\n",
       "        text-align: right;\n",
       "    }\n",
       "</style>\n",
       "<table border=\"1\" class=\"dataframe\">\n",
       "  <thead>\n",
       "    <tr style=\"text-align: right;\">\n",
       "      <th></th>\n",
       "      <th>count</th>\n",
       "    </tr>\n",
       "  </thead>\n",
       "  <tbody>\n",
       "    <tr>\n",
       "      <th>0</th>\n",
       "      <td>1000000</td>\n",
       "    </tr>\n",
       "  </tbody>\n",
       "</table>\n",
       "</div>"
      ],
      "text/plain": [
       "     count\n",
       "0  1000000"
      ]
     },
     "execution_count": 3,
     "metadata": {},
     "output_type": "execute_result"
    }
   ],
   "source": [
    "spark.sql('''\n",
    "SELECT COUNT(*) as count\n",
    "FROM charts ;\n",
    "''').toPandas().head(10)"
   ]
  },
  {
   "cell_type": "markdown",
   "metadata": {},
   "source": [
    "# Show head data:"
   ]
  },
  {
   "cell_type": "code",
   "execution_count": 15,
   "metadata": {},
   "outputs": [
    {
     "name": "stdout",
     "output_type": "stream",
     "text": [
      "CPU times: user 6 µs, sys: 1 µs, total: 7 µs\n",
      "Wall time: 12.4 µs\n"
     ]
    }
   ],
   "source": [
    "%time\n",
    "head = spark.sql(\"SELECT * FROM charts LIMIT 10\")\n",
    "with open(results_path + \"head.pkl\", \"wb\") as f:\n",
    "    pickle.dump(head.toPandas(), f)\n",
    "    \n",
    "df_styled = spark.sql(\"SELECT * from charts limit 10\").toPandas().style.background_gradient() \n",
    "dfi.export(df_styled, images_path + \"mytable.png\")\n",
    "df_styled = head.toPandas().style.background_gradient() \n",
    "dfi.export(df_styled, images_path + \"head.png\")\n",
    "head.toPandas()"
   ]
  },
  {
   "cell_type": "markdown",
   "metadata": {},
   "source": [
    "# EDA"
   ]
  },
  {
   "cell_type": "markdown",
   "metadata": {},
   "source": [
    "## Missing data"
   ]
  },
  {
   "cell_type": "code",
   "execution_count": 8,
   "metadata": {},
   "outputs": [
    {
     "name": "stdout",
     "output_type": "stream",
     "text": [
      "CPU times: user 7 µs, sys: 2 µs, total: 9 µs\n",
      "Wall time: 16.7 µs\n"
     ]
    },
    {
     "name": "stderr",
     "output_type": "stream",
     "text": [
      "                                                                                \r"
     ]
    },
    {
     "name": "stdout",
     "output_type": "stream",
     "text": [
      "+-----+----+----+------+---+------+-----+-----+-------+\n",
      "|title|rank|date|artist|url|region|chart|trend|streams|\n",
      "+-----+----+----+------+---+------+-----+-----+-------+\n",
      "|    0|  23|  23|     0|  0|     0|    0|    0| 166774|\n",
      "+-----+----+----+------+---+------+-----+-----+-------+\n",
      "\n"
     ]
    },
    {
     "name": "stderr",
     "output_type": "stream",
     "text": [
      "                                                                                \r"
     ]
    }
   ],
   "source": [
    "%time\n",
    "columns = df.columns\n",
    "missing_data = df.select([(sum(col(c).isNull().cast(\"int\")).alias(c)) for c in columns])\n",
    "missing_data.show()\n",
    "\n",
    "with open(results_path + \"missing_data.pkl\", \"wb\") as f:\n",
    "    pickle.dump(missing_data.toPandas(), f)\n",
    "\n",
    "df_styled = missing_data.toPandas().style.background_gradient()\n",
    "dfi.export(df_styled, images_path + \"missing_data.png\")"
   ]
  },
  {
   "cell_type": "markdown",
   "metadata": {},
   "source": [
    "## unique_values"
   ]
  },
  {
   "cell_type": "code",
   "execution_count": 9,
   "metadata": {},
   "outputs": [
    {
     "name": "stdout",
     "output_type": "stream",
     "text": [
      "CPU times: user 7 µs, sys: 1e+03 ns, total: 8 µs\n",
      "Wall time: 18.1 µs\n"
     ]
    },
    {
     "name": "stderr",
     "output_type": "stream",
     "text": [
      "                                                                                \r"
     ]
    }
   ],
   "source": [
    "%time\n",
    "missing_streams_df = df.filter(col('streams').isNull())\n",
    "unique_values = {col_name: missing_streams_df.select(col_name).distinct().count() for col_name in missing_streams_df.columns}\n",
    "unique_values_df = pd.DataFrame(unique_values, index=[0])\n",
    "\n",
    "with open(results_path + \"unique_values_df.pkl\", \"wb\") as f:\n",
    "    pickle.dump(unique_values_df, f)\n",
    "\n",
    "df_styled = unique_values_df.style.background_gradient() \n",
    "dfi.export(df_styled, images_path + \"unique_values.png\")"
   ]
  },
  {
   "cell_type": "markdown",
   "metadata": {},
   "source": [
    "## Count np of missing striming value per chart"
   ]
  },
  {
   "cell_type": "code",
   "execution_count": 128,
   "metadata": {},
   "outputs": [
    {
     "name": "stdout",
     "output_type": "stream",
     "text": [
      "CPU times: user 4 µs, sys: 0 ns, total: 4 µs\n",
      "Wall time: 9.78 µs\n"
     ]
    },
    {
     "name": "stderr",
     "output_type": "stream",
     "text": [
      "                                                                                \r"
     ]
    }
   ],
   "source": [
    "%time\n",
    "null_cart = spark.sql(\"\"\"\n",
    "    SELECT chart, count(chart) as count\n",
    "    FROM charts\n",
    "    WHERE streams IS NULL\n",
    "    GROUP BY chart\n",
    "    ORDER BY count DESC;\"\"\")\n",
    "null_cart_df = null_cart.toPandas()\n",
    "with open(results_path + \"null_cart_df.pkl\", \"wb\") as f:\n",
    "    pickle.dump(null_cart_df, f)\n",
    "\n",
    "df_styled = null_cart_df.style.background_gradient() \n",
    "dfi.export(df_styled, images_path + \"unique_values.png\")"
   ]
  },
  {
   "cell_type": "markdown",
   "metadata": {},
   "source": [
    "## SElect TOP200 "
   ]
  },
  {
   "cell_type": "code",
   "execution_count": 12,
   "metadata": {},
   "outputs": [
    {
     "name": "stdout",
     "output_type": "stream",
     "text": [
      "CPU times: user 7 µs, sys: 1 µs, total: 8 µs\n",
      "Wall time: 15.7 µs\n"
     ]
    },
    {
     "name": "stdout",
     "output_type": "stream",
     "text": [
      "+--------------------+----+----------+--------------------+--------------------+---------+------+-------------+-------+\n",
      "|               title|rank|      date|              artist|                 url|   region| chart|        trend|streams|\n",
      "+--------------------+----+----------+--------------------+--------------------+---------+------+-------------+-------+\n",
      "|Chantaje (feat. M...|   1|2017-01-01|             Shakira|https://open.spot...|Argentina|top200|SAME_POSITION| 253019|\n",
      "|Vente Pa' Ca (fea...|   2|2017-01-01|        Ricky Martin|https://open.spot...|Argentina|top200|      MOVE_UP| 223988|\n",
      "|Reggaetón Lento (...|   3|2017-01-01|                CNCO|https://open.spot...|Argentina|top200|    MOVE_DOWN| 210943|\n",
      "|              Safari|   4|2017-01-01|J Balvin, Pharrel...|https://open.spot...|Argentina|top200|SAME_POSITION| 173865|\n",
      "|         Shaky Shaky|   5|2017-01-01|        Daddy Yankee|https://open.spot...|Argentina|top200|      MOVE_UP| 153956|\n",
      "|         Traicionera|   6|2017-01-01|     Sebastian Yatra|https://open.spot...|Argentina|top200|    MOVE_DOWN| 151140|\n",
      "|Cuando Se Pone a ...|   7|2017-01-01|              Rombai|https://open.spot...|Argentina|top200|    MOVE_DOWN| 148369|\n",
      "|Otra vez (feat. J...|   8|2017-01-01|       Zion & Lennox|https://open.spot...|Argentina|top200|    MOVE_DOWN| 143004|\n",
      "|        La Bicicleta|   9|2017-01-01|Carlos Vives, Sha...|https://open.spot...|Argentina|top200|      MOVE_UP| 126389|\n",
      "|Dile Que Tu Me Qu...|  10|2017-01-01|               Ozuna|https://open.spot...|Argentina|top200|    MOVE_DOWN| 112012|\n",
      "|  Andas En Mi Cabeza|  11|2017-01-01|Chino & Nacho, Da...|https://open.spot...|Argentina|top200|SAME_POSITION| 110395|\n",
      "|Desde Esa Noche (...|  12|2017-01-01|              Thalia|https://open.spot...|Argentina|top200|      MOVE_UP| 104592|\n",
      "|      Borro Cassette|  13|2017-01-01|              Maluma|https://open.spot...|Argentina|top200|      MOVE_UP| 101535|\n",
      "|Gyal You A Party ...|  14|2017-01-01|Charly Black, Dad...|https://open.spot...|Argentina|top200|    MOVE_DOWN|  99722|\n",
      "|Me llamas (feat. ...|  15|2017-01-01|             Piso 21|https://open.spot...|Argentina|top200|    MOVE_DOWN|  95010|\n",
      "|La Bicicleta (fea...|  16|2017-01-01|Carlos Vives, Sha...|https://open.spot...|Argentina|top200|      MOVE_UP|  92723|\n",
      "|DUELE EL CORAZON ...|  17|2017-01-01|    Enrique Iglesias|https://open.spot...|Argentina|top200|      MOVE_UP|  91325|\n",
      "|     Let Me Love You|  18|2017-01-01|DJ Snake, Justin ...|https://open.spot...|Argentina|top200|    MOVE_DOWN|  87926|\n",
      "|La Noche No Es pa...|  19|2017-01-01|         Mano Arriba|https://open.spot...|Argentina|top200|SAME_POSITION|  87033|\n",
      "|          Vacaciones|  20|2017-01-01|               Wisin|https://open.spot...|Argentina|top200|    MOVE_DOWN|  86103|\n",
      "+--------------------+----+----------+--------------------+--------------------+---------+------+-------------+-------+\n",
      "only showing top 20 rows\n",
      "\n"
     ]
    }
   ],
   "source": [
    "%time\n",
    "filtered_df = spark.sql(\"SELECT * FROM charts WHERE chart = 'top200'\")\n",
    "filtered_df.show()\n",
    "df = filtered_df\n",
    "df.createOrReplaceTempView(\"charts\")"
   ]
  },
  {
   "cell_type": "code",
   "execution_count": 14,
   "metadata": {},
   "outputs": [
    {
     "name": "stdout",
     "output_type": "stream",
     "text": [
      "CPU times: user 7 µs, sys: 2 µs, total: 9 µs\n",
      "Wall time: 15.7 µs\n"
     ]
    },
    {
     "name": "stderr",
     "output_type": "stream",
     "text": [
      "                                                                                \r"
     ]
    },
    {
     "name": "stdout",
     "output_type": "stream",
     "text": [
      "+-----+----+----+------+---+------+-----+-----+-------+\n",
      "|title|rank|date|artist|url|region|chart|trend|streams|\n",
      "+-----+----+----+------+---+------+-----+-----+-------+\n",
      "|    0|   0|   0|     0|  0|     0|    0|    0|      0|\n",
      "+-----+----+----+------+---+------+-----+-----+-------+\n",
      "\n"
     ]
    },
    {
     "name": "stderr",
     "output_type": "stream",
     "text": [
      "                                                                                \r"
     ]
    }
   ],
   "source": [
    "%time\n",
    "columns = df.columns\n",
    "missing_data = df.select([(sum(col(c).isNull().cast(\"int\")).alias(c)) for c in columns])\n",
    "missing_data.show()\n",
    "\n",
    "with open(results_path + \"missing_data_clearing.pkl\", \"wb\") as f:\n",
    "    pickle.dump(missing_data.toPandas(), f)\n",
    "\n",
    "df_styled = missing_data.toPandas().style.background_gradient()\n",
    "dfi.export(df_styled, images_path + \"missing_data.png\")"
   ]
  },
  {
   "cell_type": "code",
   "execution_count": 5,
   "metadata": {},
   "outputs": [
    {
     "name": "stdout",
     "output_type": "stream",
     "text": [
      "CPU times: user 6 µs, sys: 2 µs, total: 8 µs\n",
      "Wall time: 14.3 µs\n"
     ]
    },
    {
     "name": "stderr",
     "output_type": "stream",
     "text": [
      "                                                                                \r"
     ]
    },
    {
     "name": "stdout",
     "output_type": "stream",
     "text": [
      "+----------+----------+-------------------+\n",
      "| max(date)| min(date)|          intervale|\n",
      "+----------+----------+-------------------+\n",
      "|2021-10-15|2017-01-01|INTERVAL '1748' DAY|\n",
      "+----------+----------+-------------------+\n",
      "\n"
     ]
    },
    {
     "name": "stderr",
     "output_type": "stream",
     "text": [
      "                                                                                \r"
     ]
    },
    {
     "data": {
      "text/html": [
       "<div>\n",
       "<style scoped>\n",
       "    .dataframe tbody tr th:only-of-type {\n",
       "        vertical-align: middle;\n",
       "    }\n",
       "\n",
       "    .dataframe tbody tr th {\n",
       "        vertical-align: top;\n",
       "    }\n",
       "\n",
       "    .dataframe thead th {\n",
       "        text-align: right;\n",
       "    }\n",
       "</style>\n",
       "<table border=\"1\" class=\"dataframe\">\n",
       "  <thead>\n",
       "    <tr style=\"text-align: right;\">\n",
       "      <th></th>\n",
       "      <th>max(date)</th>\n",
       "      <th>min(date)</th>\n",
       "      <th>intervale</th>\n",
       "    </tr>\n",
       "  </thead>\n",
       "  <tbody>\n",
       "    <tr>\n",
       "      <th>0</th>\n",
       "      <td>2021-10-15</td>\n",
       "      <td>2017-01-01</td>\n",
       "      <td>1748</td>\n",
       "    </tr>\n",
       "  </tbody>\n",
       "</table>\n",
       "</div>"
      ],
      "text/plain": [
       "    max(date)   min(date)  intervale\n",
       "0  2021-10-15  2017-01-01       1748"
      ]
     },
     "execution_count": 5,
     "metadata": {},
     "output_type": "execute_result"
    }
   ],
   "source": [
    "%time\n",
    "data_intervale = spark.sql(\"SELECT  MAX(date), MIN(date), MAX(date) - MIN(date) as intervale FROM charts\")\n",
    "data_intervale.show()\n",
    "full_data = data_intervale.toPandas()[\"intervale\"][0].days\n",
    "\n",
    "with open(results_path + \"data_intervale.pkl\", \"wb\") as f:\n",
    "    pickle.dump(data_intervale.toPandas(), f)\n",
    "\n",
    "df_styled = data_intervale.toPandas()\n",
    "df_styled[\"intervale\"] = full_data\n",
    "df_styled.style.background_gradient()\n",
    "dfi.export(df_styled, images_path + \"data_intervale.png\")\n",
    "df_styled"
   ]
  },
  {
   "cell_type": "markdown",
   "metadata": {},
   "source": [
    "# EDA after clean"
   ]
  },
  {
   "cell_type": "code",
   "execution_count": 10,
   "metadata": {},
   "outputs": [],
   "source": [
    "spark = SparkSession.builder \\\n",
    "    .appName(\"Read CSV File\") \\\n",
    "    .getOrCreate()\n",
    "file_path = \"/home/olek/studia/semestr_3_AM/Big_Data/Big_Data/projekt/data/sample_3.csv\"\n",
    "\n",
    "df = spark.read.csv(file_path, header=True, inferSchema=True)\n",
    "df = df.withColumn(\"rank\", f.col(\"rank\").cast(t.IntegerType())).withColumn(\"date\", f.col(\"date\").cast(t.DateType())).withColumn(\"streams\", f.col(\"streams\").cast(t.IntegerType()))\n",
    "df.registerTempTable(\"charts\")"
   ]
  },
  {
   "cell_type": "markdown",
   "metadata": {},
   "source": [
    "## integrity ratio by region"
   ]
  },
  {
   "cell_type": "code",
   "execution_count": 12,
   "metadata": {},
   "outputs": [
    {
     "data": {
      "text/html": [
       "<style type=\"text/css\">\n",
       "#T_4b858_row0_col1, #T_4b858_row0_col2, #T_4b858_row1_col1, #T_4b858_row1_col2 {\n",
       "  background-color: #023858;\n",
       "  color: #f1f1f1;\n",
       "}\n",
       "#T_4b858_row2_col1, #T_4b858_row2_col2 {\n",
       "  background-color: #034165;\n",
       "  color: #f1f1f1;\n",
       "}\n",
       "#T_4b858_row3_col1, #T_4b858_row3_col2 {\n",
       "  background-color: #034267;\n",
       "  color: #f1f1f1;\n",
       "}\n",
       "#T_4b858_row4_col1, #T_4b858_row4_col2 {\n",
       "  background-color: #034369;\n",
       "  color: #f1f1f1;\n",
       "}\n",
       "#T_4b858_row5_col1, #T_4b858_row5_col2 {\n",
       "  background-color: #034f7d;\n",
       "  color: #f1f1f1;\n",
       "}\n",
       "#T_4b858_row6_col1, #T_4b858_row6_col2, #T_4b858_row7_col1, #T_4b858_row7_col2, #T_4b858_row8_col1, #T_4b858_row8_col2, #T_4b858_row9_col1, #T_4b858_row9_col2, #T_4b858_row10_col1, #T_4b858_row10_col2 {\n",
       "  background-color: #fff7fb;\n",
       "  color: #000000;\n",
       "}\n",
       "</style>\n",
       "<table id=\"T_4b858\">\n",
       "  <thead>\n",
       "    <tr>\n",
       "      <th class=\"blank level0\" >&nbsp;</th>\n",
       "      <th id=\"T_4b858_level0_col0\" class=\"col_heading level0 col0\" >region</th>\n",
       "      <th id=\"T_4b858_level0_col1\" class=\"col_heading level0 col1\" >count</th>\n",
       "      <th id=\"T_4b858_level0_col2\" class=\"col_heading level0 col2\" >procent</th>\n",
       "    </tr>\n",
       "  </thead>\n",
       "  <tbody>\n",
       "    <tr>\n",
       "      <th id=\"T_4b858_level0_row0\" class=\"row_heading level0 row0\" >0</th>\n",
       "      <td id=\"T_4b858_row0_col0\" class=\"data row0 col0\" >Brazil</td>\n",
       "      <td id=\"T_4b858_row0_col1\" class=\"data row0 col1\" >1934</td>\n",
       "      <td id=\"T_4b858_row0_col2\" class=\"data row0 col2\" >0.005532</td>\n",
       "    </tr>\n",
       "    <tr>\n",
       "      <th id=\"T_4b858_level0_row1\" class=\"row_heading level0 row1\" >1</th>\n",
       "      <td id=\"T_4b858_row1_col0\" class=\"data row1 col0\" >Austria</td>\n",
       "      <td id=\"T_4b858_row1_col1\" class=\"data row1 col1\" >1934</td>\n",
       "      <td id=\"T_4b858_row1_col2\" class=\"data row1 col2\" >0.005532</td>\n",
       "    </tr>\n",
       "    <tr>\n",
       "      <th id=\"T_4b858_level0_row2\" class=\"row_heading level0 row2\" >2</th>\n",
       "      <td id=\"T_4b858_row2_col0\" class=\"data row2 col0\" >United States</td>\n",
       "      <td id=\"T_4b858_row2_col1\" class=\"data row2 col1\" >1870</td>\n",
       "      <td id=\"T_4b858_row2_col2\" class=\"data row2 col2\" >0.005349</td>\n",
       "    </tr>\n",
       "    <tr>\n",
       "      <th id=\"T_4b858_level0_row3\" class=\"row_heading level0 row3\" >3</th>\n",
       "      <td id=\"T_4b858_row3_col0\" class=\"data row3 col0\" >Philippines</td>\n",
       "      <td id=\"T_4b858_row3_col1\" class=\"data row3 col1\" >1863</td>\n",
       "      <td id=\"T_4b858_row3_col2\" class=\"data row3 col2\" >0.005329</td>\n",
       "    </tr>\n",
       "    <tr>\n",
       "      <th id=\"T_4b858_level0_row4\" class=\"row_heading level0 row4\" >4</th>\n",
       "      <td id=\"T_4b858_row4_col0\" class=\"data row4 col0\" >Indonesia</td>\n",
       "      <td id=\"T_4b858_row4_col1\" class=\"data row4 col1\" >1857</td>\n",
       "      <td id=\"T_4b858_row4_col2\" class=\"data row4 col2\" >0.005312</td>\n",
       "    </tr>\n",
       "    <tr>\n",
       "      <th id=\"T_4b858_level0_row5\" class=\"row_heading level0 row5\" >32</th>\n",
       "      <td id=\"T_4b858_row5_col0\" class=\"data row5 col0\" >Poland</td>\n",
       "      <td id=\"T_4b858_row5_col1\" class=\"data row5 col1\" >1764</td>\n",
       "      <td id=\"T_4b858_row5_col2\" class=\"data row5 col2\" >0.005046</td>\n",
       "    </tr>\n",
       "    <tr>\n",
       "      <th id=\"T_4b858_level0_row6\" class=\"row_heading level0 row6\" >70</th>\n",
       "      <td id=\"T_4b858_row6_col0\" class=\"data row6 col0\" > Zion & Lennox</td>\n",
       "      <td id=\"T_4b858_row6_col1\" class=\"data row6 col1\" >2</td>\n",
       "      <td id=\"T_4b858_row6_col2\" class=\"data row6 col2\" >0.000006</td>\n",
       "    </tr>\n",
       "    <tr>\n",
       "      <th id=\"T_4b858_level0_row7\" class=\"row_heading level0 row7\" >71</th>\n",
       "      <td id=\"T_4b858_row7_col0\" class=\"data row7 col0\" > Ozuna</td>\n",
       "      <td id=\"T_4b858_row7_col1\" class=\"data row7 col1\" >2</td>\n",
       "      <td id=\"T_4b858_row7_col2\" class=\"data row7 col2\" >0.000006</td>\n",
       "    </tr>\n",
       "    <tr>\n",
       "      <th id=\"T_4b858_level0_row8\" class=\"row_heading level0 row8\" >72</th>\n",
       "      <td id=\"T_4b858_row8_col0\" class=\"data row8 col0\" >https://open.spotify.com/track/1Fp4njyRHJYyMTKP899c0q</td>\n",
       "      <td id=\"T_4b858_row8_col1\" class=\"data row8 col1\" >1</td>\n",
       "      <td id=\"T_4b858_row8_col2\" class=\"data row8 col2\" >0.000003</td>\n",
       "    </tr>\n",
       "    <tr>\n",
       "      <th id=\"T_4b858_level0_row9\" class=\"row_heading level0 row9\" >73</th>\n",
       "      <td id=\"T_4b858_row9_col0\" class=\"data row9 col0\" > Nino Freestyle</td>\n",
       "      <td id=\"T_4b858_row9_col1\" class=\"data row9 col1\" >1</td>\n",
       "      <td id=\"T_4b858_row9_col2\" class=\"data row9 col2\" >0.000003</td>\n",
       "    </tr>\n",
       "    <tr>\n",
       "      <th id=\"T_4b858_level0_row10\" class=\"row_heading level0 row10\" >74</th>\n",
       "      <td id=\"T_4b858_row10_col0\" class=\"data row10 col0\" > La Insuperable</td>\n",
       "      <td id=\"T_4b858_row10_col1\" class=\"data row10 col1\" >1</td>\n",
       "      <td id=\"T_4b858_row10_col2\" class=\"data row10 col2\" >0.000003</td>\n",
       "    </tr>\n",
       "  </tbody>\n",
       "</table>\n"
      ],
      "text/plain": [
       "<pandas.io.formats.style.Styler at 0x73b9a64b44c0>"
      ]
     },
     "execution_count": 12,
     "metadata": {},
     "output_type": "execute_result"
    }
   ],
   "source": [
    "procentag_region = spark.sql(\"\"\"\n",
    "    SELECT region, COUNT(region) as count, COUNT(region) / {} as procent\n",
    "    FROM charts\n",
    "    GROUP BY region\n",
    "    ORDER BY count DESC;\"\"\".format(full_data*200))\n",
    "procentag_region = procentag_region.toPandas()\n",
    "\n",
    "with open(results_path + \"procentag_region.pkl\", \"wb\") as f:\n",
    "    pickle.dump(procentag_region, f)\n",
    "\n",
    "procentag_region_filtr = pd.concat([procentag_region.head(5), procentag_region[procentag_region[\"region\"] == \"Poland\"] , procentag_region.tail(5)])\n",
    "df_styled = procentag_region_filtr.style.background_gradient()\n",
    "dfi.export(df_styled, images_path + \"procentag_region.png\")\n",
    "df_styled"
   ]
  },
  {
   "cell_type": "code",
   "execution_count": null,
   "metadata": {},
   "outputs": [],
   "source": []
  },
  {
   "cell_type": "code",
   "execution_count": null,
   "metadata": {},
   "outputs": [],
   "source": []
  },
  {
   "cell_type": "code",
   "execution_count": null,
   "metadata": {},
   "outputs": [],
   "source": []
  },
  {
   "cell_type": "code",
   "execution_count": 25,
   "metadata": {},
   "outputs": [
    {
     "name": "stderr",
     "output_type": "stream",
     "text": [
      "                                                                                \r"
     ]
    },
    {
     "data": {
      "image/png": "[encoded data removed]",
      "text/plain": [
       "<Figure size 1000x600 with 1 Axes>"
      ]
     },
     "metadata": {},
     "output_type": "display_data"
    }
   ],
   "source": [
    "from pyspark.sql.functions import col, count\n",
    "\n",
    "artist_counts = df.groupBy('artist').agg(count('title').alias('song_count')).orderBy(col('song_count').desc())\n",
    "\n",
    "# Konwersja do Pandas DataFrame dla łatwiejszej wizualizacji\n",
    "artist_counts_pd = artist_counts.limit(10).toPandas()\n",
    "\n",
    "# Wykres słupkowy najpopularniejszych artystów\n",
    "import matplotlib.pyplot as plt\n",
    "\n",
    "plt.figure(figsize=(10, 6))\n",
    "plt.barh(artist_counts_pd['artist'], artist_counts_pd['song_count'])\n",
    "plt.title('Top 10 najpopularniejszych artystów')\n",
    "plt.xlabel('Liczba utworów w Top 200')\n",
    "plt.ylabel('Artysta')\n",
    "plt.gca().invert_yaxis()\n",
    "plt.show()"
   ]
  },
  {
   "cell_type": "code",
   "execution_count": 13,
   "metadata": {},
   "outputs": [
    {
     "data": {
      "text/html": [
       "<div>\n",
       "<style scoped>\n",
       "    .dataframe tbody tr th:only-of-type {\n",
       "        vertical-align: middle;\n",
       "    }\n",
       "\n",
       "    .dataframe tbody tr th {\n",
       "        vertical-align: top;\n",
       "    }\n",
       "\n",
       "    .dataframe thead th {\n",
       "        text-align: right;\n",
       "    }\n",
       "</style>\n",
       "<table border=\"1\" class=\"dataframe\">\n",
       "  <thead>\n",
       "    <tr style=\"text-align: right;\">\n",
       "      <th></th>\n",
       "      <th>title</th>\n",
       "      <th>rank</th>\n",
       "      <th>date</th>\n",
       "      <th>artist</th>\n",
       "      <th>url</th>\n",
       "      <th>region</th>\n",
       "      <th>chart</th>\n",
       "      <th>trend</th>\n",
       "      <th>streams</th>\n",
       "    </tr>\n",
       "  </thead>\n",
       "  <tbody>\n",
       "    <tr>\n",
       "      <th>0</th>\n",
       "      <td>Chantaje (feat. Maluma)</td>\n",
       "      <td>1</td>\n",
       "      <td>2017-01-01</td>\n",
       "      <td>Shakira</td>\n",
       "      <td>https://open.spotify.com/track/6mICuAdrwEjh6Y6...</td>\n",
       "      <td>Argentina</td>\n",
       "      <td>top200</td>\n",
       "      <td>SAME_POSITION</td>\n",
       "      <td>253019</td>\n",
       "    </tr>\n",
       "    <tr>\n",
       "      <th>1</th>\n",
       "      <td>Vente Pa' Ca (feat. Maluma)</td>\n",
       "      <td>2</td>\n",
       "      <td>2017-01-01</td>\n",
       "      <td>Ricky Martin</td>\n",
       "      <td>https://open.spotify.com/track/7DM4BPaS7uofFul...</td>\n",
       "      <td>Argentina</td>\n",
       "      <td>top200</td>\n",
       "      <td>MOVE_UP</td>\n",
       "      <td>223988</td>\n",
       "    </tr>\n",
       "    <tr>\n",
       "      <th>2</th>\n",
       "      <td>Reggaetón Lento (Bailemos)</td>\n",
       "      <td>3</td>\n",
       "      <td>2017-01-01</td>\n",
       "      <td>CNCO</td>\n",
       "      <td>https://open.spotify.com/track/3AEZUABDXNtecAO...</td>\n",
       "      <td>Argentina</td>\n",
       "      <td>top200</td>\n",
       "      <td>MOVE_DOWN</td>\n",
       "      <td>210943</td>\n",
       "    </tr>\n",
       "    <tr>\n",
       "      <th>3</th>\n",
       "      <td>Safari</td>\n",
       "      <td>4</td>\n",
       "      <td>2017-01-01</td>\n",
       "      <td>J Balvin, Pharrell Williams, BIA, Sky</td>\n",
       "      <td>https://open.spotify.com/track/6rQSrBHf7HlZjtc...</td>\n",
       "      <td>Argentina</td>\n",
       "      <td>top200</td>\n",
       "      <td>SAME_POSITION</td>\n",
       "      <td>173865</td>\n",
       "    </tr>\n",
       "    <tr>\n",
       "      <th>4</th>\n",
       "      <td>Shaky Shaky</td>\n",
       "      <td>5</td>\n",
       "      <td>2017-01-01</td>\n",
       "      <td>Daddy Yankee</td>\n",
       "      <td>https://open.spotify.com/track/58IL315gMSTD37D...</td>\n",
       "      <td>Argentina</td>\n",
       "      <td>top200</td>\n",
       "      <td>MOVE_UP</td>\n",
       "      <td>153956</td>\n",
       "    </tr>\n",
       "    <tr>\n",
       "      <th>5</th>\n",
       "      <td>Traicionera</td>\n",
       "      <td>6</td>\n",
       "      <td>2017-01-01</td>\n",
       "      <td>Sebastian Yatra</td>\n",
       "      <td>https://open.spotify.com/track/5J1c3M4EldCfNxX...</td>\n",
       "      <td>Argentina</td>\n",
       "      <td>top200</td>\n",
       "      <td>MOVE_DOWN</td>\n",
       "      <td>151140</td>\n",
       "    </tr>\n",
       "    <tr>\n",
       "      <th>6</th>\n",
       "      <td>Cuando Se Pone a Bailar</td>\n",
       "      <td>7</td>\n",
       "      <td>2017-01-01</td>\n",
       "      <td>Rombai</td>\n",
       "      <td>https://open.spotify.com/track/1MpKZi1zTXpERKw...</td>\n",
       "      <td>Argentina</td>\n",
       "      <td>top200</td>\n",
       "      <td>MOVE_DOWN</td>\n",
       "      <td>148369</td>\n",
       "    </tr>\n",
       "    <tr>\n",
       "      <th>7</th>\n",
       "      <td>Otra vez (feat. J Balvin)</td>\n",
       "      <td>8</td>\n",
       "      <td>2017-01-01</td>\n",
       "      <td>Zion &amp; Lennox</td>\n",
       "      <td>https://open.spotify.com/track/3QwBODjSEzelZyV...</td>\n",
       "      <td>Argentina</td>\n",
       "      <td>top200</td>\n",
       "      <td>MOVE_DOWN</td>\n",
       "      <td>143004</td>\n",
       "    </tr>\n",
       "    <tr>\n",
       "      <th>8</th>\n",
       "      <td>La Bicicleta</td>\n",
       "      <td>9</td>\n",
       "      <td>2017-01-01</td>\n",
       "      <td>Carlos Vives, Shakira</td>\n",
       "      <td>https://open.spotify.com/track/0sXvAOmXgjR2QUq...</td>\n",
       "      <td>Argentina</td>\n",
       "      <td>top200</td>\n",
       "      <td>MOVE_UP</td>\n",
       "      <td>126389</td>\n",
       "    </tr>\n",
       "    <tr>\n",
       "      <th>9</th>\n",
       "      <td>Dile Que Tu Me Quieres</td>\n",
       "      <td>10</td>\n",
       "      <td>2017-01-01</td>\n",
       "      <td>Ozuna</td>\n",
       "      <td>https://open.spotify.com/track/20ZAJdsKB5IGbGj...</td>\n",
       "      <td>Argentina</td>\n",
       "      <td>top200</td>\n",
       "      <td>MOVE_DOWN</td>\n",
       "      <td>112012</td>\n",
       "    </tr>\n",
       "  </tbody>\n",
       "</table>\n",
       "</div>"
      ],
      "text/plain": [
       "                         title  rank        date  \\\n",
       "0      Chantaje (feat. Maluma)     1  2017-01-01   \n",
       "1  Vente Pa' Ca (feat. Maluma)     2  2017-01-01   \n",
       "2   Reggaetón Lento (Bailemos)     3  2017-01-01   \n",
       "3                       Safari     4  2017-01-01   \n",
       "4                  Shaky Shaky     5  2017-01-01   \n",
       "5                  Traicionera     6  2017-01-01   \n",
       "6      Cuando Se Pone a Bailar     7  2017-01-01   \n",
       "7    Otra vez (feat. J Balvin)     8  2017-01-01   \n",
       "8                 La Bicicleta     9  2017-01-01   \n",
       "9       Dile Que Tu Me Quieres    10  2017-01-01   \n",
       "\n",
       "                                  artist  \\\n",
       "0                                Shakira   \n",
       "1                           Ricky Martin   \n",
       "2                                   CNCO   \n",
       "3  J Balvin, Pharrell Williams, BIA, Sky   \n",
       "4                           Daddy Yankee   \n",
       "5                        Sebastian Yatra   \n",
       "6                                 Rombai   \n",
       "7                          Zion & Lennox   \n",
       "8                  Carlos Vives, Shakira   \n",
       "9                                  Ozuna   \n",
       "\n",
       "                                                 url     region   chart  \\\n",
       "0  https://open.spotify.com/track/6mICuAdrwEjh6Y6...  Argentina  top200   \n",
       "1  https://open.spotify.com/track/7DM4BPaS7uofFul...  Argentina  top200   \n",
       "2  https://open.spotify.com/track/3AEZUABDXNtecAO...  Argentina  top200   \n",
       "3  https://open.spotify.com/track/6rQSrBHf7HlZjtc...  Argentina  top200   \n",
       "4  https://open.spotify.com/track/58IL315gMSTD37D...  Argentina  top200   \n",
       "5  https://open.spotify.com/track/5J1c3M4EldCfNxX...  Argentina  top200   \n",
       "6  https://open.spotify.com/track/1MpKZi1zTXpERKw...  Argentina  top200   \n",
       "7  https://open.spotify.com/track/3QwBODjSEzelZyV...  Argentina  top200   \n",
       "8  https://open.spotify.com/track/0sXvAOmXgjR2QUq...  Argentina  top200   \n",
       "9  https://open.spotify.com/track/20ZAJdsKB5IGbGj...  Argentina  top200   \n",
       "\n",
       "           trend  streams  \n",
       "0  SAME_POSITION   253019  \n",
       "1        MOVE_UP   223988  \n",
       "2      MOVE_DOWN   210943  \n",
       "3  SAME_POSITION   173865  \n",
       "4        MOVE_UP   153956  \n",
       "5      MOVE_DOWN   151140  \n",
       "6      MOVE_DOWN   148369  \n",
       "7      MOVE_DOWN   143004  \n",
       "8        MOVE_UP   126389  \n",
       "9      MOVE_DOWN   112012  "
      ]
     },
     "execution_count": 13,
     "metadata": {},
     "output_type": "execute_result"
    }
   ],
   "source": [
    "spark.sql('''\n",
    "SELECT * \n",
    "FROM charts \n",
    "WHERE chart = 'top200' \n",
    "LIMIT 10;\n",
    "''').toPandas()"
   ]
  },
  {
   "cell_type": "code",
   "execution_count": 22,
   "metadata": {},
   "outputs": [
    {
     "name": "stderr",
     "output_type": "stream",
     "text": [
      "[Stage 21:=====================================================>  (25 + 1) / 26]\r"
     ]
    },
    {
     "name": "stdout",
     "output_type": "stream",
     "text": [
      "+--------------------+--------+\n",
      "|               chart|   count|\n",
      "+--------------------+--------+\n",
      "|              top200|20318183|\n",
      "|             viral50| 5848001|\n",
      "|            Paraguay|     704|\n",
      "|             Germany|     555|\n",
      "|               Chile|     516|\n",
      "|https://open.spot...|     438|\n",
      "|https://open.spot...|     259|\n",
      "|               Spain|     231|\n",
      "|       United States|     214|\n",
      "|             Austria|     206|\n",
      "|              Canada|     187|\n",
      "|https://open.spot...|     176|\n",
      "|             Uruguay|     170|\n",
      "|         Switzerland|     159|\n",
      "|https://open.spot...|     147|\n",
      "|             Ireland|     145|\n",
      "|  Dominican Republic|     141|\n",
      "|           Argentina|     121|\n",
      "|                Peru|     120|\n",
      "|https://open.spot...|     118|\n",
      "+--------------------+--------+\n",
      "only showing top 20 rows\n",
      "\n"
     ]
    },
    {
     "name": "stderr",
     "output_type": "stream",
     "text": [
      "                                                                                \r"
     ]
    }
   ],
   "source": [
    "spark.sql(\"\"\"\n",
    "    SELECT chart, COUNT(*) count\n",
    "    FROM charts\n",
    "    GROUP BY chart\n",
    "    ORDER BY count DESC\n",
    "    ;\"\"\").show()"
   ]
  },
  {
   "cell_type": "code",
   "execution_count": 18,
   "metadata": {},
   "outputs": [
    {
     "name": "stderr",
     "output_type": "stream",
     "text": [
      "                                                                                \r"
     ]
    },
    {
     "data": {
      "text/html": [
       "<div>\n",
       "<style scoped>\n",
       "    .dataframe tbody tr th:only-of-type {\n",
       "        vertical-align: middle;\n",
       "    }\n",
       "\n",
       "    .dataframe tbody tr th {\n",
       "        vertical-align: top;\n",
       "    }\n",
       "\n",
       "    .dataframe thead th {\n",
       "        text-align: right;\n",
       "    }\n",
       "</style>\n",
       "<table border=\"1\" class=\"dataframe\">\n",
       "  <thead>\n",
       "    <tr style=\"text-align: right;\">\n",
       "      <th></th>\n",
       "      <th>NoOfObservationsTop200</th>\n",
       "    </tr>\n",
       "  </thead>\n",
       "  <tbody>\n",
       "    <tr>\n",
       "      <th>0</th>\n",
       "      <td>20318183</td>\n",
       "    </tr>\n",
       "  </tbody>\n",
       "</table>\n",
       "</div>"
      ],
      "text/plain": [
       "   NoOfObservationsTop200\n",
       "0                20318183"
      ]
     },
     "execution_count": 18,
     "metadata": {},
     "output_type": "execute_result"
    }
   ],
   "source": [
    "spark.sql('''\n",
    "SELECT COUNT(*) NoOfObservationsTop200\n",
    "FROM charts \n",
    "WHERE chart = 'top200';\n",
    "''').toPandas().head(10)"
   ]
  }
 ],
 "metadata": {
  "kernelspec": {
   "display_name": "Python 3",
   "language": "python",
   "name": "python3"
  },
  "language_info": {
   "codemirror_mode": {
    "name": "ipython",
    "version": 3
   },
   "file_extension": ".py",
   "mimetype": "text/x-python",
   "name": "python",
   "nbconvert_exporter": "python",
   "pygments_lexer": "ipython3",
   "version": "3.10.12"
  }
 },
 "nbformat": 4,
 "nbformat_minor": 2
}
