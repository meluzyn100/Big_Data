{
 "cells": [
  {
   "cell_type": "code",
   "execution_count": 2,
   "metadata": {},
   "outputs": [],
   "source": [
    "import numpy as np\n",
    "import pandas as pd\n",
    "from wordcloud import WordCloud\n",
    "import matplotlib.dates as mdates\n",
    "import matplotlib.pyplot as plt\n",
    "import random\n",
    "from pyspark import SparkConf, SparkContext\n",
    "from pyspark.sql import SparkSession\n",
    "import pyspark.sql.types as t\n",
    "import pyspark.sql.functions as f\n",
    "import seaborn as sns\n",
    "import pickle\n",
    "from pyspark.sql.functions import col, sum, count\n",
    "import dataframe_image as dfi\n",
    "\n",
    "sns.set(style=\"darkgrid\")\n",
    "\n",
    "file_path = \"/home/olek/studia/semestr_3_AM/Big_Data/Big_Data/projekt/data/charts.csv\"\n",
    "# file_path = \"/home/olek/studia/semestr_3_AM/Big_Data/Big_Data/projekt/data/sample.csv\"\n",
    "\n",
    "# results_path = \"/home/olek/studia/semestr_3_AM/Big_Data/Big_Data/projekt/sample_results/\"\n",
    "if file_path.endswith(\"sample.csv\"):\n",
    "    results_path = \"/home/olek/studia/semestr_3_AM/Big_Data/Big_Data/projekt/sample_results/\"\n",
    "    images_path = \"/home/olek/studia/semestr_3_AM/Big_Data/Big_Data/projekt/sample_images/\"\n",
    "else:\n",
    "    results_path = \"/home/olek/studia/semestr_3_AM/Big_Data/Big_Data/projekt/results/\"\n",
    "    images_path = \"/home/olek/studia/semestr_3_AM/Big_Data/Big_Data/projekt/images/\"\n",
    "\n",
    "seed = 777\n",
    "np.random.seed(seed)\n",
    "random.seed(seed)"
   ]
  },
  {
   "cell_type": "code",
   "execution_count": 2,
   "metadata": {},
   "outputs": [],
   "source": [
    "# pd.read_csv(\"/home/olek/studia/semestr_3_AM/Big_Data/Big_Data/projekt/data/charts.csv\", nrows=10**6)\\\n",
    "#     .to_csv(\"/home/olek/studia/semestr_3_AM/Big_Data/Big_Data/projekt/data/sample.csv\", index=False)"
   ]
  },
  {
   "cell_type": "code",
   "execution_count": 3,
   "metadata": {},
   "outputs": [
    {
     "name": "stderr",
     "output_type": "stream",
     "text": [
      "24/06/24 17:27:57 WARN Utils: Your hostname, olek resolves to a loopback address: 127.0.1.1; using 192.168.100.7 instead (on interface wlp6s0)\n",
      "24/06/24 17:27:57 WARN Utils: Set SPARK_LOCAL_IP if you need to bind to another address\n",
      "Setting default log level to \"WARN\".\n",
      "To adjust logging level use sc.setLogLevel(newLevel). For SparkR, use setLogLevel(newLevel).\n",
      "24/06/24 17:27:59 WARN NativeCodeLoader: Unable to load native-hadoop library for your platform... using builtin-java classes where applicable\n",
      "/home/olek/.local/lib/python3.10/site-packages/pyspark/sql/dataframe.py:329: FutureWarning: Deprecated in 2.0, use createOrReplaceTempView instead.\n",
      "  warnings.warn(\"Deprecated in 2.0, use createOrReplaceTempView instead.\", FutureWarning)\n"
     ]
    }
   ],
   "source": [
    "spark = SparkSession.builder \\\n",
    "    .appName(\"Results\") \\\n",
    "    .getOrCreate()\n",
    "df = spark.read.csv(file_path, header=True, inferSchema=True)\n",
    "df = df.withColumn(\"rank\", f.col(\"rank\").cast(t.IntegerType())).withColumn(\"date\", f.col(\"date\").cast(t.DateType())).withColumn(\"streams\", f.col(\"streams\").cast(t.IntegerType()))\n",
    "df.registerTempTable(\"charts\")"
   ]
  },
  {
   "cell_type": "code",
   "execution_count": null,
   "metadata": {},
   "outputs": [],
   "source": [
    "df.printSchema()"
   ]
  },
  {
   "cell_type": "markdown",
   "metadata": {},
   "source": [
    "# Show head data:"
   ]
  },
  {
   "cell_type": "code",
   "execution_count": 4,
   "metadata": {},
   "outputs": [],
   "source": [
    "head = spark.sql(\"SELECT * FROM charts LIMIT 10\")\n",
    "with open(results_path + \"head.pkl\", \"wb\") as f:\n",
    "    pickle.dump(head.toPandas(), f)\n",
    "    \n",
    "df_styled = spark.sql(\"SELECT * from charts limit 10\").toPandas().style.background_gradient() \n",
    "dfi.export(df_styled, images_path + \"mytable.png\")\n",
    "df_styled = head.toPandas().style.background_gradient() \n",
    "dfi.export(df_styled, images_path + \"head.png\")\n",
    "head.toPandas()"
   ]
  },
  {
   "cell_type": "code",
   "execution_count": 41,
   "metadata": {},
   "outputs": [
    {
     "data": {
      "text/html": [
       "<div>\n",
       "<style scoped>\n",
       "    .dataframe tbody tr th:only-of-type {\n",
       "        vertical-align: middle;\n",
       "    }\n",
       "\n",
       "    .dataframe tbody tr th {\n",
       "        vertical-align: top;\n",
       "    }\n",
       "\n",
       "    .dataframe thead th {\n",
       "        text-align: right;\n",
       "    }\n",
       "</style>\n",
       "<table border=\"1\" class=\"dataframe\">\n",
       "  <thead>\n",
       "    <tr style=\"text-align: right;\">\n",
       "      <th></th>\n",
       "      <th>title</th>\n",
       "      <th>rank</th>\n",
       "      <th>date</th>\n",
       "      <th>artist</th>\n",
       "      <th>url</th>\n",
       "      <th>region</th>\n",
       "      <th>chart</th>\n",
       "      <th>trend</th>\n",
       "      <th>streams</th>\n",
       "    </tr>\n",
       "  </thead>\n",
       "  <tbody>\n",
       "    <tr>\n",
       "      <th>0</th>\n",
       "      <td>Chantaje (feat. Maluma)</td>\n",
       "      <td>1</td>\n",
       "      <td>2017-01-01</td>\n",
       "      <td>Shakira</td>\n",
       "      <td>https://open.spotify.com/track/6mICuAdrwEjh6Y6...</td>\n",
       "      <td>Argentina</td>\n",
       "      <td>top200</td>\n",
       "      <td>SAME_POSITION</td>\n",
       "      <td>253019</td>\n",
       "    </tr>\n",
       "    <tr>\n",
       "      <th>1</th>\n",
       "      <td>Vente Pa' Ca (feat. Maluma)</td>\n",
       "      <td>2</td>\n",
       "      <td>2017-01-01</td>\n",
       "      <td>Ricky Martin</td>\n",
       "      <td>https://open.spotify.com/track/7DM4BPaS7uofFul...</td>\n",
       "      <td>Argentina</td>\n",
       "      <td>top200</td>\n",
       "      <td>MOVE_UP</td>\n",
       "      <td>223988</td>\n",
       "    </tr>\n",
       "    <tr>\n",
       "      <th>2</th>\n",
       "      <td>Reggaetón Lento (Bailemos)</td>\n",
       "      <td>3</td>\n",
       "      <td>2017-01-01</td>\n",
       "      <td>CNCO</td>\n",
       "      <td>https://open.spotify.com/track/3AEZUABDXNtecAO...</td>\n",
       "      <td>Argentina</td>\n",
       "      <td>top200</td>\n",
       "      <td>MOVE_DOWN</td>\n",
       "      <td>210943</td>\n",
       "    </tr>\n",
       "    <tr>\n",
       "      <th>3</th>\n",
       "      <td>Safari</td>\n",
       "      <td>4</td>\n",
       "      <td>2017-01-01</td>\n",
       "      <td>J Balvin, Pharrell Williams, BIA, Sky</td>\n",
       "      <td>https://open.spotify.com/track/6rQSrBHf7HlZjtc...</td>\n",
       "      <td>Argentina</td>\n",
       "      <td>top200</td>\n",
       "      <td>SAME_POSITION</td>\n",
       "      <td>173865</td>\n",
       "    </tr>\n",
       "    <tr>\n",
       "      <th>4</th>\n",
       "      <td>Shaky Shaky</td>\n",
       "      <td>5</td>\n",
       "      <td>2017-01-01</td>\n",
       "      <td>Daddy Yankee</td>\n",
       "      <td>https://open.spotify.com/track/58IL315gMSTD37D...</td>\n",
       "      <td>Argentina</td>\n",
       "      <td>top200</td>\n",
       "      <td>MOVE_UP</td>\n",
       "      <td>153956</td>\n",
       "    </tr>\n",
       "    <tr>\n",
       "      <th>5</th>\n",
       "      <td>Traicionera</td>\n",
       "      <td>6</td>\n",
       "      <td>2017-01-01</td>\n",
       "      <td>Sebastian Yatra</td>\n",
       "      <td>https://open.spotify.com/track/5J1c3M4EldCfNxX...</td>\n",
       "      <td>Argentina</td>\n",
       "      <td>top200</td>\n",
       "      <td>MOVE_DOWN</td>\n",
       "      <td>151140</td>\n",
       "    </tr>\n",
       "    <tr>\n",
       "      <th>6</th>\n",
       "      <td>Cuando Se Pone a Bailar</td>\n",
       "      <td>7</td>\n",
       "      <td>2017-01-01</td>\n",
       "      <td>Rombai</td>\n",
       "      <td>https://open.spotify.com/track/1MpKZi1zTXpERKw...</td>\n",
       "      <td>Argentina</td>\n",
       "      <td>top200</td>\n",
       "      <td>MOVE_DOWN</td>\n",
       "      <td>148369</td>\n",
       "    </tr>\n",
       "    <tr>\n",
       "      <th>7</th>\n",
       "      <td>Otra vez (feat. J Balvin)</td>\n",
       "      <td>8</td>\n",
       "      <td>2017-01-01</td>\n",
       "      <td>Zion &amp; Lennox</td>\n",
       "      <td>https://open.spotify.com/track/3QwBODjSEzelZyV...</td>\n",
       "      <td>Argentina</td>\n",
       "      <td>top200</td>\n",
       "      <td>MOVE_DOWN</td>\n",
       "      <td>143004</td>\n",
       "    </tr>\n",
       "    <tr>\n",
       "      <th>8</th>\n",
       "      <td>La Bicicleta</td>\n",
       "      <td>9</td>\n",
       "      <td>2017-01-01</td>\n",
       "      <td>Carlos Vives, Shakira</td>\n",
       "      <td>https://open.spotify.com/track/0sXvAOmXgjR2QUq...</td>\n",
       "      <td>Argentina</td>\n",
       "      <td>top200</td>\n",
       "      <td>MOVE_UP</td>\n",
       "      <td>126389</td>\n",
       "    </tr>\n",
       "    <tr>\n",
       "      <th>9</th>\n",
       "      <td>Dile Que Tu Me Quieres</td>\n",
       "      <td>10</td>\n",
       "      <td>2017-01-01</td>\n",
       "      <td>Ozuna</td>\n",
       "      <td>https://open.spotify.com/track/20ZAJdsKB5IGbGj...</td>\n",
       "      <td>Argentina</td>\n",
       "      <td>top200</td>\n",
       "      <td>MOVE_DOWN</td>\n",
       "      <td>112012</td>\n",
       "    </tr>\n",
       "  </tbody>\n",
       "</table>\n",
       "</div>"
      ],
      "text/plain": [
       "                         title  rank        date  \\\n",
       "0      Chantaje (feat. Maluma)     1  2017-01-01   \n",
       "1  Vente Pa' Ca (feat. Maluma)     2  2017-01-01   \n",
       "2   Reggaetón Lento (Bailemos)     3  2017-01-01   \n",
       "3                       Safari     4  2017-01-01   \n",
       "4                  Shaky Shaky     5  2017-01-01   \n",
       "5                  Traicionera     6  2017-01-01   \n",
       "6      Cuando Se Pone a Bailar     7  2017-01-01   \n",
       "7    Otra vez (feat. J Balvin)     8  2017-01-01   \n",
       "8                 La Bicicleta     9  2017-01-01   \n",
       "9       Dile Que Tu Me Quieres    10  2017-01-01   \n",
       "\n",
       "                                  artist  \\\n",
       "0                                Shakira   \n",
       "1                           Ricky Martin   \n",
       "2                                   CNCO   \n",
       "3  J Balvin, Pharrell Williams, BIA, Sky   \n",
       "4                           Daddy Yankee   \n",
       "5                        Sebastian Yatra   \n",
       "6                                 Rombai   \n",
       "7                          Zion & Lennox   \n",
       "8                  Carlos Vives, Shakira   \n",
       "9                                  Ozuna   \n",
       "\n",
       "                                                 url     region   chart  \\\n",
       "0  https://open.spotify.com/track/6mICuAdrwEjh6Y6...  Argentina  top200   \n",
       "1  https://open.spotify.com/track/7DM4BPaS7uofFul...  Argentina  top200   \n",
       "2  https://open.spotify.com/track/3AEZUABDXNtecAO...  Argentina  top200   \n",
       "3  https://open.spotify.com/track/6rQSrBHf7HlZjtc...  Argentina  top200   \n",
       "4  https://open.spotify.com/track/58IL315gMSTD37D...  Argentina  top200   \n",
       "5  https://open.spotify.com/track/5J1c3M4EldCfNxX...  Argentina  top200   \n",
       "6  https://open.spotify.com/track/1MpKZi1zTXpERKw...  Argentina  top200   \n",
       "7  https://open.spotify.com/track/3QwBODjSEzelZyV...  Argentina  top200   \n",
       "8  https://open.spotify.com/track/0sXvAOmXgjR2QUq...  Argentina  top200   \n",
       "9  https://open.spotify.com/track/20ZAJdsKB5IGbGj...  Argentina  top200   \n",
       "\n",
       "           trend  streams  \n",
       "0  SAME_POSITION   253019  \n",
       "1        MOVE_UP   223988  \n",
       "2      MOVE_DOWN   210943  \n",
       "3  SAME_POSITION   173865  \n",
       "4        MOVE_UP   153956  \n",
       "5      MOVE_DOWN   151140  \n",
       "6      MOVE_DOWN   148369  \n",
       "7      MOVE_DOWN   143004  \n",
       "8        MOVE_UP   126389  \n",
       "9      MOVE_DOWN   112012  "
      ]
     },
     "execution_count": 41,
     "metadata": {},
     "output_type": "execute_result"
    }
   ],
   "source": []
  },
  {
   "cell_type": "markdown",
   "metadata": {},
   "source": [
    "# EDA"
   ]
  },
  {
   "cell_type": "markdown",
   "metadata": {},
   "source": [
    "## Missing data"
   ]
  },
  {
   "cell_type": "code",
   "execution_count": 5,
   "metadata": {},
   "outputs": [
    {
     "name": "stderr",
     "output_type": "stream",
     "text": [
      "                                                                                \r"
     ]
    },
    {
     "name": "stdout",
     "output_type": "stream",
     "text": [
      "+-----+----+----+------+---+------+-----+-----+-------+\n",
      "|title|rank|date|artist|url|region|chart|trend|streams|\n",
      "+-----+----+----+------+---+------+-----+-----+-------+\n",
      "|    0|2142|2142|     0|  0|     0|    0|    0|5855331|\n",
      "+-----+----+----+------+---+------+-----+-----+-------+\n",
      "\n"
     ]
    },
    {
     "name": "stderr",
     "output_type": "stream",
     "text": [
      "                                                                                \r"
     ]
    }
   ],
   "source": [
    "# 3min 32s\n",
    "columns = df.columns\n",
    "missing_data = df.select([(sum(col(c).isNull().cast(\"int\")).alias(c)) for c in columns])\n",
    "missing_data.show()\n",
    "\n",
    "with open(results_path + \"missing_data.pkl\", \"wb\") as f:\n",
    "    pickle.dump(missing_data.toPandas(), f)\n",
    "\n",
    "df_styled = missing_data.toPandas().style.background_gradient()\n",
    "dfi.export(df_styled, images_path + \"missing_data.png\")"
   ]
  },
  {
   "cell_type": "markdown",
   "metadata": {},
   "source": [
    "## unique_values"
   ]
  },
  {
   "cell_type": "code",
   "execution_count": 7,
   "metadata": {},
   "outputs": [
    {
     "name": "stdout",
     "output_type": "stream",
     "text": [
      "CPU times: user 6 µs, sys: 2 µs, total: 8 µs\n",
      "Wall time: 12.6 µs\n"
     ]
    },
    {
     "name": "stderr",
     "output_type": "stream",
     "text": [
      "                                                                                \r"
     ]
    }
   ],
   "source": [
    "%time\n",
    "# time 8min 26s\n",
    "missing_streams_df = df.filter(col('streams').isNull())\n",
    "unique_values = {col_name: missing_streams_df.select(col_name).distinct().count() for col_name in missing_streams_df.columns}\n",
    "unique_values_df = pd.DataFrame(unique_values, index=[0])\n",
    "\n",
    "with open(results_path + \"unique_values_df.pkl\", \"wb\") as f:\n",
    "    pickle.dump(unique_values_df, f)\n",
    "\n",
    "df_styled = unique_values_df.style.background_gradient() \n",
    "dfi.export(df_styled, images_path + \"unique_values.png\")\n",
    "unique_values_df"
   ]
  },
  {
   "cell_type": "code",
   "execution_count": 42,
   "metadata": {},
   "outputs": [
    {
     "data": {
      "text/html": [
       "<div>\n",
       "<style scoped>\n",
       "    .dataframe tbody tr th:only-of-type {\n",
       "        vertical-align: middle;\n",
       "    }\n",
       "\n",
       "    .dataframe tbody tr th {\n",
       "        vertical-align: top;\n",
       "    }\n",
       "\n",
       "    .dataframe thead th {\n",
       "        text-align: right;\n",
       "    }\n",
       "</style>\n",
       "<table border=\"1\" class=\"dataframe\">\n",
       "  <thead>\n",
       "    <tr style=\"text-align: right;\">\n",
       "      <th></th>\n",
       "      <th>title</th>\n",
       "      <th>rank</th>\n",
       "      <th>date</th>\n",
       "      <th>artist</th>\n",
       "      <th>url</th>\n",
       "      <th>region</th>\n",
       "      <th>chart</th>\n",
       "      <th>trend</th>\n",
       "      <th>streams</th>\n",
       "    </tr>\n",
       "  </thead>\n",
       "  <tbody>\n",
       "    <tr>\n",
       "      <th>0</th>\n",
       "      <td>119407</td>\n",
       "      <td>201</td>\n",
       "      <td>1827</td>\n",
       "      <td>81938</td>\n",
       "      <td>148226</td>\n",
       "      <td>208</td>\n",
       "      <td>102</td>\n",
       "      <td>68</td>\n",
       "      <td>1</td>\n",
       "    </tr>\n",
       "  </tbody>\n",
       "</table>\n",
       "</div>"
      ],
      "text/plain": [
       "    title  rank  date  artist     url  region  chart  trend  streams\n",
       "0  119407   201  1827   81938  148226     208    102     68        1"
      ]
     },
     "execution_count": 42,
     "metadata": {},
     "output_type": "execute_result"
    }
   ],
   "source": []
  },
  {
   "cell_type": "markdown",
   "metadata": {},
   "source": [
    "## Count np of missing striming value per chart"
   ]
  },
  {
   "cell_type": "code",
   "execution_count": 8,
   "metadata": {},
   "outputs": [
    {
     "name": "stdout",
     "output_type": "stream",
     "text": [
      "CPU times: user 14 µs, sys: 4 µs, total: 18 µs\n",
      "Wall time: 498 µs\n"
     ]
    },
    {
     "name": "stderr",
     "output_type": "stream",
     "text": [
      "                                                                                \r"
     ]
    },
    {
     "ename": "ValueError",
     "evalue": "Your Styled DataFrame has more than 100 rows and will produce a huge image file, possibly causing your computer to crash. Override this error by explicitly setting `max_rows` to -1 for all columns. Styled DataFrames are unable to select a subset of rows or columns and therefore do not work with the `max_rows` and `max_cols` parameters",
     "output_type": "error",
     "traceback": [
      "\u001b[0;31m---------------------------------------------------------------------------\u001b[0m",
      "\u001b[0;31mValueError\u001b[0m                                Traceback (most recent call last)",
      "Cell \u001b[0;32mIn[8], line 13\u001b[0m\n\u001b[1;32m     10\u001b[0m     pickle\u001b[38;5;241m.\u001b[39mdump(null_cart_df, f)\n\u001b[1;32m     12\u001b[0m df_styled \u001b[38;5;241m=\u001b[39m null_cart_df\u001b[38;5;241m.\u001b[39mstyle\u001b[38;5;241m.\u001b[39mbackground_gradient() \n\u001b[0;32m---> 13\u001b[0m \u001b[43mdfi\u001b[49m\u001b[38;5;241;43m.\u001b[39;49m\u001b[43mexport\u001b[49m\u001b[43m(\u001b[49m\u001b[43mdf_styled\u001b[49m\u001b[43m,\u001b[49m\u001b[43m \u001b[49m\u001b[43mimages_path\u001b[49m\u001b[43m \u001b[49m\u001b[38;5;241;43m+\u001b[39;49m\u001b[43m \u001b[49m\u001b[38;5;124;43m\"\u001b[39;49m\u001b[38;5;124;43munique_values.png\u001b[39;49m\u001b[38;5;124;43m\"\u001b[39;49m\u001b[43m)\u001b[49m\n",
      "File \u001b[0;32m~/.local/lib/python3.10/site-packages/dataframe_image/_pandas_accessor.py:115\u001b[0m, in \u001b[0;36mexport\u001b[0;34m(obj, filename, fontsize, max_rows, max_cols, table_conversion, chrome_path, dpi, use_mathjax)\u001b[0m\n\u001b[1;32m    107\u001b[0m     \u001b[38;5;28;01mif\u001b[39;00m is_styler:\n\u001b[1;32m    108\u001b[0m         error_msg \u001b[38;5;241m=\u001b[39m (\n\u001b[1;32m    109\u001b[0m             \u001b[38;5;124mf\u001b[39m\u001b[38;5;124m\"\u001b[39m\u001b[38;5;124mYour Styled DataFrame has more than \u001b[39m\u001b[38;5;132;01m{\u001b[39;00mMAX_ROWS\u001b[38;5;132;01m}\u001b[39;00m\u001b[38;5;124m rows and will produce \u001b[39m\u001b[38;5;124m\"\u001b[39m\n\u001b[1;32m    110\u001b[0m             \u001b[38;5;124m\"\u001b[39m\u001b[38;5;124ma huge image file, possibly causing your computer to crash. Override \u001b[39m\u001b[38;5;124m\"\u001b[39m\n\u001b[0;32m   (...)\u001b[0m\n\u001b[1;32m    113\u001b[0m             \u001b[38;5;124m\"\u001b[39m\u001b[38;5;124mand therefore do not work with the `max_rows` and `max_cols` parameters\u001b[39m\u001b[38;5;124m\"\u001b[39m\n\u001b[1;32m    114\u001b[0m         )\n\u001b[0;32m--> 115\u001b[0m     \u001b[38;5;28;01mraise\u001b[39;00m \u001b[38;5;167;01mValueError\u001b[39;00m(error_msg)\n\u001b[1;32m    117\u001b[0m \u001b[38;5;28;01mif\u001b[39;00m df\u001b[38;5;241m.\u001b[39mshape[\u001b[38;5;241m1\u001b[39m] \u001b[38;5;241m>\u001b[39m MAX_COLS \u001b[38;5;129;01mand\u001b[39;00m max_cols \u001b[38;5;129;01mis\u001b[39;00m \u001b[38;5;28;01mNone\u001b[39;00m:\n\u001b[1;32m    118\u001b[0m     error_msg \u001b[38;5;241m=\u001b[39m (\n\u001b[1;32m    119\u001b[0m         \u001b[38;5;124mf\u001b[39m\u001b[38;5;124m\"\u001b[39m\u001b[38;5;124mYour DataFrame has more than \u001b[39m\u001b[38;5;132;01m{\u001b[39;00mMAX_COLS\u001b[38;5;132;01m}\u001b[39;00m\u001b[38;5;124m columns and will produce a huge \u001b[39m\u001b[38;5;124m\"\u001b[39m\n\u001b[1;32m    120\u001b[0m         \u001b[38;5;124m\"\u001b[39m\u001b[38;5;124mimage file, possibly causing your computer to crash. Override this error \u001b[39m\u001b[38;5;124m\"\u001b[39m\n\u001b[1;32m    121\u001b[0m         \u001b[38;5;124m\"\u001b[39m\u001b[38;5;124mby explicitly setting `max_cols`. Use -1 for all columns.\u001b[39m\u001b[38;5;124m\"\u001b[39m\n\u001b[1;32m    122\u001b[0m     )\n",
      "\u001b[0;31mValueError\u001b[0m: Your Styled DataFrame has more than 100 rows and will produce a huge image file, possibly causing your computer to crash. Override this error by explicitly setting `max_rows` to -1 for all columns. Styled DataFrames are unable to select a subset of rows or columns and therefore do not work with the `max_rows` and `max_cols` parameters"
     ]
    }
   ],
   "source": [
    "%time\n",
    "null_cart = spark.sql(\"\"\"\n",
    "    SELECT chart, count(chart) as count\n",
    "    FROM charts\n",
    "    WHERE streams IS NULL\n",
    "    GROUP BY chart\n",
    "    ORDER BY count DESC;\"\"\")\n",
    "null_cart_df = null_cart.toPandas()\n",
    "with open(results_path + \"null_cart_df.pkl\", \"wb\") as f:\n",
    "    pickle.dump(null_cart_df, f)\n",
    "\n",
    "# df_styled = null_cart_df.style.background_gradient() \n",
    "# dfi.export(df_styled, images_path + \"unique_values.png\")\n",
    "null_cart_df"
   ]
  },
  {
   "cell_type": "code",
   "execution_count": 43,
   "metadata": {},
   "outputs": [
    {
     "data": {
      "text/html": [
       "<div>\n",
       "<style scoped>\n",
       "    .dataframe tbody tr th:only-of-type {\n",
       "        vertical-align: middle;\n",
       "    }\n",
       "\n",
       "    .dataframe tbody tr th {\n",
       "        vertical-align: top;\n",
       "    }\n",
       "\n",
       "    .dataframe thead th {\n",
       "        text-align: right;\n",
       "    }\n",
       "</style>\n",
       "<table border=\"1\" class=\"dataframe\">\n",
       "  <thead>\n",
       "    <tr style=\"text-align: right;\">\n",
       "      <th></th>\n",
       "      <th>chart</th>\n",
       "      <th>count</th>\n",
       "    </tr>\n",
       "  </thead>\n",
       "  <tbody>\n",
       "    <tr>\n",
       "      <th>0</th>\n",
       "      <td>viral50</td>\n",
       "      <td>5848001</td>\n",
       "    </tr>\n",
       "    <tr>\n",
       "      <th>1</th>\n",
       "      <td>Paraguay</td>\n",
       "      <td>704</td>\n",
       "    </tr>\n",
       "    <tr>\n",
       "      <th>2</th>\n",
       "      <td>Germany</td>\n",
       "      <td>555</td>\n",
       "    </tr>\n",
       "    <tr>\n",
       "      <th>3</th>\n",
       "      <td>Chile</td>\n",
       "      <td>516</td>\n",
       "    </tr>\n",
       "    <tr>\n",
       "      <th>4</th>\n",
       "      <td>https://open.spotify.com/track/0xsAtU9TemtJgyV...</td>\n",
       "      <td>438</td>\n",
       "    </tr>\n",
       "    <tr>\n",
       "      <th>...</th>\n",
       "      <td>...</td>\n",
       "      <td>...</td>\n",
       "    </tr>\n",
       "    <tr>\n",
       "      <th>97</th>\n",
       "      <td>Cosculluela\"</td>\n",
       "      <td>1</td>\n",
       "    </tr>\n",
       "    <tr>\n",
       "      <th>98</th>\n",
       "      <td>Russia</td>\n",
       "      <td>1</td>\n",
       "    </tr>\n",
       "    <tr>\n",
       "      <th>99</th>\n",
       "      <td>https://open.spotify.com/track/70wb5cVwwdHzvpt...</td>\n",
       "      <td>1</td>\n",
       "    </tr>\n",
       "    <tr>\n",
       "      <th>100</th>\n",
       "      <td>https://open.spotify.com/track/4p80VsLJul7HDkx...</td>\n",
       "      <td>1</td>\n",
       "    </tr>\n",
       "    <tr>\n",
       "      <th>101</th>\n",
       "      <td>Latvia</td>\n",
       "      <td>1</td>\n",
       "    </tr>\n",
       "  </tbody>\n",
       "</table>\n",
       "<p>102 rows × 2 columns</p>\n",
       "</div>"
      ],
      "text/plain": [
       "                                                 chart    count\n",
       "0                                              viral50  5848001\n",
       "1                                             Paraguay      704\n",
       "2                                              Germany      555\n",
       "3                                                Chile      516\n",
       "4    https://open.spotify.com/track/0xsAtU9TemtJgyV...      438\n",
       "..                                                 ...      ...\n",
       "97                                        Cosculluela\"        1\n",
       "98                                              Russia        1\n",
       "99   https://open.spotify.com/track/70wb5cVwwdHzvpt...        1\n",
       "100  https://open.spotify.com/track/4p80VsLJul7HDkx...        1\n",
       "101                                             Latvia        1\n",
       "\n",
       "[102 rows x 2 columns]"
      ]
     },
     "execution_count": 43,
     "metadata": {},
     "output_type": "execute_result"
    }
   ],
   "source": []
  },
  {
   "cell_type": "markdown",
   "metadata": {},
   "source": [
    "# SElect TOP200 "
   ]
  },
  {
   "cell_type": "code",
   "execution_count": 4,
   "metadata": {},
   "outputs": [
    {
     "name": "stdout",
     "output_type": "stream",
     "text": [
      "CPU times: user 28 µs, sys: 5 µs, total: 33 µs\n",
      "Wall time: 449 µs\n",
      "+--------------------+----+----------+--------------------+--------------------+---------+------+-------------+-------+\n",
      "|               title|rank|      date|              artist|                 url|   region| chart|        trend|streams|\n",
      "+--------------------+----+----------+--------------------+--------------------+---------+------+-------------+-------+\n",
      "|Chantaje (feat. M...|   1|2017-01-01|             Shakira|https://open.spot...|Argentina|top200|SAME_POSITION| 253019|\n",
      "|Vente Pa' Ca (fea...|   2|2017-01-01|        Ricky Martin|https://open.spot...|Argentina|top200|      MOVE_UP| 223988|\n",
      "|Reggaetón Lento (...|   3|2017-01-01|                CNCO|https://open.spot...|Argentina|top200|    MOVE_DOWN| 210943|\n",
      "|              Safari|   4|2017-01-01|J Balvin, Pharrel...|https://open.spot...|Argentina|top200|SAME_POSITION| 173865|\n",
      "|         Shaky Shaky|   5|2017-01-01|        Daddy Yankee|https://open.spot...|Argentina|top200|      MOVE_UP| 153956|\n",
      "|         Traicionera|   6|2017-01-01|     Sebastian Yatra|https://open.spot...|Argentina|top200|    MOVE_DOWN| 151140|\n",
      "|Cuando Se Pone a ...|   7|2017-01-01|              Rombai|https://open.spot...|Argentina|top200|    MOVE_DOWN| 148369|\n",
      "|Otra vez (feat. J...|   8|2017-01-01|       Zion & Lennox|https://open.spot...|Argentina|top200|    MOVE_DOWN| 143004|\n",
      "|        La Bicicleta|   9|2017-01-01|Carlos Vives, Sha...|https://open.spot...|Argentina|top200|      MOVE_UP| 126389|\n",
      "|Dile Que Tu Me Qu...|  10|2017-01-01|               Ozuna|https://open.spot...|Argentina|top200|    MOVE_DOWN| 112012|\n",
      "|  Andas En Mi Cabeza|  11|2017-01-01|Chino & Nacho, Da...|https://open.spot...|Argentina|top200|SAME_POSITION| 110395|\n",
      "|Desde Esa Noche (...|  12|2017-01-01|              Thalia|https://open.spot...|Argentina|top200|      MOVE_UP| 104592|\n",
      "|      Borro Cassette|  13|2017-01-01|              Maluma|https://open.spot...|Argentina|top200|      MOVE_UP| 101535|\n",
      "|Gyal You A Party ...|  14|2017-01-01|Charly Black, Dad...|https://open.spot...|Argentina|top200|    MOVE_DOWN|  99722|\n",
      "|Me llamas (feat. ...|  15|2017-01-01|             Piso 21|https://open.spot...|Argentina|top200|    MOVE_DOWN|  95010|\n",
      "|La Bicicleta (fea...|  16|2017-01-01|Carlos Vives, Sha...|https://open.spot...|Argentina|top200|      MOVE_UP|  92723|\n",
      "|DUELE EL CORAZON ...|  17|2017-01-01|    Enrique Iglesias|https://open.spot...|Argentina|top200|      MOVE_UP|  91325|\n",
      "|     Let Me Love You|  18|2017-01-01|DJ Snake, Justin ...|https://open.spot...|Argentina|top200|    MOVE_DOWN|  87926|\n",
      "|La Noche No Es pa...|  19|2017-01-01|         Mano Arriba|https://open.spot...|Argentina|top200|SAME_POSITION|  87033|\n",
      "|          Vacaciones|  20|2017-01-01|               Wisin|https://open.spot...|Argentina|top200|    MOVE_DOWN|  86103|\n",
      "+--------------------+----+----------+--------------------+--------------------+---------+------+-------------+-------+\n",
      "only showing top 20 rows\n",
      "\n"
     ]
    }
   ],
   "source": [
    "%time\n",
    "filtered_df = spark.sql(\"SELECT * FROM charts WHERE chart = 'top200'\")\n",
    "filtered_df.show()\n",
    "df = filtered_df\n",
    "df.createOrReplaceTempView(\"charts\")"
   ]
  },
  {
   "cell_type": "code",
   "execution_count": 45,
   "metadata": {},
   "outputs": [
    {
     "name": "stdout",
     "output_type": "stream",
     "text": [
      "CPU times: user 7 µs, sys: 1 µs, total: 8 µs\n",
      "Wall time: 13.8 µs\n"
     ]
    },
    {
     "name": "stderr",
     "output_type": "stream",
     "text": [
      "                                                                                \r"
     ]
    },
    {
     "data": {
      "text/html": [
       "<div>\n",
       "<style scoped>\n",
       "    .dataframe tbody tr th:only-of-type {\n",
       "        vertical-align: middle;\n",
       "    }\n",
       "\n",
       "    .dataframe tbody tr th {\n",
       "        vertical-align: top;\n",
       "    }\n",
       "\n",
       "    .dataframe thead th {\n",
       "        text-align: right;\n",
       "    }\n",
       "</style>\n",
       "<table border=\"1\" class=\"dataframe\">\n",
       "  <thead>\n",
       "    <tr style=\"text-align: right;\">\n",
       "      <th></th>\n",
       "      <th>NoOfObservationsTop200</th>\n",
       "    </tr>\n",
       "  </thead>\n",
       "  <tbody>\n",
       "    <tr>\n",
       "      <th>0</th>\n",
       "      <td>20318183</td>\n",
       "    </tr>\n",
       "  </tbody>\n",
       "</table>\n",
       "</div>"
      ],
      "text/plain": [
       "   NoOfObservationsTop200\n",
       "0                20318183"
      ]
     },
     "execution_count": 45,
     "metadata": {},
     "output_type": "execute_result"
    }
   ],
   "source": [
    "%time\n",
    "spark.sql('''\n",
    "SELECT COUNT(*) NoOfObservationsTop200\n",
    "FROM charts;\n",
    "''').toPandas().head(10)"
   ]
  },
  {
   "cell_type": "code",
   "execution_count": 10,
   "metadata": {},
   "outputs": [
    {
     "name": "stdout",
     "output_type": "stream",
     "text": [
      "CPU times: user 4 µs, sys: 1 µs, total: 5 µs\n",
      "Wall time: 8.82 µs\n"
     ]
    },
    {
     "name": "stderr",
     "output_type": "stream",
     "text": [
      "                                                                                \r"
     ]
    },
    {
     "name": "stdout",
     "output_type": "stream",
     "text": [
      "+-----+----+----+------+---+------+-----+-----+-------+\n",
      "|title|rank|date|artist|url|region|chart|trend|streams|\n",
      "+-----+----+----+------+---+------+-----+-----+-------+\n",
      "|    0|   0|   0|     0|  0|     0|    0|    0|      0|\n",
      "+-----+----+----+------+---+------+-----+-----+-------+\n",
      "\n"
     ]
    },
    {
     "name": "stderr",
     "output_type": "stream",
     "text": [
      "                                                                                \r"
     ]
    }
   ],
   "source": [
    "%time\n",
    "columns = df.columns\n",
    "missing_data = df.select([(sum(col(c).isNull().cast(\"int\")).alias(c)) for c in columns])\n",
    "missing_data.show()\n",
    "\n",
    "with open(results_path + \"missing_data_clearing.pkl\", \"wb\") as f:\n",
    "    pickle.dump(missing_data.toPandas(), f)\n",
    "\n",
    "df_styled = missing_data.toPandas().style.background_gradient()\n",
    "dfi.export(df_styled, images_path + \"missing_data.png\")"
   ]
  },
  {
   "cell_type": "code",
   "execution_count": 11,
   "metadata": {},
   "outputs": [
    {
     "name": "stdout",
     "output_type": "stream",
     "text": [
      "CPU times: user 11 µs, sys: 4 µs, total: 15 µs\n",
      "Wall time: 25.7 µs\n"
     ]
    },
    {
     "name": "stderr",
     "output_type": "stream",
     "text": [
      "                                                                                \r"
     ]
    },
    {
     "name": "stdout",
     "output_type": "stream",
     "text": [
      "+----------+----------+-------------------+\n",
      "| max(date)| min(date)|          intervale|\n",
      "+----------+----------+-------------------+\n",
      "|2021-12-31|2017-01-01|INTERVAL '1825' DAY|\n",
      "+----------+----------+-------------------+\n",
      "\n"
     ]
    },
    {
     "name": "stderr",
     "output_type": "stream",
     "text": [
      "                                                                                \r"
     ]
    },
    {
     "data": {
      "text/html": [
       "<div>\n",
       "<style scoped>\n",
       "    .dataframe tbody tr th:only-of-type {\n",
       "        vertical-align: middle;\n",
       "    }\n",
       "\n",
       "    .dataframe tbody tr th {\n",
       "        vertical-align: top;\n",
       "    }\n",
       "\n",
       "    .dataframe thead th {\n",
       "        text-align: right;\n",
       "    }\n",
       "</style>\n",
       "<table border=\"1\" class=\"dataframe\">\n",
       "  <thead>\n",
       "    <tr style=\"text-align: right;\">\n",
       "      <th></th>\n",
       "      <th>max(date)</th>\n",
       "      <th>min(date)</th>\n",
       "      <th>intervale</th>\n",
       "    </tr>\n",
       "  </thead>\n",
       "  <tbody>\n",
       "    <tr>\n",
       "      <th>0</th>\n",
       "      <td>2021-12-31</td>\n",
       "      <td>2017-01-01</td>\n",
       "      <td>1825</td>\n",
       "    </tr>\n",
       "  </tbody>\n",
       "</table>\n",
       "</div>"
      ],
      "text/plain": [
       "    max(date)   min(date)  intervale\n",
       "0  2021-12-31  2017-01-01       1825"
      ]
     },
     "execution_count": 11,
     "metadata": {},
     "output_type": "execute_result"
    }
   ],
   "source": [
    "%time\n",
    "data_intervale = spark.sql(\"SELECT  MAX(date), MIN(date), MAX(date) - MIN(date) as intervale FROM charts\")\n",
    "data_intervale.show()\n",
    "data_intervale_df = data_intervale.toPandas() \n",
    "full_data = data_intervale_df[\"intervale\"][0].days\n",
    "\n",
    "with open(results_path + \"data_intervale.pkl\", \"wb\") as f:\n",
    "    pickle.dump(data_intervale_df, f)\n",
    "\n",
    "df_styled = data_intervale.toPandas()\n",
    "df_styled[\"intervale\"] = full_data\n",
    "df_styled.style.background_gradient()\n",
    "dfi.export(df_styled, images_path + \"data_intervale.png\")\n",
    "df_styled"
   ]
  },
  {
   "cell_type": "markdown",
   "metadata": {},
   "source": [
    "# Afrer clear"
   ]
  },
  {
   "cell_type": "markdown",
   "metadata": {},
   "source": [
    "## integrity ratio by region"
   ]
  },
  {
   "cell_type": "code",
   "execution_count": 48,
   "metadata": {},
   "outputs": [
    {
     "name": "stdout",
     "output_type": "stream",
     "text": [
      "CPU times: user 6 µs, sys: 0 ns, total: 6 µs\n",
      "Wall time: 11 µs\n"
     ]
    },
    {
     "name": "stderr",
     "output_type": "stream",
     "text": [
      "                                                                                \r"
     ]
    },
    {
     "data": {
      "text/html": [
       "<style type=\"text/css\">\n",
       "#T_fe6a7_row0_col1, #T_fe6a7_row0_col2, #T_fe6a7_row1_col1, #T_fe6a7_row1_col2, #T_fe6a7_row2_col1, #T_fe6a7_row2_col2, #T_fe6a7_row3_col1, #T_fe6a7_row3_col2, #T_fe6a7_row3_col3 {\n",
       "  background-color: #023858;\n",
       "  color: #f1f1f1;\n",
       "}\n",
       "#T_fe6a7_row0_col3 {\n",
       "  background-color: #76aad0;\n",
       "  color: #f1f1f1;\n",
       "}\n",
       "#T_fe6a7_row1_col3 {\n",
       "  background-color: #78abd0;\n",
       "  color: #f1f1f1;\n",
       "}\n",
       "#T_fe6a7_row2_col3 {\n",
       "  background-color: #3b92c1;\n",
       "  color: #f1f1f1;\n",
       "}\n",
       "#T_fe6a7_row4_col1, #T_fe6a7_row4_col2 {\n",
       "  background-color: #02395a;\n",
       "  color: #f1f1f1;\n",
       "}\n",
       "#T_fe6a7_row4_col3 {\n",
       "  background-color: #99b8d8;\n",
       "  color: #000000;\n",
       "}\n",
       "#T_fe6a7_row5_col1, #T_fe6a7_row5_col2 {\n",
       "  background-color: #023c5f;\n",
       "  color: #f1f1f1;\n",
       "}\n",
       "#T_fe6a7_row5_col3 {\n",
       "  background-color: #0567a2;\n",
       "  color: #f1f1f1;\n",
       "}\n",
       "#T_fe6a7_row6_col1, #T_fe6a7_row6_col2, #T_fe6a7_row7_col1, #T_fe6a7_row7_col2 {\n",
       "  background-color: #cdd0e5;\n",
       "  color: #000000;\n",
       "}\n",
       "#T_fe6a7_row6_col3 {\n",
       "  background-color: #dad9ea;\n",
       "  color: #000000;\n",
       "}\n",
       "#T_fe6a7_row7_col3 {\n",
       "  background-color: #dedcec;\n",
       "  color: #000000;\n",
       "}\n",
       "#T_fe6a7_row8_col1, #T_fe6a7_row8_col2 {\n",
       "  background-color: #d2d3e7;\n",
       "  color: #000000;\n",
       "}\n",
       "#T_fe6a7_row8_col3 {\n",
       "  background-color: #dbdaeb;\n",
       "  color: #000000;\n",
       "}\n",
       "#T_fe6a7_row9_col1, #T_fe6a7_row9_col2 {\n",
       "  background-color: #e8e4f0;\n",
       "  color: #000000;\n",
       "}\n",
       "#T_fe6a7_row9_col3, #T_fe6a7_row10_col1, #T_fe6a7_row10_col2 {\n",
       "  background-color: #fff7fb;\n",
       "  color: #000000;\n",
       "}\n",
       "#T_fe6a7_row10_col3 {\n",
       "  background-color: #f6eff7;\n",
       "  color: #000000;\n",
       "}\n",
       "</style>\n",
       "<table id=\"T_fe6a7\">\n",
       "  <thead>\n",
       "    <tr>\n",
       "      <th class=\"blank level0\" >&nbsp;</th>\n",
       "      <th id=\"T_fe6a7_level0_col0\" class=\"col_heading level0 col0\" >region</th>\n",
       "      <th id=\"T_fe6a7_level0_col1\" class=\"col_heading level0 col1\" >count</th>\n",
       "      <th id=\"T_fe6a7_level0_col2\" class=\"col_heading level0 col2\" >procent</th>\n",
       "      <th id=\"T_fe6a7_level0_col3\" class=\"col_heading level0 col3\" >artist_count</th>\n",
       "    </tr>\n",
       "  </thead>\n",
       "  <tbody>\n",
       "    <tr>\n",
       "      <th id=\"T_fe6a7_level0_row0\" class=\"row_heading level0 row0\" >0</th>\n",
       "      <td id=\"T_fe6a7_row0_col0\" class=\"data row0 col0\" >Brazil</td>\n",
       "      <td id=\"T_fe6a7_row0_col1\" class=\"data row0 col1\" >364516</td>\n",
       "      <td id=\"T_fe6a7_row0_col2\" class=\"data row0 col2\" >0.998674</td>\n",
       "      <td id=\"T_fe6a7_row0_col3\" class=\"data row0 col3\" >1764</td>\n",
       "    </tr>\n",
       "    <tr>\n",
       "      <th id=\"T_fe6a7_level0_row1\" class=\"row_heading level0 row1\" >1</th>\n",
       "      <td id=\"T_fe6a7_row1_col0\" class=\"data row1 col0\" >Argentina</td>\n",
       "      <td id=\"T_fe6a7_row1_col1\" class=\"data row1 col1\" >364326</td>\n",
       "      <td id=\"T_fe6a7_row1_col2\" class=\"data row1 col2\" >0.998153</td>\n",
       "      <td id=\"T_fe6a7_row1_col3\" class=\"data row1 col3\" >1754</td>\n",
       "    </tr>\n",
       "    <tr>\n",
       "      <th id=\"T_fe6a7_level0_row2\" class=\"row_heading level0 row2\" >2</th>\n",
       "      <td id=\"T_fe6a7_row2_col0\" class=\"data row2 col0\" >United States</td>\n",
       "      <td id=\"T_fe6a7_row2_col1\" class=\"data row2 col1\" >364157</td>\n",
       "      <td id=\"T_fe6a7_row2_col2\" class=\"data row2 col2\" >0.997690</td>\n",
       "      <td id=\"T_fe6a7_row2_col3\" class=\"data row2 col3\" >2068</td>\n",
       "    </tr>\n",
       "    <tr>\n",
       "      <th id=\"T_fe6a7_level0_row3\" class=\"row_heading level0 row3\" >3</th>\n",
       "      <td id=\"T_fe6a7_row3_col0\" class=\"data row3 col0\" >Austria</td>\n",
       "      <td id=\"T_fe6a7_row3_col1\" class=\"data row3 col1\" >363810</td>\n",
       "      <td id=\"T_fe6a7_row3_col2\" class=\"data row3 col2\" >0.996740</td>\n",
       "      <td id=\"T_fe6a7_row3_col3\" class=\"data row3 col3\" >3035</td>\n",
       "    </tr>\n",
       "    <tr>\n",
       "      <th id=\"T_fe6a7_level0_row4\" class=\"row_heading level0 row4\" >4</th>\n",
       "      <td id=\"T_fe6a7_row4_col0\" class=\"data row4 col0\" >Australia</td>\n",
       "      <td id=\"T_fe6a7_row4_col1\" class=\"data row4 col1\" >362181</td>\n",
       "      <td id=\"T_fe6a7_row4_col2\" class=\"data row4 col2\" >0.992277</td>\n",
       "      <td id=\"T_fe6a7_row4_col3\" class=\"data row4 col3\" >1558</td>\n",
       "    </tr>\n",
       "    <tr>\n",
       "      <th id=\"T_fe6a7_level0_row5\" class=\"row_heading level0 row5\" >26</th>\n",
       "      <td id=\"T_fe6a7_row5_col0\" class=\"data row5 col0\" >Poland</td>\n",
       "      <td id=\"T_fe6a7_row5_col1\" class=\"data row5 col1\" >358189</td>\n",
       "      <td id=\"T_fe6a7_row5_col2\" class=\"data row5 col2\" >0.981340</td>\n",
       "      <td id=\"T_fe6a7_row5_col3\" class=\"data row5 col3\" >2528</td>\n",
       "    </tr>\n",
       "    <tr>\n",
       "      <th id=\"T_fe6a7_level0_row6\" class=\"row_heading level0 row6\" >64</th>\n",
       "      <td id=\"T_fe6a7_row6_col0\" class=\"data row6 col0\" >Russia</td>\n",
       "      <td id=\"T_fe6a7_row6_col1\" class=\"data row6 col1\" >100767</td>\n",
       "      <td id=\"T_fe6a7_row6_col2\" class=\"data row6 col2\" >0.276074</td>\n",
       "      <td id=\"T_fe6a7_row6_col3\" class=\"data row6 col3\" >1041</td>\n",
       "    </tr>\n",
       "    <tr>\n",
       "      <th id=\"T_fe6a7_level0_row7\" class=\"row_heading level0 row7\" >65</th>\n",
       "      <td id=\"T_fe6a7_row7_col0\" class=\"data row7 col0\" >Ukraine</td>\n",
       "      <td id=\"T_fe6a7_row7_col1\" class=\"data row7 col1\" >100766</td>\n",
       "      <td id=\"T_fe6a7_row7_col2\" class=\"data row7 col2\" >0.276071</td>\n",
       "      <td id=\"T_fe6a7_row7_col3\" class=\"data row7 col3\" >1010</td>\n",
       "    </tr>\n",
       "    <tr>\n",
       "      <th id=\"T_fe6a7_level0_row8\" class=\"row_heading level0 row8\" >66</th>\n",
       "      <td id=\"T_fe6a7_row8_col0\" class=\"data row8 col0\" >Bulgaria</td>\n",
       "      <td id=\"T_fe6a7_row8_col1\" class=\"data row8 col1\" >94834</td>\n",
       "      <td id=\"T_fe6a7_row8_col2\" class=\"data row8 col2\" >0.259819</td>\n",
       "      <td id=\"T_fe6a7_row8_col3\" class=\"data row8 col3\" >1033</td>\n",
       "    </tr>\n",
       "    <tr>\n",
       "      <th id=\"T_fe6a7_level0_row9\" class=\"row_heading level0 row9\" >67</th>\n",
       "      <td id=\"T_fe6a7_row9_col0\" class=\"data row9 col0\" >South Korea</td>\n",
       "      <td id=\"T_fe6a7_row9_col1\" class=\"data row9 col1\" >59576</td>\n",
       "      <td id=\"T_fe6a7_row9_col2\" class=\"data row9 col2\" >0.163222</td>\n",
       "      <td id=\"T_fe6a7_row9_col3\" class=\"data row9 col3\" >531</td>\n",
       "    </tr>\n",
       "    <tr>\n",
       "      <th id=\"T_fe6a7_level0_row10\" class=\"row_heading level0 row10\" >68</th>\n",
       "      <td id=\"T_fe6a7_row10_col0\" class=\"data row10 col0\" >Luxembourg</td>\n",
       "      <td id=\"T_fe6a7_row10_col1\" class=\"data row10 col1\" >8962</td>\n",
       "      <td id=\"T_fe6a7_row10_col2\" class=\"data row10 col2\" >0.024553</td>\n",
       "      <td id=\"T_fe6a7_row10_col3\" class=\"data row10 col3\" >684</td>\n",
       "    </tr>\n",
       "  </tbody>\n",
       "</table>\n"
      ],
      "text/plain": [
       "<pandas.io.formats.style.Styler at 0x79c37db40520>"
      ]
     },
     "execution_count": 48,
     "metadata": {},
     "output_type": "execute_result"
    }
   ],
   "source": [
    "%time\n",
    "procentag_region = spark.sql(\"\"\"\n",
    "    SELECT region, COUNT(region) as count, COUNT(region) / {} as procent, COUNT( DISTINCT artist) as artist_count\n",
    "    FROM charts\n",
    "    GROUP BY region\n",
    "    ORDER BY count DESC;\"\"\".format(full_data*200))\n",
    "procentag_region = procentag_region.toPandas()\n",
    "\n",
    "with open(results_path + \"procentag_region.pkl\", \"wb\") as f:\n",
    "    pickle.dump(procentag_region, f)\n",
    "\n",
    "procentag_region_filtr = pd.concat([procentag_region.head(5), procentag_region[procentag_region[\"region\"] == \"Poland\"] , procentag_region.tail(5)])\n",
    "df_styled = procentag_region_filtr.style.background_gradient()\n",
    "dfi.export(df_styled, images_path + \"procentag_region.png\")\n",
    "df_styled"
   ]
  },
  {
   "cell_type": "code",
   "execution_count": 18,
   "metadata": {},
   "outputs": [],
   "source": [
    "# df.sample(False, 0.005).toPandas().to_csv(results_path + \"sample_3.csv\", index=False)"
   ]
  },
  {
   "cell_type": "markdown",
   "metadata": {},
   "source": [
    "## artist_counts"
   ]
  },
  {
   "cell_type": "code",
   "execution_count": 47,
   "metadata": {},
   "outputs": [
    {
     "name": "stderr",
     "output_type": "stream",
     "text": [
      "                                                                                \r"
     ]
    }
   ],
   "source": [
    "artist_counts = df.groupBy('artist').agg(count('title').alias('song_count')).orderBy(col('song_count').desc())\n",
    "artist_counts_pd = artist_counts.toPandas()\n",
    "with open(results_path + \"artist_counts.pkl\", \"wb\") as f:\n",
    "    pickle.dump(artist_counts_pd, f)"
   ]
  },
  {
   "cell_type": "code",
   "execution_count": 65,
   "metadata": {},
   "outputs": [
    {
     "name": "stderr",
     "output_type": "stream",
     "text": [
      "                                                                                \r"
     ]
    },
    {
     "data": {
      "text/html": [
       "<div>\n",
       "<style scoped>\n",
       "    .dataframe tbody tr th:only-of-type {\n",
       "        vertical-align: middle;\n",
       "    }\n",
       "\n",
       "    .dataframe tbody tr th {\n",
       "        vertical-align: top;\n",
       "    }\n",
       "\n",
       "    .dataframe thead th {\n",
       "        text-align: right;\n",
       "    }\n",
       "</style>\n",
       "<table border=\"1\" class=\"dataframe\">\n",
       "  <thead>\n",
       "    <tr style=\"text-align: right;\">\n",
       "      <th></th>\n",
       "      <th>artist</th>\n",
       "      <th>region</th>\n",
       "      <th>count</th>\n",
       "    </tr>\n",
       "  </thead>\n",
       "  <tbody>\n",
       "    <tr>\n",
       "      <th>0</th>\n",
       "      <td>Marília Mendonça</td>\n",
       "      <td>Brazil</td>\n",
       "      <td>11059</td>\n",
       "    </tr>\n",
       "    <tr>\n",
       "      <th>1</th>\n",
       "      <td>Juice WRLD</td>\n",
       "      <td>United States</td>\n",
       "      <td>10524</td>\n",
       "    </tr>\n",
       "    <tr>\n",
       "      <th>2</th>\n",
       "      <td>Post Malone</td>\n",
       "      <td>United States</td>\n",
       "      <td>10436</td>\n",
       "    </tr>\n",
       "    <tr>\n",
       "      <th>3</th>\n",
       "      <td>Zé Neto &amp; Cristiano</td>\n",
       "      <td>Brazil</td>\n",
       "      <td>9385</td>\n",
       "    </tr>\n",
       "    <tr>\n",
       "      <th>4</th>\n",
       "      <td>Henrique &amp; Juliano</td>\n",
       "      <td>Brazil</td>\n",
       "      <td>8914</td>\n",
       "    </tr>\n",
       "    <tr>\n",
       "      <th>...</th>\n",
       "      <td>...</td>\n",
       "      <td>...</td>\n",
       "      <td>...</td>\n",
       "    </tr>\n",
       "    <tr>\n",
       "      <th>8109</th>\n",
       "      <td>La Roux</td>\n",
       "      <td>Poland</td>\n",
       "      <td>1</td>\n",
       "    </tr>\n",
       "    <tr>\n",
       "      <th>8110</th>\n",
       "      <td>Soft Cell</td>\n",
       "      <td>United States</td>\n",
       "      <td>1</td>\n",
       "    </tr>\n",
       "    <tr>\n",
       "      <th>8111</th>\n",
       "      <td>Manu Gavassi, Voyou</td>\n",
       "      <td>Brazil</td>\n",
       "      <td>1</td>\n",
       "    </tr>\n",
       "    <tr>\n",
       "      <th>8112</th>\n",
       "      <td>Ellie Nelson</td>\n",
       "      <td>United States</td>\n",
       "      <td>1</td>\n",
       "    </tr>\n",
       "    <tr>\n",
       "      <th>8113</th>\n",
       "      <td>Carlie Hanson</td>\n",
       "      <td>United States</td>\n",
       "      <td>1</td>\n",
       "    </tr>\n",
       "  </tbody>\n",
       "</table>\n",
       "<p>8114 rows × 3 columns</p>\n",
       "</div>"
      ],
      "text/plain": [
       "                   artist         region  count\n",
       "0        Marília Mendonça         Brazil  11059\n",
       "1              Juice WRLD  United States  10524\n",
       "2             Post Malone  United States  10436\n",
       "3     Zé Neto & Cristiano         Brazil   9385\n",
       "4      Henrique & Juliano         Brazil   8914\n",
       "...                   ...            ...    ...\n",
       "8109              La Roux         Poland      1\n",
       "8110            Soft Cell  United States      1\n",
       "8111  Manu Gavassi, Voyou         Brazil      1\n",
       "8112         Ellie Nelson  United States      1\n",
       "8113        Carlie Hanson  United States      1\n",
       "\n",
       "[8114 rows x 3 columns]"
      ]
     },
     "execution_count": 65,
     "metadata": {},
     "output_type": "execute_result"
    }
   ],
   "source": [
    "regions = procentag_region_filtr[:3][\"region\"].to_list()+[\"Poland\"]\n",
    "region_top_artist = spark.sql(\"\"\"\n",
    "    SELECT artist, region, COUNT(artist) as count\n",
    "    FROM charts\n",
    "    WHERE region IN {}\n",
    "    GROUP BY region, artist\n",
    "    ORDER BY count DESC;\n",
    "\"\"\".format(tuple(regions)))\n",
    "region_top_artist_df = region_top_artist.toPandas()\n",
    "with open(results_path + \"region_top_artist.pkl\", \"wb\") as f:\n",
    "    pickle.dump(region_top_artist_df, f)\n",
    "region_top_artist_df"
   ]
  },
  {
   "cell_type": "markdown",
   "metadata": {},
   "source": [
    "## Add year, mont, top 10"
   ]
  },
  {
   "cell_type": "code",
   "execution_count": 85,
   "metadata": {},
   "outputs": [
    {
     "name": "stdout",
     "output_type": "stream",
     "text": [
      "+--------------------+----+----------+--------------------+--------------------+---------+------+-------------+-------+----+-----+-----+\n",
      "|               title|rank|      date|              artist|                 url|   region| chart|        trend|streams|year|month|top10|\n",
      "+--------------------+----+----------+--------------------+--------------------+---------+------+-------------+-------+----+-----+-----+\n",
      "|Chantaje (feat. M...|   1|2017-01-01|             Shakira|https://open.spot...|Argentina|top200|SAME_POSITION| 253019|2017|    1| true|\n",
      "|Vente Pa' Ca (fea...|   2|2017-01-01|        Ricky Martin|https://open.spot...|Argentina|top200|      MOVE_UP| 223988|2017|    1| true|\n",
      "|Reggaetón Lento (...|   3|2017-01-01|                CNCO|https://open.spot...|Argentina|top200|    MOVE_DOWN| 210943|2017|    1| true|\n",
      "|              Safari|   4|2017-01-01|J Balvin, Pharrel...|https://open.spot...|Argentina|top200|SAME_POSITION| 173865|2017|    1| true|\n",
      "|         Shaky Shaky|   5|2017-01-01|        Daddy Yankee|https://open.spot...|Argentina|top200|      MOVE_UP| 153956|2017|    1| true|\n",
      "|         Traicionera|   6|2017-01-01|     Sebastian Yatra|https://open.spot...|Argentina|top200|    MOVE_DOWN| 151140|2017|    1| true|\n",
      "|Cuando Se Pone a ...|   7|2017-01-01|              Rombai|https://open.spot...|Argentina|top200|    MOVE_DOWN| 148369|2017|    1| true|\n",
      "|Otra vez (feat. J...|   8|2017-01-01|       Zion & Lennox|https://open.spot...|Argentina|top200|    MOVE_DOWN| 143004|2017|    1| true|\n",
      "|        La Bicicleta|   9|2017-01-01|Carlos Vives, Sha...|https://open.spot...|Argentina|top200|      MOVE_UP| 126389|2017|    1| true|\n",
      "|Dile Que Tu Me Qu...|  10|2017-01-01|               Ozuna|https://open.spot...|Argentina|top200|    MOVE_DOWN| 112012|2017|    1|false|\n",
      "|  Andas En Mi Cabeza|  11|2017-01-01|Chino & Nacho, Da...|https://open.spot...|Argentina|top200|SAME_POSITION| 110395|2017|    1|false|\n",
      "|Desde Esa Noche (...|  12|2017-01-01|              Thalia|https://open.spot...|Argentina|top200|      MOVE_UP| 104592|2017|    1|false|\n",
      "|      Borro Cassette|  13|2017-01-01|              Maluma|https://open.spot...|Argentina|top200|      MOVE_UP| 101535|2017|    1|false|\n",
      "|Gyal You A Party ...|  14|2017-01-01|Charly Black, Dad...|https://open.spot...|Argentina|top200|    MOVE_DOWN|  99722|2017|    1|false|\n",
      "|Me llamas (feat. ...|  15|2017-01-01|             Piso 21|https://open.spot...|Argentina|top200|    MOVE_DOWN|  95010|2017|    1|false|\n",
      "|La Bicicleta (fea...|  16|2017-01-01|Carlos Vives, Sha...|https://open.spot...|Argentina|top200|      MOVE_UP|  92723|2017|    1|false|\n",
      "|DUELE EL CORAZON ...|  17|2017-01-01|    Enrique Iglesias|https://open.spot...|Argentina|top200|      MOVE_UP|  91325|2017|    1|false|\n",
      "|     Let Me Love You|  18|2017-01-01|DJ Snake, Justin ...|https://open.spot...|Argentina|top200|    MOVE_DOWN|  87926|2017|    1|false|\n",
      "|La Noche No Es pa...|  19|2017-01-01|         Mano Arriba|https://open.spot...|Argentina|top200|SAME_POSITION|  87033|2017|    1|false|\n",
      "|          Vacaciones|  20|2017-01-01|               Wisin|https://open.spot...|Argentina|top200|    MOVE_DOWN|  86103|2017|    1|false|\n",
      "+--------------------+----+----------+--------------------+--------------------+---------+------+-------------+-------+----+-----+-----+\n",
      "only showing top 20 rows\n",
      "\n"
     ]
    }
   ],
   "source": [
    "df_songs = spark.sql(\"\"\"\n",
    "    SELECT title, rank, date, artist, url, region, chart, trend, streams, year(date) as year, month(date) as month, rank<10 as top10\n",
    "    FROM charts;\"\"\")\n",
    "df = df_songs\n",
    "df.show()\n",
    "df.createOrReplaceTempView(\"charts\")"
   ]
  },
  {
   "cell_type": "markdown",
   "metadata": {},
   "source": [
    "## total streams"
   ]
  },
  {
   "cell_type": "code",
   "execution_count": 88,
   "metadata": {},
   "outputs": [
    {
     "name": "stderr",
     "output_type": "stream",
     "text": [
      "                                                                                \r"
     ]
    }
   ],
   "source": [
    "strem_in_years = spark.sql('''\n",
    "SELECT year, month, sum(streams) as streams\n",
    "FROM charts\n",
    "GROUP BY year, month\n",
    "ORDER BY year, month;\n",
    "''')\n",
    "strem_per_yers_pd = strem_in_years.toPandas()\n",
    "with open(results_path + \"strem_per_year.pkl\", \"wb\") as f:\n",
    "    pickle.dump(strem_per_yers_pd, f)"
   ]
  },
  {
   "cell_type": "code",
   "execution_count": 89,
   "metadata": {},
   "outputs": [
    {
     "name": "stderr",
     "output_type": "stream",
     "text": [
      "                                                                                \r"
     ]
    }
   ],
   "source": [
    "most_popoular_aritst_in_year = spark.sql(\"\"\"\n",
    "SELECT year, artist, sum(streams) as streams\n",
    "FROM charts\n",
    "GROUP BY year, artist\n",
    "ORDER BY year, streams DESC;\n",
    "\"\"\")\n",
    "with open(results_path + \"most_popoular_aritst_in_year.pkl\", \"wb\") as f:\n",
    "    pickle.dump(most_popoular_aritst_in_year.toPandas(), f)\n"
   ]
  },
  {
   "cell_type": "code",
   "execution_count": 93,
   "metadata": {},
   "outputs": [
    {
     "name": "stderr",
     "output_type": "stream",
     "text": [
      "                                                                                \r"
     ]
    }
   ],
   "source": [
    "market_share_development = spark.sql(\"\"\"\n",
    "SELECT year, region, sum(streams) as streams\n",
    "FROM charts\n",
    "WHERE region != 'Global'\n",
    "GROUP BY year, region\n",
    "ORDER BY year, region;\n",
    "\"\"\")\n",
    "market_share_development_pd = market_share_development.toPandas()\n",
    "with open(results_path + \"market_share_development.pkl\", \"wb\") as f:\n",
    "    pickle.dump(market_share_development_pd, f)"
   ]
  },
  {
   "cell_type": "code",
   "execution_count": null,
   "metadata": {},
   "outputs": [],
   "source": []
  }
 ],
 "metadata": {
  "kernelspec": {
   "display_name": "Python 3",
   "language": "python",
   "name": "python3"
  },
  "language_info": {
   "codemirror_mode": {
    "name": "ipython",
    "version": 3
   },
   "file_extension": ".py",
   "mimetype": "text/x-python",
   "name": "python",
   "nbconvert_exporter": "python",
   "pygments_lexer": "ipython3",
   "version": "3.10.12"
  }
 },
 "nbformat": 4,
 "nbformat_minor": 2
}
